{
  "nbformat": 4,
  "nbformat_minor": 0,
  "metadata": {
    "colab": {
      "provenance": [],
      "include_colab_link": true
    },
    "kernelspec": {
      "name": "python3",
      "display_name": "Python 3"
    },
    "language_info": {
      "name": "python"
    }
  },
  "cells": [
    {
      "cell_type": "markdown",
      "metadata": {
        "id": "view-in-github",
        "colab_type": "text"
      },
      "source": [
        "<a href=\"https://colab.research.google.com/github/akifkashif/Netflix-Movies-and-TV-shows-Clustering-Project/blob/main/NETFLIX_MOVIES_AND_TV_SHOWS_CLUSTERING.ipynb\" target=\"_parent\"><img src=\"https://colab.research.google.com/assets/colab-badge.svg\" alt=\"Open In Colab\"/></a>"
      ]
    },
    {
      "cell_type": "markdown",
      "metadata": {
        "id": "LGcl5Bv9ed6u"
      },
      "source": [
        "# **Problem Statement**"
      ]
    },
    {
      "cell_type": "markdown",
      "metadata": {
        "id": "8M5kyFaVjzXk"
      },
      "source": [
        "This dataset consists of tv shows and movies available on Netflix as of 2019. The dataset is collected from Flixable which is a third-party Netflix search engine.\n",
        "\n",
        "In 2018, they released an interesting report which shows that the number of TV shows on Netflix has nearly tripled since 2010. The streaming service’s number of movies has decreased by more than 2,000 titles since 2010, while its number of TV shows has nearly tripled. It will be interesting to explore what all other insights can be obtained from the same dataset.\n",
        "\n",
        "Integrating this dataset with other external datasets such as IMDB ratings, rotten tomatoes can also provide many interesting findings."
      ]
    },
    {
      "cell_type": "markdown",
      "metadata": {
        "id": "tLx5cJO8hzb1"
      },
      "source": [
        "## <b>In this  project, you are required to do </b>\n",
        "1. Exploratory Data Analysis \n",
        "\n",
        "2. Understanding what type content is available in different countries\n",
        "\n",
        "3. Is Netflix has increasingly focusing on TV rather than movies in recent years.\n",
        "4. Clustering similar content by matching text-based features\n",
        "\n"
      ]
    },
    {
      "cell_type": "markdown",
      "metadata": {
        "id": "AzGDqdC4fZ-b"
      },
      "source": [
        "# **Attribute Information**"
      ]
    },
    {
      "cell_type": "markdown",
      "metadata": {
        "id": "jhfLYargscGV"
      },
      "source": [
        "1. show_id : Unique ID for every Movie / Tv Show\n",
        "\n",
        "2. type : Identifier - A Movie or TV Show\n",
        "\n",
        "3. title : Title of the Movie / Tv Show\n",
        "\n",
        "4. director : Director of the Movie\n",
        "\n",
        "5. cast : Actors involved in the movie / show\n",
        "\n",
        "6. country : Country where the movie / show was produced\n",
        "\n",
        "7. date_added : Date it was added on Netflix\n",
        "\n",
        "8. release_year : Actual Releaseyear of the movie / show\n",
        "\n",
        "9. rating : TV Rating of the movie / show\n",
        "\n",
        "10. duration : Total Duration - in minutes or number of seasons\n",
        "\n",
        "11. listed_in : Genere\n",
        "\n",
        "12. description: The Summary description"
      ]
    },
    {
      "cell_type": "code",
      "source": [
        "import numpy as np\n",
        "import pandas as pd\n",
        "from numpy import math\n",
        "import seaborn as sns\n",
        "import matplotlib.pyplot as plt\n",
        "%matplotlib inline\n",
        "import matplotlib.ticker as mtick\n",
        "from matplotlib.pyplot import figure\n",
        "import plotly.graph_objects as go\n",
        "import plotly.offline as py\n",
        "import plotly.express as px\n",
        "from datetime import datetime\n",
        "from sklearn.feature_extraction.text import TfidfTransformer\n",
        "from sklearn.feature_extraction.text import CountVectorizer, TfidfVectorizer\n",
        "from nltk.stem.snowball import SnowballStemmer\n",
        "from sklearn.model_selection import train_test_split, KFold\n",
        "\n",
        "import warnings\n",
        "warnings.filterwarnings('ignore')\n"
      ],
      "metadata": {
        "id": "Ms6vmWxT-gS8"
      },
      "execution_count": null,
      "outputs": []
    },
    {
      "cell_type": "code",
      "source": [
        "\n",
        "from google.colab import drive\n",
        "drive.mount('/content/drive')"
      ],
      "metadata": {
        "id": "b7dgMxd--qLJ",
        "outputId": "58064713-082b-4a7c-8d48-0f1995423a69",
        "colab": {
          "base_uri": "https://localhost:8080/"
        }
      },
      "execution_count": null,
      "outputs": [
        {
          "output_type": "stream",
          "name": "stdout",
          "text": [
            "Drive already mounted at /content/drive; to attempt to forcibly remount, call drive.mount(\"/content/drive\", force_remount=True).\n"
          ]
        }
      ]
    },
    {
      "cell_type": "code",
      "source": [
        "df = pd.read_csv('/content/drive/MyDrive/NETFLIX MOVIES AND TV SHOWS CLUSTERING.csv')"
      ],
      "metadata": {
        "id": "Aej8ax2G-sxB"
      },
      "execution_count": null,
      "outputs": []
    },
    {
      "cell_type": "code",
      "source": [
        "df.head()"
      ],
      "metadata": {
        "id": "XuXCCgU6_HJF",
        "outputId": "701010b1-8c7e-4b65-e829-3731f3a6d39d",
        "colab": {
          "base_uri": "https://localhost:8080/",
          "height": 337
        }
      },
      "execution_count": null,
      "outputs": [
        {
          "output_type": "execute_result",
          "data": {
            "text/plain": [
              "  show_id     type  title           director  \\\n",
              "0      s1  TV Show     3%                NaN   \n",
              "1      s2    Movie   7:19  Jorge Michel Grau   \n",
              "2      s3    Movie  23:59       Gilbert Chan   \n",
              "3      s4    Movie      9        Shane Acker   \n",
              "4      s5    Movie     21     Robert Luketic   \n",
              "\n",
              "                                                cast        country  \\\n",
              "0  João Miguel, Bianca Comparato, Michel Gomes, R...         Brazil   \n",
              "1  Demián Bichir, Héctor Bonilla, Oscar Serrano, ...         Mexico   \n",
              "2  Tedd Chan, Stella Chung, Henley Hii, Lawrence ...      Singapore   \n",
              "3  Elijah Wood, John C. Reilly, Jennifer Connelly...  United States   \n",
              "4  Jim Sturgess, Kevin Spacey, Kate Bosworth, Aar...  United States   \n",
              "\n",
              "          date_added  release_year rating   duration  \\\n",
              "0    August 14, 2020          2020  TV-MA  4 Seasons   \n",
              "1  December 23, 2016          2016  TV-MA     93 min   \n",
              "2  December 20, 2018          2011      R     78 min   \n",
              "3  November 16, 2017          2009  PG-13     80 min   \n",
              "4    January 1, 2020          2008  PG-13    123 min   \n",
              "\n",
              "                                           listed_in  \\\n",
              "0  International TV Shows, TV Dramas, TV Sci-Fi &...   \n",
              "1                       Dramas, International Movies   \n",
              "2                Horror Movies, International Movies   \n",
              "3  Action & Adventure, Independent Movies, Sci-Fi...   \n",
              "4                                             Dramas   \n",
              "\n",
              "                                         description  \n",
              "0  In a future where the elite inhabit an island ...  \n",
              "1  After a devastating earthquake hits Mexico Cit...  \n",
              "2  When an army recruit is found dead, his fellow...  \n",
              "3  In a postapocalyptic world, rag-doll robots hi...  \n",
              "4  A brilliant group of students become card-coun...  "
            ],
            "text/html": [
              "\n",
              "  <div id=\"df-81bfd860-6be8-4fbb-a762-4b0db9b5f6ee\">\n",
              "    <div class=\"colab-df-container\">\n",
              "      <div>\n",
              "<style scoped>\n",
              "    .dataframe tbody tr th:only-of-type {\n",
              "        vertical-align: middle;\n",
              "    }\n",
              "\n",
              "    .dataframe tbody tr th {\n",
              "        vertical-align: top;\n",
              "    }\n",
              "\n",
              "    .dataframe thead th {\n",
              "        text-align: right;\n",
              "    }\n",
              "</style>\n",
              "<table border=\"1\" class=\"dataframe\">\n",
              "  <thead>\n",
              "    <tr style=\"text-align: right;\">\n",
              "      <th></th>\n",
              "      <th>show_id</th>\n",
              "      <th>type</th>\n",
              "      <th>title</th>\n",
              "      <th>director</th>\n",
              "      <th>cast</th>\n",
              "      <th>country</th>\n",
              "      <th>date_added</th>\n",
              "      <th>release_year</th>\n",
              "      <th>rating</th>\n",
              "      <th>duration</th>\n",
              "      <th>listed_in</th>\n",
              "      <th>description</th>\n",
              "    </tr>\n",
              "  </thead>\n",
              "  <tbody>\n",
              "    <tr>\n",
              "      <th>0</th>\n",
              "      <td>s1</td>\n",
              "      <td>TV Show</td>\n",
              "      <td>3%</td>\n",
              "      <td>NaN</td>\n",
              "      <td>João Miguel, Bianca Comparato, Michel Gomes, R...</td>\n",
              "      <td>Brazil</td>\n",
              "      <td>August 14, 2020</td>\n",
              "      <td>2020</td>\n",
              "      <td>TV-MA</td>\n",
              "      <td>4 Seasons</td>\n",
              "      <td>International TV Shows, TV Dramas, TV Sci-Fi &amp;...</td>\n",
              "      <td>In a future where the elite inhabit an island ...</td>\n",
              "    </tr>\n",
              "    <tr>\n",
              "      <th>1</th>\n",
              "      <td>s2</td>\n",
              "      <td>Movie</td>\n",
              "      <td>7:19</td>\n",
              "      <td>Jorge Michel Grau</td>\n",
              "      <td>Demián Bichir, Héctor Bonilla, Oscar Serrano, ...</td>\n",
              "      <td>Mexico</td>\n",
              "      <td>December 23, 2016</td>\n",
              "      <td>2016</td>\n",
              "      <td>TV-MA</td>\n",
              "      <td>93 min</td>\n",
              "      <td>Dramas, International Movies</td>\n",
              "      <td>After a devastating earthquake hits Mexico Cit...</td>\n",
              "    </tr>\n",
              "    <tr>\n",
              "      <th>2</th>\n",
              "      <td>s3</td>\n",
              "      <td>Movie</td>\n",
              "      <td>23:59</td>\n",
              "      <td>Gilbert Chan</td>\n",
              "      <td>Tedd Chan, Stella Chung, Henley Hii, Lawrence ...</td>\n",
              "      <td>Singapore</td>\n",
              "      <td>December 20, 2018</td>\n",
              "      <td>2011</td>\n",
              "      <td>R</td>\n",
              "      <td>78 min</td>\n",
              "      <td>Horror Movies, International Movies</td>\n",
              "      <td>When an army recruit is found dead, his fellow...</td>\n",
              "    </tr>\n",
              "    <tr>\n",
              "      <th>3</th>\n",
              "      <td>s4</td>\n",
              "      <td>Movie</td>\n",
              "      <td>9</td>\n",
              "      <td>Shane Acker</td>\n",
              "      <td>Elijah Wood, John C. Reilly, Jennifer Connelly...</td>\n",
              "      <td>United States</td>\n",
              "      <td>November 16, 2017</td>\n",
              "      <td>2009</td>\n",
              "      <td>PG-13</td>\n",
              "      <td>80 min</td>\n",
              "      <td>Action &amp; Adventure, Independent Movies, Sci-Fi...</td>\n",
              "      <td>In a postapocalyptic world, rag-doll robots hi...</td>\n",
              "    </tr>\n",
              "    <tr>\n",
              "      <th>4</th>\n",
              "      <td>s5</td>\n",
              "      <td>Movie</td>\n",
              "      <td>21</td>\n",
              "      <td>Robert Luketic</td>\n",
              "      <td>Jim Sturgess, Kevin Spacey, Kate Bosworth, Aar...</td>\n",
              "      <td>United States</td>\n",
              "      <td>January 1, 2020</td>\n",
              "      <td>2008</td>\n",
              "      <td>PG-13</td>\n",
              "      <td>123 min</td>\n",
              "      <td>Dramas</td>\n",
              "      <td>A brilliant group of students become card-coun...</td>\n",
              "    </tr>\n",
              "  </tbody>\n",
              "</table>\n",
              "</div>\n",
              "      <button class=\"colab-df-convert\" onclick=\"convertToInteractive('df-81bfd860-6be8-4fbb-a762-4b0db9b5f6ee')\"\n",
              "              title=\"Convert this dataframe to an interactive table.\"\n",
              "              style=\"display:none;\">\n",
              "        \n",
              "  <svg xmlns=\"http://www.w3.org/2000/svg\" height=\"24px\"viewBox=\"0 0 24 24\"\n",
              "       width=\"24px\">\n",
              "    <path d=\"M0 0h24v24H0V0z\" fill=\"none\"/>\n",
              "    <path d=\"M18.56 5.44l.94 2.06.94-2.06 2.06-.94-2.06-.94-.94-2.06-.94 2.06-2.06.94zm-11 1L8.5 8.5l.94-2.06 2.06-.94-2.06-.94L8.5 2.5l-.94 2.06-2.06.94zm10 10l.94 2.06.94-2.06 2.06-.94-2.06-.94-.94-2.06-.94 2.06-2.06.94z\"/><path d=\"M17.41 7.96l-1.37-1.37c-.4-.4-.92-.59-1.43-.59-.52 0-1.04.2-1.43.59L10.3 9.45l-7.72 7.72c-.78.78-.78 2.05 0 2.83L4 21.41c.39.39.9.59 1.41.59.51 0 1.02-.2 1.41-.59l7.78-7.78 2.81-2.81c.8-.78.8-2.07 0-2.86zM5.41 20L4 18.59l7.72-7.72 1.47 1.35L5.41 20z\"/>\n",
              "  </svg>\n",
              "      </button>\n",
              "      \n",
              "  <style>\n",
              "    .colab-df-container {\n",
              "      display:flex;\n",
              "      flex-wrap:wrap;\n",
              "      gap: 12px;\n",
              "    }\n",
              "\n",
              "    .colab-df-convert {\n",
              "      background-color: #E8F0FE;\n",
              "      border: none;\n",
              "      border-radius: 50%;\n",
              "      cursor: pointer;\n",
              "      display: none;\n",
              "      fill: #1967D2;\n",
              "      height: 32px;\n",
              "      padding: 0 0 0 0;\n",
              "      width: 32px;\n",
              "    }\n",
              "\n",
              "    .colab-df-convert:hover {\n",
              "      background-color: #E2EBFA;\n",
              "      box-shadow: 0px 1px 2px rgba(60, 64, 67, 0.3), 0px 1px 3px 1px rgba(60, 64, 67, 0.15);\n",
              "      fill: #174EA6;\n",
              "    }\n",
              "\n",
              "    [theme=dark] .colab-df-convert {\n",
              "      background-color: #3B4455;\n",
              "      fill: #D2E3FC;\n",
              "    }\n",
              "\n",
              "    [theme=dark] .colab-df-convert:hover {\n",
              "      background-color: #434B5C;\n",
              "      box-shadow: 0px 1px 3px 1px rgba(0, 0, 0, 0.15);\n",
              "      filter: drop-shadow(0px 1px 2px rgba(0, 0, 0, 0.3));\n",
              "      fill: #FFFFFF;\n",
              "    }\n",
              "  </style>\n",
              "\n",
              "      <script>\n",
              "        const buttonEl =\n",
              "          document.querySelector('#df-81bfd860-6be8-4fbb-a762-4b0db9b5f6ee button.colab-df-convert');\n",
              "        buttonEl.style.display =\n",
              "          google.colab.kernel.accessAllowed ? 'block' : 'none';\n",
              "\n",
              "        async function convertToInteractive(key) {\n",
              "          const element = document.querySelector('#df-81bfd860-6be8-4fbb-a762-4b0db9b5f6ee');\n",
              "          const dataTable =\n",
              "            await google.colab.kernel.invokeFunction('convertToInteractive',\n",
              "                                                     [key], {});\n",
              "          if (!dataTable) return;\n",
              "\n",
              "          const docLinkHtml = 'Like what you see? Visit the ' +\n",
              "            '<a target=\"_blank\" href=https://colab.research.google.com/notebooks/data_table.ipynb>data table notebook</a>'\n",
              "            + ' to learn more about interactive tables.';\n",
              "          element.innerHTML = '';\n",
              "          dataTable['output_type'] = 'display_data';\n",
              "          await google.colab.output.renderOutput(dataTable, element);\n",
              "          const docLink = document.createElement('div');\n",
              "          docLink.innerHTML = docLinkHtml;\n",
              "          element.appendChild(docLink);\n",
              "        }\n",
              "      </script>\n",
              "    </div>\n",
              "  </div>\n",
              "  "
            ]
          },
          "metadata": {},
          "execution_count": 6
        }
      ]
    },
    {
      "cell_type": "code",
      "source": [
        "df.describe(include = 'all')"
      ],
      "metadata": {
        "id": "XlgzYcVCB4Gi",
        "outputId": "6791b6cf-3f52-4b26-d7ff-3467ea6a14b9",
        "colab": {
          "base_uri": "https://localhost:8080/",
          "height": 456
        }
      },
      "execution_count": null,
      "outputs": [
        {
          "output_type": "execute_result",
          "data": {
            "text/plain": [
              "       show_id   type title                director                cast  \\\n",
              "count     7787   7787  7787                    5398                7069   \n",
              "unique    7787      2  7787                    4049                6831   \n",
              "top         s1  Movie    3%  Raúl Campos, Jan Suter  David Attenborough   \n",
              "freq         1   5377     1                      18                  18   \n",
              "mean       NaN    NaN   NaN                     NaN                 NaN   \n",
              "std        NaN    NaN   NaN                     NaN                 NaN   \n",
              "min        NaN    NaN   NaN                     NaN                 NaN   \n",
              "25%        NaN    NaN   NaN                     NaN                 NaN   \n",
              "50%        NaN    NaN   NaN                     NaN                 NaN   \n",
              "75%        NaN    NaN   NaN                     NaN                 NaN   \n",
              "max        NaN    NaN   NaN                     NaN                 NaN   \n",
              "\n",
              "              country       date_added  release_year rating  duration  \\\n",
              "count            7280             7777   7787.000000   7780      7787   \n",
              "unique            681             1565           NaN     14       216   \n",
              "top     United States  January 1, 2020           NaN  TV-MA  1 Season   \n",
              "freq             2555              118           NaN   2863      1608   \n",
              "mean              NaN              NaN   2013.932580    NaN       NaN   \n",
              "std               NaN              NaN      8.757395    NaN       NaN   \n",
              "min               NaN              NaN   1925.000000    NaN       NaN   \n",
              "25%               NaN              NaN   2013.000000    NaN       NaN   \n",
              "50%               NaN              NaN   2017.000000    NaN       NaN   \n",
              "75%               NaN              NaN   2018.000000    NaN       NaN   \n",
              "max               NaN              NaN   2021.000000    NaN       NaN   \n",
              "\n",
              "            listed_in                                        description  \n",
              "count            7787                                               7787  \n",
              "unique            492                                               7769  \n",
              "top     Documentaries  Multiple women report their husbands as missin...  \n",
              "freq              334                                                  3  \n",
              "mean              NaN                                                NaN  \n",
              "std               NaN                                                NaN  \n",
              "min               NaN                                                NaN  \n",
              "25%               NaN                                                NaN  \n",
              "50%               NaN                                                NaN  \n",
              "75%               NaN                                                NaN  \n",
              "max               NaN                                                NaN  "
            ],
            "text/html": [
              "\n",
              "  <div id=\"df-7feef82b-a54f-4bcc-8c05-3f437a2099b2\">\n",
              "    <div class=\"colab-df-container\">\n",
              "      <div>\n",
              "<style scoped>\n",
              "    .dataframe tbody tr th:only-of-type {\n",
              "        vertical-align: middle;\n",
              "    }\n",
              "\n",
              "    .dataframe tbody tr th {\n",
              "        vertical-align: top;\n",
              "    }\n",
              "\n",
              "    .dataframe thead th {\n",
              "        text-align: right;\n",
              "    }\n",
              "</style>\n",
              "<table border=\"1\" class=\"dataframe\">\n",
              "  <thead>\n",
              "    <tr style=\"text-align: right;\">\n",
              "      <th></th>\n",
              "      <th>show_id</th>\n",
              "      <th>type</th>\n",
              "      <th>title</th>\n",
              "      <th>director</th>\n",
              "      <th>cast</th>\n",
              "      <th>country</th>\n",
              "      <th>date_added</th>\n",
              "      <th>release_year</th>\n",
              "      <th>rating</th>\n",
              "      <th>duration</th>\n",
              "      <th>listed_in</th>\n",
              "      <th>description</th>\n",
              "    </tr>\n",
              "  </thead>\n",
              "  <tbody>\n",
              "    <tr>\n",
              "      <th>count</th>\n",
              "      <td>7787</td>\n",
              "      <td>7787</td>\n",
              "      <td>7787</td>\n",
              "      <td>5398</td>\n",
              "      <td>7069</td>\n",
              "      <td>7280</td>\n",
              "      <td>7777</td>\n",
              "      <td>7787.000000</td>\n",
              "      <td>7780</td>\n",
              "      <td>7787</td>\n",
              "      <td>7787</td>\n",
              "      <td>7787</td>\n",
              "    </tr>\n",
              "    <tr>\n",
              "      <th>unique</th>\n",
              "      <td>7787</td>\n",
              "      <td>2</td>\n",
              "      <td>7787</td>\n",
              "      <td>4049</td>\n",
              "      <td>6831</td>\n",
              "      <td>681</td>\n",
              "      <td>1565</td>\n",
              "      <td>NaN</td>\n",
              "      <td>14</td>\n",
              "      <td>216</td>\n",
              "      <td>492</td>\n",
              "      <td>7769</td>\n",
              "    </tr>\n",
              "    <tr>\n",
              "      <th>top</th>\n",
              "      <td>s1</td>\n",
              "      <td>Movie</td>\n",
              "      <td>3%</td>\n",
              "      <td>Raúl Campos, Jan Suter</td>\n",
              "      <td>David Attenborough</td>\n",
              "      <td>United States</td>\n",
              "      <td>January 1, 2020</td>\n",
              "      <td>NaN</td>\n",
              "      <td>TV-MA</td>\n",
              "      <td>1 Season</td>\n",
              "      <td>Documentaries</td>\n",
              "      <td>Multiple women report their husbands as missin...</td>\n",
              "    </tr>\n",
              "    <tr>\n",
              "      <th>freq</th>\n",
              "      <td>1</td>\n",
              "      <td>5377</td>\n",
              "      <td>1</td>\n",
              "      <td>18</td>\n",
              "      <td>18</td>\n",
              "      <td>2555</td>\n",
              "      <td>118</td>\n",
              "      <td>NaN</td>\n",
              "      <td>2863</td>\n",
              "      <td>1608</td>\n",
              "      <td>334</td>\n",
              "      <td>3</td>\n",
              "    </tr>\n",
              "    <tr>\n",
              "      <th>mean</th>\n",
              "      <td>NaN</td>\n",
              "      <td>NaN</td>\n",
              "      <td>NaN</td>\n",
              "      <td>NaN</td>\n",
              "      <td>NaN</td>\n",
              "      <td>NaN</td>\n",
              "      <td>NaN</td>\n",
              "      <td>2013.932580</td>\n",
              "      <td>NaN</td>\n",
              "      <td>NaN</td>\n",
              "      <td>NaN</td>\n",
              "      <td>NaN</td>\n",
              "    </tr>\n",
              "    <tr>\n",
              "      <th>std</th>\n",
              "      <td>NaN</td>\n",
              "      <td>NaN</td>\n",
              "      <td>NaN</td>\n",
              "      <td>NaN</td>\n",
              "      <td>NaN</td>\n",
              "      <td>NaN</td>\n",
              "      <td>NaN</td>\n",
              "      <td>8.757395</td>\n",
              "      <td>NaN</td>\n",
              "      <td>NaN</td>\n",
              "      <td>NaN</td>\n",
              "      <td>NaN</td>\n",
              "    </tr>\n",
              "    <tr>\n",
              "      <th>min</th>\n",
              "      <td>NaN</td>\n",
              "      <td>NaN</td>\n",
              "      <td>NaN</td>\n",
              "      <td>NaN</td>\n",
              "      <td>NaN</td>\n",
              "      <td>NaN</td>\n",
              "      <td>NaN</td>\n",
              "      <td>1925.000000</td>\n",
              "      <td>NaN</td>\n",
              "      <td>NaN</td>\n",
              "      <td>NaN</td>\n",
              "      <td>NaN</td>\n",
              "    </tr>\n",
              "    <tr>\n",
              "      <th>25%</th>\n",
              "      <td>NaN</td>\n",
              "      <td>NaN</td>\n",
              "      <td>NaN</td>\n",
              "      <td>NaN</td>\n",
              "      <td>NaN</td>\n",
              "      <td>NaN</td>\n",
              "      <td>NaN</td>\n",
              "      <td>2013.000000</td>\n",
              "      <td>NaN</td>\n",
              "      <td>NaN</td>\n",
              "      <td>NaN</td>\n",
              "      <td>NaN</td>\n",
              "    </tr>\n",
              "    <tr>\n",
              "      <th>50%</th>\n",
              "      <td>NaN</td>\n",
              "      <td>NaN</td>\n",
              "      <td>NaN</td>\n",
              "      <td>NaN</td>\n",
              "      <td>NaN</td>\n",
              "      <td>NaN</td>\n",
              "      <td>NaN</td>\n",
              "      <td>2017.000000</td>\n",
              "      <td>NaN</td>\n",
              "      <td>NaN</td>\n",
              "      <td>NaN</td>\n",
              "      <td>NaN</td>\n",
              "    </tr>\n",
              "    <tr>\n",
              "      <th>75%</th>\n",
              "      <td>NaN</td>\n",
              "      <td>NaN</td>\n",
              "      <td>NaN</td>\n",
              "      <td>NaN</td>\n",
              "      <td>NaN</td>\n",
              "      <td>NaN</td>\n",
              "      <td>NaN</td>\n",
              "      <td>2018.000000</td>\n",
              "      <td>NaN</td>\n",
              "      <td>NaN</td>\n",
              "      <td>NaN</td>\n",
              "      <td>NaN</td>\n",
              "    </tr>\n",
              "    <tr>\n",
              "      <th>max</th>\n",
              "      <td>NaN</td>\n",
              "      <td>NaN</td>\n",
              "      <td>NaN</td>\n",
              "      <td>NaN</td>\n",
              "      <td>NaN</td>\n",
              "      <td>NaN</td>\n",
              "      <td>NaN</td>\n",
              "      <td>2021.000000</td>\n",
              "      <td>NaN</td>\n",
              "      <td>NaN</td>\n",
              "      <td>NaN</td>\n",
              "      <td>NaN</td>\n",
              "    </tr>\n",
              "  </tbody>\n",
              "</table>\n",
              "</div>\n",
              "      <button class=\"colab-df-convert\" onclick=\"convertToInteractive('df-7feef82b-a54f-4bcc-8c05-3f437a2099b2')\"\n",
              "              title=\"Convert this dataframe to an interactive table.\"\n",
              "              style=\"display:none;\">\n",
              "        \n",
              "  <svg xmlns=\"http://www.w3.org/2000/svg\" height=\"24px\"viewBox=\"0 0 24 24\"\n",
              "       width=\"24px\">\n",
              "    <path d=\"M0 0h24v24H0V0z\" fill=\"none\"/>\n",
              "    <path d=\"M18.56 5.44l.94 2.06.94-2.06 2.06-.94-2.06-.94-.94-2.06-.94 2.06-2.06.94zm-11 1L8.5 8.5l.94-2.06 2.06-.94-2.06-.94L8.5 2.5l-.94 2.06-2.06.94zm10 10l.94 2.06.94-2.06 2.06-.94-2.06-.94-.94-2.06-.94 2.06-2.06.94z\"/><path d=\"M17.41 7.96l-1.37-1.37c-.4-.4-.92-.59-1.43-.59-.52 0-1.04.2-1.43.59L10.3 9.45l-7.72 7.72c-.78.78-.78 2.05 0 2.83L4 21.41c.39.39.9.59 1.41.59.51 0 1.02-.2 1.41-.59l7.78-7.78 2.81-2.81c.8-.78.8-2.07 0-2.86zM5.41 20L4 18.59l7.72-7.72 1.47 1.35L5.41 20z\"/>\n",
              "  </svg>\n",
              "      </button>\n",
              "      \n",
              "  <style>\n",
              "    .colab-df-container {\n",
              "      display:flex;\n",
              "      flex-wrap:wrap;\n",
              "      gap: 12px;\n",
              "    }\n",
              "\n",
              "    .colab-df-convert {\n",
              "      background-color: #E8F0FE;\n",
              "      border: none;\n",
              "      border-radius: 50%;\n",
              "      cursor: pointer;\n",
              "      display: none;\n",
              "      fill: #1967D2;\n",
              "      height: 32px;\n",
              "      padding: 0 0 0 0;\n",
              "      width: 32px;\n",
              "    }\n",
              "\n",
              "    .colab-df-convert:hover {\n",
              "      background-color: #E2EBFA;\n",
              "      box-shadow: 0px 1px 2px rgba(60, 64, 67, 0.3), 0px 1px 3px 1px rgba(60, 64, 67, 0.15);\n",
              "      fill: #174EA6;\n",
              "    }\n",
              "\n",
              "    [theme=dark] .colab-df-convert {\n",
              "      background-color: #3B4455;\n",
              "      fill: #D2E3FC;\n",
              "    }\n",
              "\n",
              "    [theme=dark] .colab-df-convert:hover {\n",
              "      background-color: #434B5C;\n",
              "      box-shadow: 0px 1px 3px 1px rgba(0, 0, 0, 0.15);\n",
              "      filter: drop-shadow(0px 1px 2px rgba(0, 0, 0, 0.3));\n",
              "      fill: #FFFFFF;\n",
              "    }\n",
              "  </style>\n",
              "\n",
              "      <script>\n",
              "        const buttonEl =\n",
              "          document.querySelector('#df-7feef82b-a54f-4bcc-8c05-3f437a2099b2 button.colab-df-convert');\n",
              "        buttonEl.style.display =\n",
              "          google.colab.kernel.accessAllowed ? 'block' : 'none';\n",
              "\n",
              "        async function convertToInteractive(key) {\n",
              "          const element = document.querySelector('#df-7feef82b-a54f-4bcc-8c05-3f437a2099b2');\n",
              "          const dataTable =\n",
              "            await google.colab.kernel.invokeFunction('convertToInteractive',\n",
              "                                                     [key], {});\n",
              "          if (!dataTable) return;\n",
              "\n",
              "          const docLinkHtml = 'Like what you see? Visit the ' +\n",
              "            '<a target=\"_blank\" href=https://colab.research.google.com/notebooks/data_table.ipynb>data table notebook</a>'\n",
              "            + ' to learn more about interactive tables.';\n",
              "          element.innerHTML = '';\n",
              "          dataTable['output_type'] = 'display_data';\n",
              "          await google.colab.output.renderOutput(dataTable, element);\n",
              "          const docLink = document.createElement('div');\n",
              "          docLink.innerHTML = docLinkHtml;\n",
              "          element.appendChild(docLink);\n",
              "        }\n",
              "      </script>\n",
              "    </div>\n",
              "  </div>\n",
              "  "
            ]
          },
          "metadata": {},
          "execution_count": 7
        }
      ]
    },
    {
      "cell_type": "code",
      "source": [
        "df.info()"
      ],
      "metadata": {
        "id": "g754xUobCHja",
        "outputId": "ac6c5b46-876c-4fe3-b358-aa45964322a0",
        "colab": {
          "base_uri": "https://localhost:8080/"
        }
      },
      "execution_count": null,
      "outputs": [
        {
          "output_type": "stream",
          "name": "stdout",
          "text": [
            "<class 'pandas.core.frame.DataFrame'>\n",
            "RangeIndex: 7787 entries, 0 to 7786\n",
            "Data columns (total 12 columns):\n",
            " #   Column        Non-Null Count  Dtype \n",
            "---  ------        --------------  ----- \n",
            " 0   show_id       7787 non-null   object\n",
            " 1   type          7787 non-null   object\n",
            " 2   title         7787 non-null   object\n",
            " 3   director      5398 non-null   object\n",
            " 4   cast          7069 non-null   object\n",
            " 5   country       7280 non-null   object\n",
            " 6   date_added    7777 non-null   object\n",
            " 7   release_year  7787 non-null   int64 \n",
            " 8   rating        7780 non-null   object\n",
            " 9   duration      7787 non-null   object\n",
            " 10  listed_in     7787 non-null   object\n",
            " 11  description   7787 non-null   object\n",
            "dtypes: int64(1), object(11)\n",
            "memory usage: 730.2+ KB\n"
          ]
        }
      ]
    },
    {
      "cell_type": "markdown",
      "source": [
        "***There are missing values in columns Director, Cast, Country, Rating***."
      ],
      "metadata": {
        "id": "q3mVJ7SuG1QH"
      }
    },
    {
      "cell_type": "code",
      "source": [
        "df.shape"
      ],
      "metadata": {
        "id": "F9A85_YqGkVs",
        "outputId": "039ed67e-d8db-4c77-cc44-c05b5c4e57df",
        "colab": {
          "base_uri": "https://localhost:8080/"
        }
      },
      "execution_count": null,
      "outputs": [
        {
          "output_type": "execute_result",
          "data": {
            "text/plain": [
              "(7787, 12)"
            ]
          },
          "metadata": {},
          "execution_count": 9
        }
      ]
    },
    {
      "cell_type": "code",
      "source": [
        "df['type'].value_counts()[1]"
      ],
      "metadata": {
        "colab": {
          "base_uri": "https://localhost:8080/"
        },
        "id": "uaxDlapna4vg",
        "outputId": "49a67884-fdec-4b87-f80d-4d312c2b0503"
      },
      "execution_count": null,
      "outputs": [
        {
          "output_type": "execute_result",
          "data": {
            "text/plain": [
              "2410"
            ]
          },
          "metadata": {},
          "execution_count": 10
        }
      ]
    },
    {
      "cell_type": "code",
      "source": [
        "df['type'].value_counts().plot(kind='bar')"
      ],
      "metadata": {
        "id": "ge3nlUt4H8Y_",
        "outputId": "b8a35687-f139-4b5d-a67a-50557029e5b8",
        "colab": {
          "base_uri": "https://localhost:8080/",
          "height": 316
        }
      },
      "execution_count": null,
      "outputs": [
        {
          "output_type": "execute_result",
          "data": {
            "text/plain": [
              "<matplotlib.axes._subplots.AxesSubplot at 0x7f6d2382e460>"
            ]
          },
          "metadata": {},
          "execution_count": 11
        },
        {
          "output_type": "display_data",
          "data": {
            "text/plain": [
              "<Figure size 432x288 with 1 Axes>"
            ],
            "image/png": "[encoded data removed]"
          },
          "metadata": {
            "needs_background": "light"
          }
        }
      ]
    },
    {
      "cell_type": "markdown",
      "source": [
        "***There are more number of movies in Netflix than TVshows.***"
      ],
      "metadata": {
        "id": "9I_r56qMJGIr"
      }
    },
    {
      "cell_type": "code",
      "source": [
        "df['title'].nunique()"
      ],
      "metadata": {
        "id": "fqbamFmfHVpa",
        "outputId": "0d583f3b-1a54-44bd-8e42-1838a8cdff17",
        "colab": {
          "base_uri": "https://localhost:8080/"
        }
      },
      "execution_count": null,
      "outputs": [
        {
          "output_type": "execute_result",
          "data": {
            "text/plain": [
              "7787"
            ]
          },
          "metadata": {},
          "execution_count": 12
        }
      ]
    },
    {
      "cell_type": "code",
      "source": [
        "\n",
        "Dublicates=df[df.duplicated()]\n",
        "print(f'The Dublicate Values in Dataframe: ')\n",
        "Dublicates\n",
        "     "
      ],
      "metadata": {
        "id": "0lOHfdALJU6C",
        "outputId": "11ec99ea-ed1f-420c-b0db-0a15eb022458",
        "colab": {
          "base_uri": "https://localhost:8080/",
          "height": 68
        }
      },
      "execution_count": null,
      "outputs": [
        {
          "output_type": "stream",
          "name": "stdout",
          "text": [
            "The Dublicate Values in Dataframe: \n"
          ]
        },
        {
          "output_type": "execute_result",
          "data": {
            "text/plain": [
              "Empty DataFrame\n",
              "Columns: [show_id, type, title, director, cast, country, date_added, release_year, rating, duration, listed_in, description]\n",
              "Index: []"
            ],
            "text/html": [
              "\n",
              "  <div id=\"df-9f491d11-3c1e-4b5b-9ec3-68d56c2eda11\">\n",
              "    <div class=\"colab-df-container\">\n",
              "      <div>\n",
              "<style scoped>\n",
              "    .dataframe tbody tr th:only-of-type {\n",
              "        vertical-align: middle;\n",
              "    }\n",
              "\n",
              "    .dataframe tbody tr th {\n",
              "        vertical-align: top;\n",
              "    }\n",
              "\n",
              "    .dataframe thead th {\n",
              "        text-align: right;\n",
              "    }\n",
              "</style>\n",
              "<table border=\"1\" class=\"dataframe\">\n",
              "  <thead>\n",
              "    <tr style=\"text-align: right;\">\n",
              "      <th></th>\n",
              "      <th>show_id</th>\n",
              "      <th>type</th>\n",
              "      <th>title</th>\n",
              "      <th>director</th>\n",
              "      <th>cast</th>\n",
              "      <th>country</th>\n",
              "      <th>date_added</th>\n",
              "      <th>release_year</th>\n",
              "      <th>rating</th>\n",
              "      <th>duration</th>\n",
              "      <th>listed_in</th>\n",
              "      <th>description</th>\n",
              "    </tr>\n",
              "  </thead>\n",
              "  <tbody>\n",
              "  </tbody>\n",
              "</table>\n",
              "</div>\n",
              "      <button class=\"colab-df-convert\" onclick=\"convertToInteractive('df-9f491d11-3c1e-4b5b-9ec3-68d56c2eda11')\"\n",
              "              title=\"Convert this dataframe to an interactive table.\"\n",
              "              style=\"display:none;\">\n",
              "        \n",
              "  <svg xmlns=\"http://www.w3.org/2000/svg\" height=\"24px\"viewBox=\"0 0 24 24\"\n",
              "       width=\"24px\">\n",
              "    <path d=\"M0 0h24v24H0V0z\" fill=\"none\"/>\n",
              "    <path d=\"M18.56 5.44l.94 2.06.94-2.06 2.06-.94-2.06-.94-.94-2.06-.94 2.06-2.06.94zm-11 1L8.5 8.5l.94-2.06 2.06-.94-2.06-.94L8.5 2.5l-.94 2.06-2.06.94zm10 10l.94 2.06.94-2.06 2.06-.94-2.06-.94-.94-2.06-.94 2.06-2.06.94z\"/><path d=\"M17.41 7.96l-1.37-1.37c-.4-.4-.92-.59-1.43-.59-.52 0-1.04.2-1.43.59L10.3 9.45l-7.72 7.72c-.78.78-.78 2.05 0 2.83L4 21.41c.39.39.9.59 1.41.59.51 0 1.02-.2 1.41-.59l7.78-7.78 2.81-2.81c.8-.78.8-2.07 0-2.86zM5.41 20L4 18.59l7.72-7.72 1.47 1.35L5.41 20z\"/>\n",
              "  </svg>\n",
              "      </button>\n",
              "      \n",
              "  <style>\n",
              "    .colab-df-container {\n",
              "      display:flex;\n",
              "      flex-wrap:wrap;\n",
              "      gap: 12px;\n",
              "    }\n",
              "\n",
              "    .colab-df-convert {\n",
              "      background-color: #E8F0FE;\n",
              "      border: none;\n",
              "      border-radius: 50%;\n",
              "      cursor: pointer;\n",
              "      display: none;\n",
              "      fill: #1967D2;\n",
              "      height: 32px;\n",
              "      padding: 0 0 0 0;\n",
              "      width: 32px;\n",
              "    }\n",
              "\n",
              "    .colab-df-convert:hover {\n",
              "      background-color: #E2EBFA;\n",
              "      box-shadow: 0px 1px 2px rgba(60, 64, 67, 0.3), 0px 1px 3px 1px rgba(60, 64, 67, 0.15);\n",
              "      fill: #174EA6;\n",
              "    }\n",
              "\n",
              "    [theme=dark] .colab-df-convert {\n",
              "      background-color: #3B4455;\n",
              "      fill: #D2E3FC;\n",
              "    }\n",
              "\n",
              "    [theme=dark] .colab-df-convert:hover {\n",
              "      background-color: #434B5C;\n",
              "      box-shadow: 0px 1px 3px 1px rgba(0, 0, 0, 0.15);\n",
              "      filter: drop-shadow(0px 1px 2px rgba(0, 0, 0, 0.3));\n",
              "      fill: #FFFFFF;\n",
              "    }\n",
              "  </style>\n",
              "\n",
              "      <script>\n",
              "        const buttonEl =\n",
              "          document.querySelector('#df-9f491d11-3c1e-4b5b-9ec3-68d56c2eda11 button.colab-df-convert');\n",
              "        buttonEl.style.display =\n",
              "          google.colab.kernel.accessAllowed ? 'block' : 'none';\n",
              "\n",
              "        async function convertToInteractive(key) {\n",
              "          const element = document.querySelector('#df-9f491d11-3c1e-4b5b-9ec3-68d56c2eda11');\n",
              "          const dataTable =\n",
              "            await google.colab.kernel.invokeFunction('convertToInteractive',\n",
              "                                                     [key], {});\n",
              "          if (!dataTable) return;\n",
              "\n",
              "          const docLinkHtml = 'Like what you see? Visit the ' +\n",
              "            '<a target=\"_blank\" href=https://colab.research.google.com/notebooks/data_table.ipynb>data table notebook</a>'\n",
              "            + ' to learn more about interactive tables.';\n",
              "          element.innerHTML = '';\n",
              "          dataTable['output_type'] = 'display_data';\n",
              "          await google.colab.output.renderOutput(dataTable, element);\n",
              "          const docLink = document.createElement('div');\n",
              "          docLink.innerHTML = docLinkHtml;\n",
              "          element.appendChild(docLink);\n",
              "        }\n",
              "      </script>\n",
              "    </div>\n",
              "  </div>\n",
              "  "
            ]
          },
          "metadata": {},
          "execution_count": 13
        }
      ]
    },
    {
      "cell_type": "markdown",
      "source": [
        "***There are no duplicate values in the dataframe.***"
      ],
      "metadata": {
        "id": "2ogIqwJjK4MO"
      }
    },
    {
      "cell_type": "code",
      "source": [
        "df.isna().sum()"
      ],
      "metadata": {
        "id": "9urNt1BpK01L",
        "outputId": "25001529-103c-4f16-8169-995b9c8e096f",
        "colab": {
          "base_uri": "https://localhost:8080/"
        }
      },
      "execution_count": null,
      "outputs": [
        {
          "output_type": "execute_result",
          "data": {
            "text/plain": [
              "show_id            0\n",
              "type               0\n",
              "title              0\n",
              "director        2389\n",
              "cast             718\n",
              "country          507\n",
              "date_added        10\n",
              "release_year       0\n",
              "rating             7\n",
              "duration           0\n",
              "listed_in          0\n",
              "description        0\n",
              "dtype: int64"
            ]
          },
          "metadata": {},
          "execution_count": 14
        }
      ]
    },
    {
      "cell_type": "markdown",
      "source": [
        "***There are null values in director, cast, country, release year, rating columns.***"
      ],
      "metadata": {
        "id": "1EQ5p6RxJJ3w"
      }
    },
    {
      "cell_type": "code",
      "source": [
        "df['country'] = df['country'].fillna(df['country'].mode().values[0])"
      ],
      "metadata": {
        "id": "oRzC1H6aLE_l"
      },
      "execution_count": null,
      "outputs": []
    },
    {
      "cell_type": "code",
      "source": [
        "df['cast'].fillna(value='No cast',inplace=True)"
      ],
      "metadata": {
        "id": "vj2j5RyLboc2"
      },
      "execution_count": null,
      "outputs": []
    },
    {
      "cell_type": "code",
      "source": [
        "df.dropna(subset=['date_added','rating'],inplace=True)"
      ],
      "metadata": {
        "id": "nMfu6XxqLiCd"
      },
      "execution_count": null,
      "outputs": []
    },
    {
      "cell_type": "code",
      "source": [
        "df.head()"
      ],
      "metadata": {
        "id": "Fa3HhIs-L8Vp",
        "outputId": "28ccf1c1-0b61-4323-d726-49d329b82673",
        "colab": {
          "base_uri": "https://localhost:8080/",
          "height": 337
        }
      },
      "execution_count": null,
      "outputs": [
        {
          "output_type": "execute_result",
          "data": {
            "text/plain": [
              "  show_id     type  title           director  \\\n",
              "0      s1  TV Show     3%                NaN   \n",
              "1      s2    Movie   7:19  Jorge Michel Grau   \n",
              "2      s3    Movie  23:59       Gilbert Chan   \n",
              "3      s4    Movie      9        Shane Acker   \n",
              "4      s5    Movie     21     Robert Luketic   \n",
              "\n",
              "                                                cast        country  \\\n",
              "0  João Miguel, Bianca Comparato, Michel Gomes, R...         Brazil   \n",
              "1  Demián Bichir, Héctor Bonilla, Oscar Serrano, ...         Mexico   \n",
              "2  Tedd Chan, Stella Chung, Henley Hii, Lawrence ...      Singapore   \n",
              "3  Elijah Wood, John C. Reilly, Jennifer Connelly...  United States   \n",
              "4  Jim Sturgess, Kevin Spacey, Kate Bosworth, Aar...  United States   \n",
              "\n",
              "          date_added  release_year rating   duration  \\\n",
              "0    August 14, 2020          2020  TV-MA  4 Seasons   \n",
              "1  December 23, 2016          2016  TV-MA     93 min   \n",
              "2  December 20, 2018          2011      R     78 min   \n",
              "3  November 16, 2017          2009  PG-13     80 min   \n",
              "4    January 1, 2020          2008  PG-13    123 min   \n",
              "\n",
              "                                           listed_in  \\\n",
              "0  International TV Shows, TV Dramas, TV Sci-Fi &...   \n",
              "1                       Dramas, International Movies   \n",
              "2                Horror Movies, International Movies   \n",
              "3  Action & Adventure, Independent Movies, Sci-Fi...   \n",
              "4                                             Dramas   \n",
              "\n",
              "                                         description  \n",
              "0  In a future where the elite inhabit an island ...  \n",
              "1  After a devastating earthquake hits Mexico Cit...  \n",
              "2  When an army recruit is found dead, his fellow...  \n",
              "3  In a postapocalyptic world, rag-doll robots hi...  \n",
              "4  A brilliant group of students become card-coun...  "
            ],
            "text/html": [
              "\n",
              "  <div id=\"df-4ffa0c62-aab1-4c6c-a506-257ab7f0214b\">\n",
              "    <div class=\"colab-df-container\">\n",
              "      <div>\n",
              "<style scoped>\n",
              "    .dataframe tbody tr th:only-of-type {\n",
              "        vertical-align: middle;\n",
              "    }\n",
              "\n",
              "    .dataframe tbody tr th {\n",
              "        vertical-align: top;\n",
              "    }\n",
              "\n",
              "    .dataframe thead th {\n",
              "        text-align: right;\n",
              "    }\n",
              "</style>\n",
              "<table border=\"1\" class=\"dataframe\">\n",
              "  <thead>\n",
              "    <tr style=\"text-align: right;\">\n",
              "      <th></th>\n",
              "      <th>show_id</th>\n",
              "      <th>type</th>\n",
              "      <th>title</th>\n",
              "      <th>director</th>\n",
              "      <th>cast</th>\n",
              "      <th>country</th>\n",
              "      <th>date_added</th>\n",
              "      <th>release_year</th>\n",
              "      <th>rating</th>\n",
              "      <th>duration</th>\n",
              "      <th>listed_in</th>\n",
              "      <th>description</th>\n",
              "    </tr>\n",
              "  </thead>\n",
              "  <tbody>\n",
              "    <tr>\n",
              "      <th>0</th>\n",
              "      <td>s1</td>\n",
              "      <td>TV Show</td>\n",
              "      <td>3%</td>\n",
              "      <td>NaN</td>\n",
              "      <td>João Miguel, Bianca Comparato, Michel Gomes, R...</td>\n",
              "      <td>Brazil</td>\n",
              "      <td>August 14, 2020</td>\n",
              "      <td>2020</td>\n",
              "      <td>TV-MA</td>\n",
              "      <td>4 Seasons</td>\n",
              "      <td>International TV Shows, TV Dramas, TV Sci-Fi &amp;...</td>\n",
              "      <td>In a future where the elite inhabit an island ...</td>\n",
              "    </tr>\n",
              "    <tr>\n",
              "      <th>1</th>\n",
              "      <td>s2</td>\n",
              "      <td>Movie</td>\n",
              "      <td>7:19</td>\n",
              "      <td>Jorge Michel Grau</td>\n",
              "      <td>Demián Bichir, Héctor Bonilla, Oscar Serrano, ...</td>\n",
              "      <td>Mexico</td>\n",
              "      <td>December 23, 2016</td>\n",
              "      <td>2016</td>\n",
              "      <td>TV-MA</td>\n",
              "      <td>93 min</td>\n",
              "      <td>Dramas, International Movies</td>\n",
              "      <td>After a devastating earthquake hits Mexico Cit...</td>\n",
              "    </tr>\n",
              "    <tr>\n",
              "      <th>2</th>\n",
              "      <td>s3</td>\n",
              "      <td>Movie</td>\n",
              "      <td>23:59</td>\n",
              "      <td>Gilbert Chan</td>\n",
              "      <td>Tedd Chan, Stella Chung, Henley Hii, Lawrence ...</td>\n",
              "      <td>Singapore</td>\n",
              "      <td>December 20, 2018</td>\n",
              "      <td>2011</td>\n",
              "      <td>R</td>\n",
              "      <td>78 min</td>\n",
              "      <td>Horror Movies, International Movies</td>\n",
              "      <td>When an army recruit is found dead, his fellow...</td>\n",
              "    </tr>\n",
              "    <tr>\n",
              "      <th>3</th>\n",
              "      <td>s4</td>\n",
              "      <td>Movie</td>\n",
              "      <td>9</td>\n",
              "      <td>Shane Acker</td>\n",
              "      <td>Elijah Wood, John C. Reilly, Jennifer Connelly...</td>\n",
              "      <td>United States</td>\n",
              "      <td>November 16, 2017</td>\n",
              "      <td>2009</td>\n",
              "      <td>PG-13</td>\n",
              "      <td>80 min</td>\n",
              "      <td>Action &amp; Adventure, Independent Movies, Sci-Fi...</td>\n",
              "      <td>In a postapocalyptic world, rag-doll robots hi...</td>\n",
              "    </tr>\n",
              "    <tr>\n",
              "      <th>4</th>\n",
              "      <td>s5</td>\n",
              "      <td>Movie</td>\n",
              "      <td>21</td>\n",
              "      <td>Robert Luketic</td>\n",
              "      <td>Jim Sturgess, Kevin Spacey, Kate Bosworth, Aar...</td>\n",
              "      <td>United States</td>\n",
              "      <td>January 1, 2020</td>\n",
              "      <td>2008</td>\n",
              "      <td>PG-13</td>\n",
              "      <td>123 min</td>\n",
              "      <td>Dramas</td>\n",
              "      <td>A brilliant group of students become card-coun...</td>\n",
              "    </tr>\n",
              "  </tbody>\n",
              "</table>\n",
              "</div>\n",
              "      <button class=\"colab-df-convert\" onclick=\"convertToInteractive('df-4ffa0c62-aab1-4c6c-a506-257ab7f0214b')\"\n",
              "              title=\"Convert this dataframe to an interactive table.\"\n",
              "              style=\"display:none;\">\n",
              "        \n",
              "  <svg xmlns=\"http://www.w3.org/2000/svg\" height=\"24px\"viewBox=\"0 0 24 24\"\n",
              "       width=\"24px\">\n",
              "    <path d=\"M0 0h24v24H0V0z\" fill=\"none\"/>\n",
              "    <path d=\"M18.56 5.44l.94 2.06.94-2.06 2.06-.94-2.06-.94-.94-2.06-.94 2.06-2.06.94zm-11 1L8.5 8.5l.94-2.06 2.06-.94-2.06-.94L8.5 2.5l-.94 2.06-2.06.94zm10 10l.94 2.06.94-2.06 2.06-.94-2.06-.94-.94-2.06-.94 2.06-2.06.94z\"/><path d=\"M17.41 7.96l-1.37-1.37c-.4-.4-.92-.59-1.43-.59-.52 0-1.04.2-1.43.59L10.3 9.45l-7.72 7.72c-.78.78-.78 2.05 0 2.83L4 21.41c.39.39.9.59 1.41.59.51 0 1.02-.2 1.41-.59l7.78-7.78 2.81-2.81c.8-.78.8-2.07 0-2.86zM5.41 20L4 18.59l7.72-7.72 1.47 1.35L5.41 20z\"/>\n",
              "  </svg>\n",
              "      </button>\n",
              "      \n",
              "  <style>\n",
              "    .colab-df-container {\n",
              "      display:flex;\n",
              "      flex-wrap:wrap;\n",
              "      gap: 12px;\n",
              "    }\n",
              "\n",
              "    .colab-df-convert {\n",
              "      background-color: #E8F0FE;\n",
              "      border: none;\n",
              "      border-radius: 50%;\n",
              "      cursor: pointer;\n",
              "      display: none;\n",
              "      fill: #1967D2;\n",
              "      height: 32px;\n",
              "      padding: 0 0 0 0;\n",
              "      width: 32px;\n",
              "    }\n",
              "\n",
              "    .colab-df-convert:hover {\n",
              "      background-color: #E2EBFA;\n",
              "      box-shadow: 0px 1px 2px rgba(60, 64, 67, 0.3), 0px 1px 3px 1px rgba(60, 64, 67, 0.15);\n",
              "      fill: #174EA6;\n",
              "    }\n",
              "\n",
              "    [theme=dark] .colab-df-convert {\n",
              "      background-color: #3B4455;\n",
              "      fill: #D2E3FC;\n",
              "    }\n",
              "\n",
              "    [theme=dark] .colab-df-convert:hover {\n",
              "      background-color: #434B5C;\n",
              "      box-shadow: 0px 1px 3px 1px rgba(0, 0, 0, 0.15);\n",
              "      filter: drop-shadow(0px 1px 2px rgba(0, 0, 0, 0.3));\n",
              "      fill: #FFFFFF;\n",
              "    }\n",
              "  </style>\n",
              "\n",
              "      <script>\n",
              "        const buttonEl =\n",
              "          document.querySelector('#df-4ffa0c62-aab1-4c6c-a506-257ab7f0214b button.colab-df-convert');\n",
              "        buttonEl.style.display =\n",
              "          google.colab.kernel.accessAllowed ? 'block' : 'none';\n",
              "\n",
              "        async function convertToInteractive(key) {\n",
              "          const element = document.querySelector('#df-4ffa0c62-aab1-4c6c-a506-257ab7f0214b');\n",
              "          const dataTable =\n",
              "            await google.colab.kernel.invokeFunction('convertToInteractive',\n",
              "                                                     [key], {});\n",
              "          if (!dataTable) return;\n",
              "\n",
              "          const docLinkHtml = 'Like what you see? Visit the ' +\n",
              "            '<a target=\"_blank\" href=https://colab.research.google.com/notebooks/data_table.ipynb>data table notebook</a>'\n",
              "            + ' to learn more about interactive tables.';\n",
              "          element.innerHTML = '';\n",
              "          dataTable['output_type'] = 'display_data';\n",
              "          await google.colab.output.renderOutput(dataTable, element);\n",
              "          const docLink = document.createElement('div');\n",
              "          docLink.innerHTML = docLinkHtml;\n",
              "          element.appendChild(docLink);\n",
              "        }\n",
              "      </script>\n",
              "    </div>\n",
              "  </div>\n",
              "  "
            ]
          },
          "metadata": {},
          "execution_count": 18
        }
      ]
    },
    {
      "cell_type": "code",
      "source": [
        "df.info()"
      ],
      "metadata": {
        "id": "7P6LcfgWgYlg",
        "colab": {
          "base_uri": "https://localhost:8080/"
        },
        "outputId": "e2a7fbf6-cf76-4e23-a8b0-ef3e4b2deba5"
      },
      "execution_count": null,
      "outputs": [
        {
          "output_type": "stream",
          "name": "stdout",
          "text": [
            "<class 'pandas.core.frame.DataFrame'>\n",
            "Int64Index: 7770 entries, 0 to 7786\n",
            "Data columns (total 12 columns):\n",
            " #   Column        Non-Null Count  Dtype \n",
            "---  ------        --------------  ----- \n",
            " 0   show_id       7770 non-null   object\n",
            " 1   type          7770 non-null   object\n",
            " 2   title         7770 non-null   object\n",
            " 3   director      5394 non-null   object\n",
            " 4   cast          7770 non-null   object\n",
            " 5   country       7770 non-null   object\n",
            " 6   date_added    7770 non-null   object\n",
            " 7   release_year  7770 non-null   int64 \n",
            " 8   rating        7770 non-null   object\n",
            " 9   duration      7770 non-null   object\n",
            " 10  listed_in     7770 non-null   object\n",
            " 11  description   7770 non-null   object\n",
            "dtypes: int64(1), object(11)\n",
            "memory usage: 789.1+ KB\n"
          ]
        }
      ]
    },
    {
      "cell_type": "code",
      "source": [
        "df['rating'].value_counts()"
      ],
      "metadata": {
        "colab": {
          "base_uri": "https://localhost:8080/"
        },
        "id": "GPkNDyRNMCHA",
        "outputId": "c8790ad7-5ea7-4ebd-87b1-e971d3939bc7"
      },
      "execution_count": null,
      "outputs": [
        {
          "output_type": "execute_result",
          "data": {
            "text/plain": [
              "TV-MA       2861\n",
              "TV-14       1928\n",
              "TV-PG        804\n",
              "R            665\n",
              "PG-13        386\n",
              "TV-Y         279\n",
              "TV-Y7        270\n",
              "PG           247\n",
              "TV-G         194\n",
              "NR            83\n",
              "G             39\n",
              "TV-Y7-FV       6\n",
              "UR             5\n",
              "NC-17          3\n",
              "Name: rating, dtype: int64"
            ]
          },
          "metadata": {},
          "execution_count": 20
        }
      ]
    },
    {
      "cell_type": "code",
      "source": [
        "df['rating'].value_counts().plot(kind='pie', figsize = (10,10))"
      ],
      "metadata": {
        "colab": {
          "base_uri": "https://localhost:8080/",
          "height": 593
        },
        "id": "Fv9DJyVRMMnN",
        "outputId": "1c71b3c2-f413-499f-d7ec-54cf01a49b4a"
      },
      "execution_count": null,
      "outputs": [
        {
          "output_type": "execute_result",
          "data": {
            "text/plain": [
              "<matplotlib.axes._subplots.AxesSubplot at 0x7f6d238a77c0>"
            ]
          },
          "metadata": {},
          "execution_count": 21
        },
        {
          "output_type": "display_data",
          "data": {
            "text/plain": [
              "<Figure size 720x720 with 1 Axes>"
            ],
            "image/png": "[encoded data removed]"
          },
          "metadata": {}
        }
      ]
    },
    {
      "cell_type": "markdown",
      "source": [
        "***Highest number of ratings are TV-MA and TV-14 from Movie and TV Show.***"
      ],
      "metadata": {
        "id": "UTjS8x25NWMO"
      }
    },
    {
      "cell_type": "code",
      "source": [
        "sns.set(rc={'figure.figsize':(15,10)})\n",
        "ax = sns.countplot(data = df, x = 'rating', hue = 'type',)\n",
        "for p in ax.patches:\n",
        "   ax.annotate('{:.1f}'.format(p.get_height()), (p.get_x(), p.get_height()+0.01))"
      ],
      "metadata": {
        "colab": {
          "base_uri": "https://localhost:8080/",
          "height": 611
        },
        "id": "uvM5MosDOMt2",
        "outputId": "18cbd4db-39ed-43f1-c7e3-7f6410638475"
      },
      "execution_count": null,
      "outputs": [
        {
          "output_type": "display_data",
          "data": {
            "text/plain": [
              "<Figure size 1080x720 with 1 Axes>"
            ],
            "image/png": "[encoded data removed]"
          },
          "metadata": {}
        }
      ]
    },
    {
      "cell_type": "markdown",
      "source": [
        "***There are more TV-MA(Mature Audience) content on Netflix followed by TV-14(14+) and TG-PG(Parental Guidance) compared to other content . There are no TV shows with content based on PG-13, PG, G, UR etc,. These TV Show stats might change in the future where more versatile content will be filmed.***"
      ],
      "metadata": {
        "id": "qUNweMbddA2w"
      }
    },
    {
      "cell_type": "code",
      "source": [
        "df.head()"
      ],
      "metadata": {
        "colab": {
          "base_uri": "https://localhost:8080/",
          "height": 337
        },
        "id": "z-Xd-AxuaVCM",
        "outputId": "b6be5b99-1f95-4d34-dded-feb874155c27"
      },
      "execution_count": null,
      "outputs": [
        {
          "output_type": "execute_result",
          "data": {
            "text/plain": [
              "  show_id     type  title           director  \\\n",
              "0      s1  TV Show     3%                NaN   \n",
              "1      s2    Movie   7:19  Jorge Michel Grau   \n",
              "2      s3    Movie  23:59       Gilbert Chan   \n",
              "3      s4    Movie      9        Shane Acker   \n",
              "4      s5    Movie     21     Robert Luketic   \n",
              "\n",
              "                                                cast        country  \\\n",
              "0  João Miguel, Bianca Comparato, Michel Gomes, R...         Brazil   \n",
              "1  Demián Bichir, Héctor Bonilla, Oscar Serrano, ...         Mexico   \n",
              "2  Tedd Chan, Stella Chung, Henley Hii, Lawrence ...      Singapore   \n",
              "3  Elijah Wood, John C. Reilly, Jennifer Connelly...  United States   \n",
              "4  Jim Sturgess, Kevin Spacey, Kate Bosworth, Aar...  United States   \n",
              "\n",
              "          date_added  release_year rating   duration  \\\n",
              "0    August 14, 2020          2020  TV-MA  4 Seasons   \n",
              "1  December 23, 2016          2016  TV-MA     93 min   \n",
              "2  December 20, 2018          2011      R     78 min   \n",
              "3  November 16, 2017          2009  PG-13     80 min   \n",
              "4    January 1, 2020          2008  PG-13    123 min   \n",
              "\n",
              "                                           listed_in  \\\n",
              "0  International TV Shows, TV Dramas, TV Sci-Fi &...   \n",
              "1                       Dramas, International Movies   \n",
              "2                Horror Movies, International Movies   \n",
              "3  Action & Adventure, Independent Movies, Sci-Fi...   \n",
              "4                                             Dramas   \n",
              "\n",
              "                                         description  \n",
              "0  In a future where the elite inhabit an island ...  \n",
              "1  After a devastating earthquake hits Mexico Cit...  \n",
              "2  When an army recruit is found dead, his fellow...  \n",
              "3  In a postapocalyptic world, rag-doll robots hi...  \n",
              "4  A brilliant group of students become card-coun...  "
            ],
            "text/html": [
              "\n",
              "  <div id=\"df-b1cc077f-3118-43b7-bb60-2bea60362486\">\n",
              "    <div class=\"colab-df-container\">\n",
              "      <div>\n",
              "<style scoped>\n",
              "    .dataframe tbody tr th:only-of-type {\n",
              "        vertical-align: middle;\n",
              "    }\n",
              "\n",
              "    .dataframe tbody tr th {\n",
              "        vertical-align: top;\n",
              "    }\n",
              "\n",
              "    .dataframe thead th {\n",
              "        text-align: right;\n",
              "    }\n",
              "</style>\n",
              "<table border=\"1\" class=\"dataframe\">\n",
              "  <thead>\n",
              "    <tr style=\"text-align: right;\">\n",
              "      <th></th>\n",
              "      <th>show_id</th>\n",
              "      <th>type</th>\n",
              "      <th>title</th>\n",
              "      <th>director</th>\n",
              "      <th>cast</th>\n",
              "      <th>country</th>\n",
              "      <th>date_added</th>\n",
              "      <th>release_year</th>\n",
              "      <th>rating</th>\n",
              "      <th>duration</th>\n",
              "      <th>listed_in</th>\n",
              "      <th>description</th>\n",
              "    </tr>\n",
              "  </thead>\n",
              "  <tbody>\n",
              "    <tr>\n",
              "      <th>0</th>\n",
              "      <td>s1</td>\n",
              "      <td>TV Show</td>\n",
              "      <td>3%</td>\n",
              "      <td>NaN</td>\n",
              "      <td>João Miguel, Bianca Comparato, Michel Gomes, R...</td>\n",
              "      <td>Brazil</td>\n",
              "      <td>August 14, 2020</td>\n",
              "      <td>2020</td>\n",
              "      <td>TV-MA</td>\n",
              "      <td>4 Seasons</td>\n",
              "      <td>International TV Shows, TV Dramas, TV Sci-Fi &amp;...</td>\n",
              "      <td>In a future where the elite inhabit an island ...</td>\n",
              "    </tr>\n",
              "    <tr>\n",
              "      <th>1</th>\n",
              "      <td>s2</td>\n",
              "      <td>Movie</td>\n",
              "      <td>7:19</td>\n",
              "      <td>Jorge Michel Grau</td>\n",
              "      <td>Demián Bichir, Héctor Bonilla, Oscar Serrano, ...</td>\n",
              "      <td>Mexico</td>\n",
              "      <td>December 23, 2016</td>\n",
              "      <td>2016</td>\n",
              "      <td>TV-MA</td>\n",
              "      <td>93 min</td>\n",
              "      <td>Dramas, International Movies</td>\n",
              "      <td>After a devastating earthquake hits Mexico Cit...</td>\n",
              "    </tr>\n",
              "    <tr>\n",
              "      <th>2</th>\n",
              "      <td>s3</td>\n",
              "      <td>Movie</td>\n",
              "      <td>23:59</td>\n",
              "      <td>Gilbert Chan</td>\n",
              "      <td>Tedd Chan, Stella Chung, Henley Hii, Lawrence ...</td>\n",
              "      <td>Singapore</td>\n",
              "      <td>December 20, 2018</td>\n",
              "      <td>2011</td>\n",
              "      <td>R</td>\n",
              "      <td>78 min</td>\n",
              "      <td>Horror Movies, International Movies</td>\n",
              "      <td>When an army recruit is found dead, his fellow...</td>\n",
              "    </tr>\n",
              "    <tr>\n",
              "      <th>3</th>\n",
              "      <td>s4</td>\n",
              "      <td>Movie</td>\n",
              "      <td>9</td>\n",
              "      <td>Shane Acker</td>\n",
              "      <td>Elijah Wood, John C. Reilly, Jennifer Connelly...</td>\n",
              "      <td>United States</td>\n",
              "      <td>November 16, 2017</td>\n",
              "      <td>2009</td>\n",
              "      <td>PG-13</td>\n",
              "      <td>80 min</td>\n",
              "      <td>Action &amp; Adventure, Independent Movies, Sci-Fi...</td>\n",
              "      <td>In a postapocalyptic world, rag-doll robots hi...</td>\n",
              "    </tr>\n",
              "    <tr>\n",
              "      <th>4</th>\n",
              "      <td>s5</td>\n",
              "      <td>Movie</td>\n",
              "      <td>21</td>\n",
              "      <td>Robert Luketic</td>\n",
              "      <td>Jim Sturgess, Kevin Spacey, Kate Bosworth, Aar...</td>\n",
              "      <td>United States</td>\n",
              "      <td>January 1, 2020</td>\n",
              "      <td>2008</td>\n",
              "      <td>PG-13</td>\n",
              "      <td>123 min</td>\n",
              "      <td>Dramas</td>\n",
              "      <td>A brilliant group of students become card-coun...</td>\n",
              "    </tr>\n",
              "  </tbody>\n",
              "</table>\n",
              "</div>\n",
              "      <button class=\"colab-df-convert\" onclick=\"convertToInteractive('df-b1cc077f-3118-43b7-bb60-2bea60362486')\"\n",
              "              title=\"Convert this dataframe to an interactive table.\"\n",
              "              style=\"display:none;\">\n",
              "        \n",
              "  <svg xmlns=\"http://www.w3.org/2000/svg\" height=\"24px\"viewBox=\"0 0 24 24\"\n",
              "       width=\"24px\">\n",
              "    <path d=\"M0 0h24v24H0V0z\" fill=\"none\"/>\n",
              "    <path d=\"M18.56 5.44l.94 2.06.94-2.06 2.06-.94-2.06-.94-.94-2.06-.94 2.06-2.06.94zm-11 1L8.5 8.5l.94-2.06 2.06-.94-2.06-.94L8.5 2.5l-.94 2.06-2.06.94zm10 10l.94 2.06.94-2.06 2.06-.94-2.06-.94-.94-2.06-.94 2.06-2.06.94z\"/><path d=\"M17.41 7.96l-1.37-1.37c-.4-.4-.92-.59-1.43-.59-.52 0-1.04.2-1.43.59L10.3 9.45l-7.72 7.72c-.78.78-.78 2.05 0 2.83L4 21.41c.39.39.9.59 1.41.59.51 0 1.02-.2 1.41-.59l7.78-7.78 2.81-2.81c.8-.78.8-2.07 0-2.86zM5.41 20L4 18.59l7.72-7.72 1.47 1.35L5.41 20z\"/>\n",
              "  </svg>\n",
              "      </button>\n",
              "      \n",
              "  <style>\n",
              "    .colab-df-container {\n",
              "      display:flex;\n",
              "      flex-wrap:wrap;\n",
              "      gap: 12px;\n",
              "    }\n",
              "\n",
              "    .colab-df-convert {\n",
              "      background-color: #E8F0FE;\n",
              "      border: none;\n",
              "      border-radius: 50%;\n",
              "      cursor: pointer;\n",
              "      display: none;\n",
              "      fill: #1967D2;\n",
              "      height: 32px;\n",
              "      padding: 0 0 0 0;\n",
              "      width: 32px;\n",
              "    }\n",
              "\n",
              "    .colab-df-convert:hover {\n",
              "      background-color: #E2EBFA;\n",
              "      box-shadow: 0px 1px 2px rgba(60, 64, 67, 0.3), 0px 1px 3px 1px rgba(60, 64, 67, 0.15);\n",
              "      fill: #174EA6;\n",
              "    }\n",
              "\n",
              "    [theme=dark] .colab-df-convert {\n",
              "      background-color: #3B4455;\n",
              "      fill: #D2E3FC;\n",
              "    }\n",
              "\n",
              "    [theme=dark] .colab-df-convert:hover {\n",
              "      background-color: #434B5C;\n",
              "      box-shadow: 0px 1px 3px 1px rgba(0, 0, 0, 0.15);\n",
              "      filter: drop-shadow(0px 1px 2px rgba(0, 0, 0, 0.3));\n",
              "      fill: #FFFFFF;\n",
              "    }\n",
              "  </style>\n",
              "\n",
              "      <script>\n",
              "        const buttonEl =\n",
              "          document.querySelector('#df-b1cc077f-3118-43b7-bb60-2bea60362486 button.colab-df-convert');\n",
              "        buttonEl.style.display =\n",
              "          google.colab.kernel.accessAllowed ? 'block' : 'none';\n",
              "\n",
              "        async function convertToInteractive(key) {\n",
              "          const element = document.querySelector('#df-b1cc077f-3118-43b7-bb60-2bea60362486');\n",
              "          const dataTable =\n",
              "            await google.colab.kernel.invokeFunction('convertToInteractive',\n",
              "                                                     [key], {});\n",
              "          if (!dataTable) return;\n",
              "\n",
              "          const docLinkHtml = 'Like what you see? Visit the ' +\n",
              "            '<a target=\"_blank\" href=https://colab.research.google.com/notebooks/data_table.ipynb>data table notebook</a>'\n",
              "            + ' to learn more about interactive tables.';\n",
              "          element.innerHTML = '';\n",
              "          dataTable['output_type'] = 'display_data';\n",
              "          await google.colab.output.renderOutput(dataTable, element);\n",
              "          const docLink = document.createElement('div');\n",
              "          docLink.innerHTML = docLinkHtml;\n",
              "          element.appendChild(docLink);\n",
              "        }\n",
              "      </script>\n",
              "    </div>\n",
              "  </div>\n",
              "  "
            ]
          },
          "metadata": {},
          "execution_count": 23
        }
      ]
    },
    {
      "cell_type": "code",
      "source": [
        "df['Audience_AgeGroup']  = df['rating'].apply(lambda x:'Millennials' if x in ['TV-MA','NR','R','UR','NC-17'] else 'GenZ' if x in ['TV-PG','TV-Y7-FV', 'TV-Y7', 'PG','TV-14','PG' ]  else 'Kids')"
      ],
      "metadata": {
        "id": "myDGCb3ngDKf"
      },
      "execution_count": null,
      "outputs": []
    },
    {
      "cell_type": "code",
      "source": [
        "df['Audience_AgeGroup'].value_counts().plot(kind='bar')"
      ],
      "metadata": {
        "colab": {
          "base_uri": "https://localhost:8080/",
          "height": 661
        },
        "id": "9CIi81ATh_re",
        "outputId": "63a3170c-8fbf-4417-e20a-e7d11529efe4"
      },
      "execution_count": null,
      "outputs": [
        {
          "output_type": "execute_result",
          "data": {
            "text/plain": [
              "<matplotlib.axes._subplots.AxesSubplot at 0x7f6d231b6190>"
            ]
          },
          "metadata": {},
          "execution_count": 25
        },
        {
          "output_type": "display_data",
          "data": {
            "text/plain": [
              "<Figure size 1080x720 with 1 Axes>"
            ],
            "image/png": "[encoded data removed]"
          },
          "metadata": {}
        }
      ]
    },
    {
      "cell_type": "code",
      "source": [
        "sns.set(rc={'figure.figsize':(15,10)})\n",
        "ax = sns.countplot(data = df, x = 'Audience_AgeGroup', hue = 'type',palette = 'gist_earth')\n",
        "for p in ax.patches:\n",
        "   ax.annotate('{:.1f}'.format(p.get_height()), (p.get_x()+0.15, p.get_height()+0.01))"
      ],
      "metadata": {
        "colab": {
          "base_uri": "https://localhost:8080/",
          "height": 611
        },
        "id": "AWOzRy-PiYlt",
        "outputId": "8e10d1cc-9a5c-4586-babc-e757bb96e34a"
      },
      "execution_count": null,
      "outputs": [
        {
          "output_type": "display_data",
          "data": {
            "text/plain": [
              "<Figure size 1080x720 with 1 Axes>"
            ],
            "image/png": "[encoded data removed]"
          },
          "metadata": {}
        }
      ]
    },
    {
      "cell_type": "markdown",
      "source": [
        "***Netflix has highest content count for individuals of age group Millenials and lowest content for Kids. The database contains wide-reaching number of movies for Millenials and fairly equivalent number of TV Shows for both Millennial and GenZ age groups.***"
      ],
      "metadata": {
        "id": "pa0FI3Wvmm3c"
      }
    },
    {
      "cell_type": "code",
      "source": [
        "sns.violinplot(data = df, x = 'release_year', hue = 'type')"
      ],
      "metadata": {
        "colab": {
          "base_uri": "https://localhost:8080/",
          "height": 629
        },
        "id": "gRLQSOWot1IQ",
        "outputId": "0c70b209-cb26-44e2-bec8-a66481450ee3"
      },
      "execution_count": null,
      "outputs": [
        {
          "output_type": "execute_result",
          "data": {
            "text/plain": [
              "<matplotlib.axes._subplots.AxesSubplot at 0x7f6d230f52b0>"
            ]
          },
          "metadata": {},
          "execution_count": 27
        },
        {
          "output_type": "display_data",
          "data": {
            "text/plain": [
              "<Figure size 1080x720 with 1 Axes>"
            ],
            "image/png": "[encoded data removed]"
          },
          "metadata": {}
        }
      ]
    },
    {
      "cell_type": "markdown",
      "source": [
        "\n",
        "\n",
        "***1.   Highest Number of movies and TV shows were produced in the years   2015-2019. ***\n",
        "\n",
        "***2.   Because of the digitization of the world, people are just one click away from streaming content so majority of the audience in these periods were more interested in Netflix so producers preferred to release their content on netflix. ***\n",
        "\n",
        "***3.   People started taking interest in OTT platforms from 2017 and as Netflix is the largest OTT services provider so theres a peak from that period.***\n",
        "\n"
      ],
      "metadata": {
        "id": "E8BV49qQvsAM"
      }
    },
    {
      "cell_type": "code",
      "source": [
        "df.head()"
      ],
      "metadata": {
        "colab": {
          "base_uri": "https://localhost:8080/",
          "height": 424
        },
        "id": "ZNjzwQ3Yh1zY",
        "outputId": "e3ad15df-b333-4f9a-d88c-4833a1ead834"
      },
      "execution_count": null,
      "outputs": [
        {
          "output_type": "execute_result",
          "data": {
            "text/plain": [
              "  show_id     type  title           director  \\\n",
              "0      s1  TV Show     3%                NaN   \n",
              "1      s2    Movie   7:19  Jorge Michel Grau   \n",
              "2      s3    Movie  23:59       Gilbert Chan   \n",
              "3      s4    Movie      9        Shane Acker   \n",
              "4      s5    Movie     21     Robert Luketic   \n",
              "\n",
              "                                                cast        country  \\\n",
              "0  João Miguel, Bianca Comparato, Michel Gomes, R...         Brazil   \n",
              "1  Demián Bichir, Héctor Bonilla, Oscar Serrano, ...         Mexico   \n",
              "2  Tedd Chan, Stella Chung, Henley Hii, Lawrence ...      Singapore   \n",
              "3  Elijah Wood, John C. Reilly, Jennifer Connelly...  United States   \n",
              "4  Jim Sturgess, Kevin Spacey, Kate Bosworth, Aar...  United States   \n",
              "\n",
              "          date_added  release_year rating   duration  \\\n",
              "0    August 14, 2020          2020  TV-MA  4 Seasons   \n",
              "1  December 23, 2016          2016  TV-MA     93 min   \n",
              "2  December 20, 2018          2011      R     78 min   \n",
              "3  November 16, 2017          2009  PG-13     80 min   \n",
              "4    January 1, 2020          2008  PG-13    123 min   \n",
              "\n",
              "                                           listed_in  \\\n",
              "0  International TV Shows, TV Dramas, TV Sci-Fi &...   \n",
              "1                       Dramas, International Movies   \n",
              "2                Horror Movies, International Movies   \n",
              "3  Action & Adventure, Independent Movies, Sci-Fi...   \n",
              "4                                             Dramas   \n",
              "\n",
              "                                         description Audience_AgeGroup  \n",
              "0  In a future where the elite inhabit an island ...       Millennials  \n",
              "1  After a devastating earthquake hits Mexico Cit...       Millennials  \n",
              "2  When an army recruit is found dead, his fellow...       Millennials  \n",
              "3  In a postapocalyptic world, rag-doll robots hi...              Kids  \n",
              "4  A brilliant group of students become card-coun...              Kids  "
            ],
            "text/html": [
              "\n",
              "  <div id=\"df-5cd839fb-3971-4947-9cf6-81cca230c9ed\">\n",
              "    <div class=\"colab-df-container\">\n",
              "      <div>\n",
              "<style scoped>\n",
              "    .dataframe tbody tr th:only-of-type {\n",
              "        vertical-align: middle;\n",
              "    }\n",
              "\n",
              "    .dataframe tbody tr th {\n",
              "        vertical-align: top;\n",
              "    }\n",
              "\n",
              "    .dataframe thead th {\n",
              "        text-align: right;\n",
              "    }\n",
              "</style>\n",
              "<table border=\"1\" class=\"dataframe\">\n",
              "  <thead>\n",
              "    <tr style=\"text-align: right;\">\n",
              "      <th></th>\n",
              "      <th>show_id</th>\n",
              "      <th>type</th>\n",
              "      <th>title</th>\n",
              "      <th>director</th>\n",
              "      <th>cast</th>\n",
              "      <th>country</th>\n",
              "      <th>date_added</th>\n",
              "      <th>release_year</th>\n",
              "      <th>rating</th>\n",
              "      <th>duration</th>\n",
              "      <th>listed_in</th>\n",
              "      <th>description</th>\n",
              "      <th>Audience_AgeGroup</th>\n",
              "    </tr>\n",
              "  </thead>\n",
              "  <tbody>\n",
              "    <tr>\n",
              "      <th>0</th>\n",
              "      <td>s1</td>\n",
              "      <td>TV Show</td>\n",
              "      <td>3%</td>\n",
              "      <td>NaN</td>\n",
              "      <td>João Miguel, Bianca Comparato, Michel Gomes, R...</td>\n",
              "      <td>Brazil</td>\n",
              "      <td>August 14, 2020</td>\n",
              "      <td>2020</td>\n",
              "      <td>TV-MA</td>\n",
              "      <td>4 Seasons</td>\n",
              "      <td>International TV Shows, TV Dramas, TV Sci-Fi &amp;...</td>\n",
              "      <td>In a future where the elite inhabit an island ...</td>\n",
              "      <td>Millennials</td>\n",
              "    </tr>\n",
              "    <tr>\n",
              "      <th>1</th>\n",
              "      <td>s2</td>\n",
              "      <td>Movie</td>\n",
              "      <td>7:19</td>\n",
              "      <td>Jorge Michel Grau</td>\n",
              "      <td>Demián Bichir, Héctor Bonilla, Oscar Serrano, ...</td>\n",
              "      <td>Mexico</td>\n",
              "      <td>December 23, 2016</td>\n",
              "      <td>2016</td>\n",
              "      <td>TV-MA</td>\n",
              "      <td>93 min</td>\n",
              "      <td>Dramas, International Movies</td>\n",
              "      <td>After a devastating earthquake hits Mexico Cit...</td>\n",
              "      <td>Millennials</td>\n",
              "    </tr>\n",
              "    <tr>\n",
              "      <th>2</th>\n",
              "      <td>s3</td>\n",
              "      <td>Movie</td>\n",
              "      <td>23:59</td>\n",
              "      <td>Gilbert Chan</td>\n",
              "      <td>Tedd Chan, Stella Chung, Henley Hii, Lawrence ...</td>\n",
              "      <td>Singapore</td>\n",
              "      <td>December 20, 2018</td>\n",
              "      <td>2011</td>\n",
              "      <td>R</td>\n",
              "      <td>78 min</td>\n",
              "      <td>Horror Movies, International Movies</td>\n",
              "      <td>When an army recruit is found dead, his fellow...</td>\n",
              "      <td>Millennials</td>\n",
              "    </tr>\n",
              "    <tr>\n",
              "      <th>3</th>\n",
              "      <td>s4</td>\n",
              "      <td>Movie</td>\n",
              "      <td>9</td>\n",
              "      <td>Shane Acker</td>\n",
              "      <td>Elijah Wood, John C. Reilly, Jennifer Connelly...</td>\n",
              "      <td>United States</td>\n",
              "      <td>November 16, 2017</td>\n",
              "      <td>2009</td>\n",
              "      <td>PG-13</td>\n",
              "      <td>80 min</td>\n",
              "      <td>Action &amp; Adventure, Independent Movies, Sci-Fi...</td>\n",
              "      <td>In a postapocalyptic world, rag-doll robots hi...</td>\n",
              "      <td>Kids</td>\n",
              "    </tr>\n",
              "    <tr>\n",
              "      <th>4</th>\n",
              "      <td>s5</td>\n",
              "      <td>Movie</td>\n",
              "      <td>21</td>\n",
              "      <td>Robert Luketic</td>\n",
              "      <td>Jim Sturgess, Kevin Spacey, Kate Bosworth, Aar...</td>\n",
              "      <td>United States</td>\n",
              "      <td>January 1, 2020</td>\n",
              "      <td>2008</td>\n",
              "      <td>PG-13</td>\n",
              "      <td>123 min</td>\n",
              "      <td>Dramas</td>\n",
              "      <td>A brilliant group of students become card-coun...</td>\n",
              "      <td>Kids</td>\n",
              "    </tr>\n",
              "  </tbody>\n",
              "</table>\n",
              "</div>\n",
              "      <button class=\"colab-df-convert\" onclick=\"convertToInteractive('df-5cd839fb-3971-4947-9cf6-81cca230c9ed')\"\n",
              "              title=\"Convert this dataframe to an interactive table.\"\n",
              "              style=\"display:none;\">\n",
              "        \n",
              "  <svg xmlns=\"http://www.w3.org/2000/svg\" height=\"24px\"viewBox=\"0 0 24 24\"\n",
              "       width=\"24px\">\n",
              "    <path d=\"M0 0h24v24H0V0z\" fill=\"none\"/>\n",
              "    <path d=\"M18.56 5.44l.94 2.06.94-2.06 2.06-.94-2.06-.94-.94-2.06-.94 2.06-2.06.94zm-11 1L8.5 8.5l.94-2.06 2.06-.94-2.06-.94L8.5 2.5l-.94 2.06-2.06.94zm10 10l.94 2.06.94-2.06 2.06-.94-2.06-.94-.94-2.06-.94 2.06-2.06.94z\"/><path d=\"M17.41 7.96l-1.37-1.37c-.4-.4-.92-.59-1.43-.59-.52 0-1.04.2-1.43.59L10.3 9.45l-7.72 7.72c-.78.78-.78 2.05 0 2.83L4 21.41c.39.39.9.59 1.41.59.51 0 1.02-.2 1.41-.59l7.78-7.78 2.81-2.81c.8-.78.8-2.07 0-2.86zM5.41 20L4 18.59l7.72-7.72 1.47 1.35L5.41 20z\"/>\n",
              "  </svg>\n",
              "      </button>\n",
              "      \n",
              "  <style>\n",
              "    .colab-df-container {\n",
              "      display:flex;\n",
              "      flex-wrap:wrap;\n",
              "      gap: 12px;\n",
              "    }\n",
              "\n",
              "    .colab-df-convert {\n",
              "      background-color: #E8F0FE;\n",
              "      border: none;\n",
              "      border-radius: 50%;\n",
              "      cursor: pointer;\n",
              "      display: none;\n",
              "      fill: #1967D2;\n",
              "      height: 32px;\n",
              "      padding: 0 0 0 0;\n",
              "      width: 32px;\n",
              "    }\n",
              "\n",
              "    .colab-df-convert:hover {\n",
              "      background-color: #E2EBFA;\n",
              "      box-shadow: 0px 1px 2px rgba(60, 64, 67, 0.3), 0px 1px 3px 1px rgba(60, 64, 67, 0.15);\n",
              "      fill: #174EA6;\n",
              "    }\n",
              "\n",
              "    [theme=dark] .colab-df-convert {\n",
              "      background-color: #3B4455;\n",
              "      fill: #D2E3FC;\n",
              "    }\n",
              "\n",
              "    [theme=dark] .colab-df-convert:hover {\n",
              "      background-color: #434B5C;\n",
              "      box-shadow: 0px 1px 3px 1px rgba(0, 0, 0, 0.15);\n",
              "      filter: drop-shadow(0px 1px 2px rgba(0, 0, 0, 0.3));\n",
              "      fill: #FFFFFF;\n",
              "    }\n",
              "  </style>\n",
              "\n",
              "      <script>\n",
              "        const buttonEl =\n",
              "          document.querySelector('#df-5cd839fb-3971-4947-9cf6-81cca230c9ed button.colab-df-convert');\n",
              "        buttonEl.style.display =\n",
              "          google.colab.kernel.accessAllowed ? 'block' : 'none';\n",
              "\n",
              "        async function convertToInteractive(key) {\n",
              "          const element = document.querySelector('#df-5cd839fb-3971-4947-9cf6-81cca230c9ed');\n",
              "          const dataTable =\n",
              "            await google.colab.kernel.invokeFunction('convertToInteractive',\n",
              "                                                     [key], {});\n",
              "          if (!dataTable) return;\n",
              "\n",
              "          const docLinkHtml = 'Like what you see? Visit the ' +\n",
              "            '<a target=\"_blank\" href=https://colab.research.google.com/notebooks/data_table.ipynb>data table notebook</a>'\n",
              "            + ' to learn more about interactive tables.';\n",
              "          element.innerHTML = '';\n",
              "          dataTable['output_type'] = 'display_data';\n",
              "          await google.colab.output.renderOutput(dataTable, element);\n",
              "          const docLink = document.createElement('div');\n",
              "          docLink.innerHTML = docLinkHtml;\n",
              "          element.appendChild(docLink);\n",
              "        }\n",
              "      </script>\n",
              "    </div>\n",
              "  </div>\n",
              "  "
            ]
          },
          "metadata": {},
          "execution_count": 28
        }
      ]
    },
    {
      "cell_type": "code",
      "source": [
        "df.country.value_counts()"
      ],
      "metadata": {
        "colab": {
          "base_uri": "https://localhost:8080/"
        },
        "id": "zq-lJdX9vhwA",
        "outputId": "34e22dc3-e54d-44b5-8bc7-95221828c6d8"
      },
      "execution_count": null,
      "outputs": [
        {
          "output_type": "execute_result",
          "data": {
            "text/plain": [
              "United States                                                   3051\n",
              "India                                                            923\n",
              "United Kingdom                                                   396\n",
              "Japan                                                            224\n",
              "South Korea                                                      183\n",
              "                                                                ... \n",
              "Russia, United States, China                                       1\n",
              "Italy, Switzerland, France, Germany                                1\n",
              "United States, United Kingdom, Canada                              1\n",
              "United States, United Kingdom, Japan                               1\n",
              "Sweden, Czech Republic, United Kingdom, Denmark, Netherlands       1\n",
              "Name: country, Length: 681, dtype: int64"
            ]
          },
          "metadata": {},
          "execution_count": 29
        }
      ]
    },
    {
      "cell_type": "code",
      "source": [
        "sns.set(rc={'figure.figsize':(15,8)})\n",
        "ax = sns.countplot(data = df, x='country',palette=\"coolwarm\",order=df['country'].value_counts().index[0:10],hue='type', )\n",
        "for p in ax.patches:\n",
        "   ax.annotate('{:.1f}'.format(p.get_height()), (p.get_x(), p.get_height()+0.01))"
      ],
      "metadata": {
        "colab": {
          "base_uri": "https://localhost:8080/",
          "height": 502
        },
        "id": "v17w7SRC1onV",
        "outputId": "7f5a441c-80f3-4ae2-babb-e41dcecd43ea"
      },
      "execution_count": null,
      "outputs": [
        {
          "output_type": "display_data",
          "data": {
            "text/plain": [
              "<Figure size 1080x576 with 1 Axes>"
            ],
            "image/png": "[encoded data removed]"
          },
          "metadata": {}
        }
      ]
    },
    {
      "cell_type": "markdown",
      "source": [
        "***This countplot shows that the country US has significant amount of both movies and TV shows at netflix and coming at second place, India has an inconsistent distribution between movie and TV show with movie being higher.***"
      ],
      "metadata": {
        "id": "HWlYb_uuMk4N"
      }
    },
    {
      "cell_type": "code",
      "source": [
        "#Extracting month from date added column in the dataset\n",
        "df['month'] = pd.DatetimeIndex(df['date_added']).month\n"
      ],
      "metadata": {
        "id": "UClcPv4H4xn1"
      },
      "execution_count": null,
      "outputs": []
    },
    {
      "cell_type": "code",
      "source": [
        "#COnverting month number to month name\n",
        "import calendar\n",
        "df['month'] = df['month'].apply(lambda x: calendar.month_abbr[x])"
      ],
      "metadata": {
        "id": "pU5ugv2zOeik"
      },
      "execution_count": null,
      "outputs": []
    },
    {
      "cell_type": "code",
      "source": [
        "df1 = df.copy()"
      ],
      "metadata": {
        "id": "qqReqxJfwoTc"
      },
      "execution_count": null,
      "outputs": []
    },
    {
      "cell_type": "code",
      "source": [
        "df1.head()"
      ],
      "metadata": {
        "colab": {
          "base_uri": "https://localhost:8080/",
          "height": 424
        },
        "id": "hl1ETQNzRuKP",
        "outputId": "b46a5c82-4e84-4c8e-a04f-fb5c394d459a"
      },
      "execution_count": null,
      "outputs": [
        {
          "output_type": "execute_result",
          "data": {
            "text/plain": [
              "  show_id     type  title           director  \\\n",
              "0      s1  TV Show     3%                NaN   \n",
              "1      s2    Movie   7:19  Jorge Michel Grau   \n",
              "2      s3    Movie  23:59       Gilbert Chan   \n",
              "3      s4    Movie      9        Shane Acker   \n",
              "4      s5    Movie     21     Robert Luketic   \n",
              "\n",
              "                                                cast        country  \\\n",
              "0  João Miguel, Bianca Comparato, Michel Gomes, R...         Brazil   \n",
              "1  Demián Bichir, Héctor Bonilla, Oscar Serrano, ...         Mexico   \n",
              "2  Tedd Chan, Stella Chung, Henley Hii, Lawrence ...      Singapore   \n",
              "3  Elijah Wood, John C. Reilly, Jennifer Connelly...  United States   \n",
              "4  Jim Sturgess, Kevin Spacey, Kate Bosworth, Aar...  United States   \n",
              "\n",
              "          date_added  release_year rating   duration  \\\n",
              "0    August 14, 2020          2020  TV-MA  4 Seasons   \n",
              "1  December 23, 2016          2016  TV-MA     93 min   \n",
              "2  December 20, 2018          2011      R     78 min   \n",
              "3  November 16, 2017          2009  PG-13     80 min   \n",
              "4    January 1, 2020          2008  PG-13    123 min   \n",
              "\n",
              "                                           listed_in  \\\n",
              "0  International TV Shows, TV Dramas, TV Sci-Fi &...   \n",
              "1                       Dramas, International Movies   \n",
              "2                Horror Movies, International Movies   \n",
              "3  Action & Adventure, Independent Movies, Sci-Fi...   \n",
              "4                                             Dramas   \n",
              "\n",
              "                                         description Audience_AgeGroup month  \n",
              "0  In a future where the elite inhabit an island ...       Millennials   Aug  \n",
              "1  After a devastating earthquake hits Mexico Cit...       Millennials   Dec  \n",
              "2  When an army recruit is found dead, his fellow...       Millennials   Dec  \n",
              "3  In a postapocalyptic world, rag-doll robots hi...              Kids   Nov  \n",
              "4  A brilliant group of students become card-coun...              Kids   Jan  "
            ],
            "text/html": [
              "\n",
              "  <div id=\"df-19e28556-babd-4680-941f-d5fb95e7aee8\">\n",
              "    <div class=\"colab-df-container\">\n",
              "      <div>\n",
              "<style scoped>\n",
              "    .dataframe tbody tr th:only-of-type {\n",
              "        vertical-align: middle;\n",
              "    }\n",
              "\n",
              "    .dataframe tbody tr th {\n",
              "        vertical-align: top;\n",
              "    }\n",
              "\n",
              "    .dataframe thead th {\n",
              "        text-align: right;\n",
              "    }\n",
              "</style>\n",
              "<table border=\"1\" class=\"dataframe\">\n",
              "  <thead>\n",
              "    <tr style=\"text-align: right;\">\n",
              "      <th></th>\n",
              "      <th>show_id</th>\n",
              "      <th>type</th>\n",
              "      <th>title</th>\n",
              "      <th>director</th>\n",
              "      <th>cast</th>\n",
              "      <th>country</th>\n",
              "      <th>date_added</th>\n",
              "      <th>release_year</th>\n",
              "      <th>rating</th>\n",
              "      <th>duration</th>\n",
              "      <th>listed_in</th>\n",
              "      <th>description</th>\n",
              "      <th>Audience_AgeGroup</th>\n",
              "      <th>month</th>\n",
              "    </tr>\n",
              "  </thead>\n",
              "  <tbody>\n",
              "    <tr>\n",
              "      <th>0</th>\n",
              "      <td>s1</td>\n",
              "      <td>TV Show</td>\n",
              "      <td>3%</td>\n",
              "      <td>NaN</td>\n",
              "      <td>João Miguel, Bianca Comparato, Michel Gomes, R...</td>\n",
              "      <td>Brazil</td>\n",
              "      <td>August 14, 2020</td>\n",
              "      <td>2020</td>\n",
              "      <td>TV-MA</td>\n",
              "      <td>4 Seasons</td>\n",
              "      <td>International TV Shows, TV Dramas, TV Sci-Fi &amp;...</td>\n",
              "      <td>In a future where the elite inhabit an island ...</td>\n",
              "      <td>Millennials</td>\n",
              "      <td>Aug</td>\n",
              "    </tr>\n",
              "    <tr>\n",
              "      <th>1</th>\n",
              "      <td>s2</td>\n",
              "      <td>Movie</td>\n",
              "      <td>7:19</td>\n",
              "      <td>Jorge Michel Grau</td>\n",
              "      <td>Demián Bichir, Héctor Bonilla, Oscar Serrano, ...</td>\n",
              "      <td>Mexico</td>\n",
              "      <td>December 23, 2016</td>\n",
              "      <td>2016</td>\n",
              "      <td>TV-MA</td>\n",
              "      <td>93 min</td>\n",
              "      <td>Dramas, International Movies</td>\n",
              "      <td>After a devastating earthquake hits Mexico Cit...</td>\n",
              "      <td>Millennials</td>\n",
              "      <td>Dec</td>\n",
              "    </tr>\n",
              "    <tr>\n",
              "      <th>2</th>\n",
              "      <td>s3</td>\n",
              "      <td>Movie</td>\n",
              "      <td>23:59</td>\n",
              "      <td>Gilbert Chan</td>\n",
              "      <td>Tedd Chan, Stella Chung, Henley Hii, Lawrence ...</td>\n",
              "      <td>Singapore</td>\n",
              "      <td>December 20, 2018</td>\n",
              "      <td>2011</td>\n",
              "      <td>R</td>\n",
              "      <td>78 min</td>\n",
              "      <td>Horror Movies, International Movies</td>\n",
              "      <td>When an army recruit is found dead, his fellow...</td>\n",
              "      <td>Millennials</td>\n",
              "      <td>Dec</td>\n",
              "    </tr>\n",
              "    <tr>\n",
              "      <th>3</th>\n",
              "      <td>s4</td>\n",
              "      <td>Movie</td>\n",
              "      <td>9</td>\n",
              "      <td>Shane Acker</td>\n",
              "      <td>Elijah Wood, John C. Reilly, Jennifer Connelly...</td>\n",
              "      <td>United States</td>\n",
              "      <td>November 16, 2017</td>\n",
              "      <td>2009</td>\n",
              "      <td>PG-13</td>\n",
              "      <td>80 min</td>\n",
              "      <td>Action &amp; Adventure, Independent Movies, Sci-Fi...</td>\n",
              "      <td>In a postapocalyptic world, rag-doll robots hi...</td>\n",
              "      <td>Kids</td>\n",
              "      <td>Nov</td>\n",
              "    </tr>\n",
              "    <tr>\n",
              "      <th>4</th>\n",
              "      <td>s5</td>\n",
              "      <td>Movie</td>\n",
              "      <td>21</td>\n",
              "      <td>Robert Luketic</td>\n",
              "      <td>Jim Sturgess, Kevin Spacey, Kate Bosworth, Aar...</td>\n",
              "      <td>United States</td>\n",
              "      <td>January 1, 2020</td>\n",
              "      <td>2008</td>\n",
              "      <td>PG-13</td>\n",
              "      <td>123 min</td>\n",
              "      <td>Dramas</td>\n",
              "      <td>A brilliant group of students become card-coun...</td>\n",
              "      <td>Kids</td>\n",
              "      <td>Jan</td>\n",
              "    </tr>\n",
              "  </tbody>\n",
              "</table>\n",
              "</div>\n",
              "      <button class=\"colab-df-convert\" onclick=\"convertToInteractive('df-19e28556-babd-4680-941f-d5fb95e7aee8')\"\n",
              "              title=\"Convert this dataframe to an interactive table.\"\n",
              "              style=\"display:none;\">\n",
              "        \n",
              "  <svg xmlns=\"http://www.w3.org/2000/svg\" height=\"24px\"viewBox=\"0 0 24 24\"\n",
              "       width=\"24px\">\n",
              "    <path d=\"M0 0h24v24H0V0z\" fill=\"none\"/>\n",
              "    <path d=\"M18.56 5.44l.94 2.06.94-2.06 2.06-.94-2.06-.94-.94-2.06-.94 2.06-2.06.94zm-11 1L8.5 8.5l.94-2.06 2.06-.94-2.06-.94L8.5 2.5l-.94 2.06-2.06.94zm10 10l.94 2.06.94-2.06 2.06-.94-2.06-.94-.94-2.06-.94 2.06-2.06.94z\"/><path d=\"M17.41 7.96l-1.37-1.37c-.4-.4-.92-.59-1.43-.59-.52 0-1.04.2-1.43.59L10.3 9.45l-7.72 7.72c-.78.78-.78 2.05 0 2.83L4 21.41c.39.39.9.59 1.41.59.51 0 1.02-.2 1.41-.59l7.78-7.78 2.81-2.81c.8-.78.8-2.07 0-2.86zM5.41 20L4 18.59l7.72-7.72 1.47 1.35L5.41 20z\"/>\n",
              "  </svg>\n",
              "      </button>\n",
              "      \n",
              "  <style>\n",
              "    .colab-df-container {\n",
              "      display:flex;\n",
              "      flex-wrap:wrap;\n",
              "      gap: 12px;\n",
              "    }\n",
              "\n",
              "    .colab-df-convert {\n",
              "      background-color: #E8F0FE;\n",
              "      border: none;\n",
              "      border-radius: 50%;\n",
              "      cursor: pointer;\n",
              "      display: none;\n",
              "      fill: #1967D2;\n",
              "      height: 32px;\n",
              "      padding: 0 0 0 0;\n",
              "      width: 32px;\n",
              "    }\n",
              "\n",
              "    .colab-df-convert:hover {\n",
              "      background-color: #E2EBFA;\n",
              "      box-shadow: 0px 1px 2px rgba(60, 64, 67, 0.3), 0px 1px 3px 1px rgba(60, 64, 67, 0.15);\n",
              "      fill: #174EA6;\n",
              "    }\n",
              "\n",
              "    [theme=dark] .colab-df-convert {\n",
              "      background-color: #3B4455;\n",
              "      fill: #D2E3FC;\n",
              "    }\n",
              "\n",
              "    [theme=dark] .colab-df-convert:hover {\n",
              "      background-color: #434B5C;\n",
              "      box-shadow: 0px 1px 3px 1px rgba(0, 0, 0, 0.15);\n",
              "      filter: drop-shadow(0px 1px 2px rgba(0, 0, 0, 0.3));\n",
              "      fill: #FFFFFF;\n",
              "    }\n",
              "  </style>\n",
              "\n",
              "      <script>\n",
              "        const buttonEl =\n",
              "          document.querySelector('#df-19e28556-babd-4680-941f-d5fb95e7aee8 button.colab-df-convert');\n",
              "        buttonEl.style.display =\n",
              "          google.colab.kernel.accessAllowed ? 'block' : 'none';\n",
              "\n",
              "        async function convertToInteractive(key) {\n",
              "          const element = document.querySelector('#df-19e28556-babd-4680-941f-d5fb95e7aee8');\n",
              "          const dataTable =\n",
              "            await google.colab.kernel.invokeFunction('convertToInteractive',\n",
              "                                                     [key], {});\n",
              "          if (!dataTable) return;\n",
              "\n",
              "          const docLinkHtml = 'Like what you see? Visit the ' +\n",
              "            '<a target=\"_blank\" href=https://colab.research.google.com/notebooks/data_table.ipynb>data table notebook</a>'\n",
              "            + ' to learn more about interactive tables.';\n",
              "          element.innerHTML = '';\n",
              "          dataTable['output_type'] = 'display_data';\n",
              "          await google.colab.output.renderOutput(dataTable, element);\n",
              "          const docLink = document.createElement('div');\n",
              "          docLink.innerHTML = docLinkHtml;\n",
              "          element.appendChild(docLink);\n",
              "        }\n",
              "      </script>\n",
              "    </div>\n",
              "  </div>\n",
              "  "
            ]
          },
          "metadata": {},
          "execution_count": 34
        }
      ]
    },
    {
      "cell_type": "code",
      "source": [
        "!pip install squarify"
      ],
      "metadata": {
        "id": "48_8x6K8iqDQ",
        "colab": {
          "base_uri": "https://localhost:8080/"
        },
        "outputId": "1508b49d-7bca-45d5-95bc-71b834140cc3"
      },
      "execution_count": null,
      "outputs": [
        {
          "output_type": "stream",
          "name": "stdout",
          "text": [
            "Looking in indexes: https://pypi.org/simple, https://us-python.pkg.dev/colab-wheels/public/simple/\n",
            "Requirement already satisfied: squarify in /usr/local/lib/python3.8/dist-packages (0.4.3)\n"
          ]
        }
      ]
    },
    {
      "cell_type": "code",
      "source": [
        "# Making a TreeMap\n",
        "import squarify\n",
        "y = df.month.value_counts()\n",
        "fig = plt.figure(figsize = (10,10))\n",
        "squarify.plot(sizes = y.values , label = y.index , color = sns.color_palette('RdGy' , n_colors = 20),\n",
        "             linewidth = 4 , text_kwargs = {'fontsize' : 14 , 'fontweight' : 'bold'})\n",
        "plt.title('Content added by Month' , position = (0.5 , 1.0 + 0.03) , fontsize = '20' , fontweight = 'bold')\n",
        "plt.axis('off')\n",
        "plt.show()"
      ],
      "metadata": {
        "colab": {
          "base_uri": "https://localhost:8080/",
          "height": 612
        },
        "id": "qn4NoRJOielu",
        "outputId": "2b59acd6-b765-454e-e696-21dfb4df553d"
      },
      "execution_count": null,
      "outputs": [
        {
          "output_type": "display_data",
          "data": {
            "text/plain": [
              "<Figure size 720x720 with 1 Axes>"
            ],
            "image/png": "[encoded data removed]"
          },
          "metadata": {}
        }
      ]
    },
    {
      "cell_type": "markdown",
      "source": [
        "***December was the month were the most amount of content was added on Netflix followed by October***."
      ],
      "metadata": {
        "id": "tQ4w076zjHFB"
      }
    },
    {
      "cell_type": "code",
      "source": [
        "\n",
        "df.duration.value_counts().to_frame()"
      ],
      "metadata": {
        "colab": {
          "base_uri": "https://localhost:8080/",
          "height": 424
        },
        "id": "7g9fXcK2SSo8",
        "outputId": "3360cb90-5fda-48c8-fc2d-a0ef6711fdd4"
      },
      "execution_count": null,
      "outputs": [
        {
          "output_type": "execute_result",
          "data": {
            "text/plain": [
              "           duration\n",
              "1 Season       1606\n",
              "2 Seasons       378\n",
              "3 Seasons       183\n",
              "90 min          136\n",
              "93 min          131\n",
              "...             ...\n",
              "182 min           1\n",
              "224 min           1\n",
              "37 min            1\n",
              "233 min           1\n",
              "191 min           1\n",
              "\n",
              "[216 rows x 1 columns]"
            ],
            "text/html": [
              "\n",
              "  <div id=\"df-740a27b0-7cf4-43b6-a451-837398698bd8\">\n",
              "    <div class=\"colab-df-container\">\n",
              "      <div>\n",
              "<style scoped>\n",
              "    .dataframe tbody tr th:only-of-type {\n",
              "        vertical-align: middle;\n",
              "    }\n",
              "\n",
              "    .dataframe tbody tr th {\n",
              "        vertical-align: top;\n",
              "    }\n",
              "\n",
              "    .dataframe thead th {\n",
              "        text-align: right;\n",
              "    }\n",
              "</style>\n",
              "<table border=\"1\" class=\"dataframe\">\n",
              "  <thead>\n",
              "    <tr style=\"text-align: right;\">\n",
              "      <th></th>\n",
              "      <th>duration</th>\n",
              "    </tr>\n",
              "  </thead>\n",
              "  <tbody>\n",
              "    <tr>\n",
              "      <th>1 Season</th>\n",
              "      <td>1606</td>\n",
              "    </tr>\n",
              "    <tr>\n",
              "      <th>2 Seasons</th>\n",
              "      <td>378</td>\n",
              "    </tr>\n",
              "    <tr>\n",
              "      <th>3 Seasons</th>\n",
              "      <td>183</td>\n",
              "    </tr>\n",
              "    <tr>\n",
              "      <th>90 min</th>\n",
              "      <td>136</td>\n",
              "    </tr>\n",
              "    <tr>\n",
              "      <th>93 min</th>\n",
              "      <td>131</td>\n",
              "    </tr>\n",
              "    <tr>\n",
              "      <th>...</th>\n",
              "      <td>...</td>\n",
              "    </tr>\n",
              "    <tr>\n",
              "      <th>182 min</th>\n",
              "      <td>1</td>\n",
              "    </tr>\n",
              "    <tr>\n",
              "      <th>224 min</th>\n",
              "      <td>1</td>\n",
              "    </tr>\n",
              "    <tr>\n",
              "      <th>37 min</th>\n",
              "      <td>1</td>\n",
              "    </tr>\n",
              "    <tr>\n",
              "      <th>233 min</th>\n",
              "      <td>1</td>\n",
              "    </tr>\n",
              "    <tr>\n",
              "      <th>191 min</th>\n",
              "      <td>1</td>\n",
              "    </tr>\n",
              "  </tbody>\n",
              "</table>\n",
              "<p>216 rows × 1 columns</p>\n",
              "</div>\n",
              "      <button class=\"colab-df-convert\" onclick=\"convertToInteractive('df-740a27b0-7cf4-43b6-a451-837398698bd8')\"\n",
              "              title=\"Convert this dataframe to an interactive table.\"\n",
              "              style=\"display:none;\">\n",
              "        \n",
              "  <svg xmlns=\"http://www.w3.org/2000/svg\" height=\"24px\"viewBox=\"0 0 24 24\"\n",
              "       width=\"24px\">\n",
              "    <path d=\"M0 0h24v24H0V0z\" fill=\"none\"/>\n",
              "    <path d=\"M18.56 5.44l.94 2.06.94-2.06 2.06-.94-2.06-.94-.94-2.06-.94 2.06-2.06.94zm-11 1L8.5 8.5l.94-2.06 2.06-.94-2.06-.94L8.5 2.5l-.94 2.06-2.06.94zm10 10l.94 2.06.94-2.06 2.06-.94-2.06-.94-.94-2.06-.94 2.06-2.06.94z\"/><path d=\"M17.41 7.96l-1.37-1.37c-.4-.4-.92-.59-1.43-.59-.52 0-1.04.2-1.43.59L10.3 9.45l-7.72 7.72c-.78.78-.78 2.05 0 2.83L4 21.41c.39.39.9.59 1.41.59.51 0 1.02-.2 1.41-.59l7.78-7.78 2.81-2.81c.8-.78.8-2.07 0-2.86zM5.41 20L4 18.59l7.72-7.72 1.47 1.35L5.41 20z\"/>\n",
              "  </svg>\n",
              "      </button>\n",
              "      \n",
              "  <style>\n",
              "    .colab-df-container {\n",
              "      display:flex;\n",
              "      flex-wrap:wrap;\n",
              "      gap: 12px;\n",
              "    }\n",
              "\n",
              "    .colab-df-convert {\n",
              "      background-color: #E8F0FE;\n",
              "      border: none;\n",
              "      border-radius: 50%;\n",
              "      cursor: pointer;\n",
              "      display: none;\n",
              "      fill: #1967D2;\n",
              "      height: 32px;\n",
              "      padding: 0 0 0 0;\n",
              "      width: 32px;\n",
              "    }\n",
              "\n",
              "    .colab-df-convert:hover {\n",
              "      background-color: #E2EBFA;\n",
              "      box-shadow: 0px 1px 2px rgba(60, 64, 67, 0.3), 0px 1px 3px 1px rgba(60, 64, 67, 0.15);\n",
              "      fill: #174EA6;\n",
              "    }\n",
              "\n",
              "    [theme=dark] .colab-df-convert {\n",
              "      background-color: #3B4455;\n",
              "      fill: #D2E3FC;\n",
              "    }\n",
              "\n",
              "    [theme=dark] .colab-df-convert:hover {\n",
              "      background-color: #434B5C;\n",
              "      box-shadow: 0px 1px 3px 1px rgba(0, 0, 0, 0.15);\n",
              "      filter: drop-shadow(0px 1px 2px rgba(0, 0, 0, 0.3));\n",
              "      fill: #FFFFFF;\n",
              "    }\n",
              "  </style>\n",
              "\n",
              "      <script>\n",
              "        const buttonEl =\n",
              "          document.querySelector('#df-740a27b0-7cf4-43b6-a451-837398698bd8 button.colab-df-convert');\n",
              "        buttonEl.style.display =\n",
              "          google.colab.kernel.accessAllowed ? 'block' : 'none';\n",
              "\n",
              "        async function convertToInteractive(key) {\n",
              "          const element = document.querySelector('#df-740a27b0-7cf4-43b6-a451-837398698bd8');\n",
              "          const dataTable =\n",
              "            await google.colab.kernel.invokeFunction('convertToInteractive',\n",
              "                                                     [key], {});\n",
              "          if (!dataTable) return;\n",
              "\n",
              "          const docLinkHtml = 'Like what you see? Visit the ' +\n",
              "            '<a target=\"_blank\" href=https://colab.research.google.com/notebooks/data_table.ipynb>data table notebook</a>'\n",
              "            + ' to learn more about interactive tables.';\n",
              "          element.innerHTML = '';\n",
              "          dataTable['output_type'] = 'display_data';\n",
              "          await google.colab.output.renderOutput(dataTable, element);\n",
              "          const docLink = document.createElement('div');\n",
              "          docLink.innerHTML = docLinkHtml;\n",
              "          element.appendChild(docLink);\n",
              "        }\n",
              "      </script>\n",
              "    </div>\n",
              "  </div>\n",
              "  "
            ]
          },
          "metadata": {},
          "execution_count": 37
        }
      ]
    },
    {
      "cell_type": "markdown",
      "source": [],
      "metadata": {
        "id": "J3D10cE8q6f4"
      }
    },
    {
      "cell_type": "markdown",
      "source": [
        "Research says that the average duration of a single episode of Netflix is 55 minutes and the average number of episodes in a single season of a show is 10."
      ],
      "metadata": {
        "id": "4TXOcax-tXZW"
      }
    },
    {
      "cell_type": "code",
      "source": [
        "def min_check(x):\n",
        "  if ('Seasons' in x) | ('Season' in x):\n",
        "    y = int(x[0])*550\n",
        "    y = str(y) +' ' + 'min'\n",
        "    return y\n",
        "  else:\n",
        "    return x"
      ],
      "metadata": {
        "id": "C3iYz876-oyz"
      },
      "execution_count": null,
      "outputs": []
    },
    {
      "cell_type": "code",
      "source": [
        "def interger_min(x):\n",
        "  if 'min' in str(x):\n",
        "    y = x.replace(' min', '')\n",
        "    y = int(y)\n",
        "    return y\n",
        "  else:\n",
        "    return x\n",
        "     "
      ],
      "metadata": {
        "id": "eFd_BdbR4Kh3"
      },
      "execution_count": null,
      "outputs": []
    },
    {
      "cell_type": "code",
      "source": [
        "df1['duration_in_min2'] = df1['duration'].apply(lambda x: min_check(x))"
      ],
      "metadata": {
        "id": "2CI3UIxDAS5H"
      },
      "execution_count": null,
      "outputs": []
    },
    {
      "cell_type": "code",
      "source": [
        "df1['duration_in_min'] = df1['duration_in_min2'].apply(lambda x: interger_min(x))"
      ],
      "metadata": {
        "id": "7Ac98IgX4seN"
      },
      "execution_count": null,
      "outputs": []
    },
    {
      "cell_type": "code",
      "source": [
        "df1.drop(columns = (['duration','duration_in_min2']), inplace =  True)"
      ],
      "metadata": {
        "id": "RUjYu6zY9qb_"
      },
      "execution_count": null,
      "outputs": []
    },
    {
      "cell_type": "code",
      "source": [
        "df1.info()"
      ],
      "metadata": {
        "colab": {
          "base_uri": "https://localhost:8080/"
        },
        "id": "ZB9Uc3S25REW",
        "outputId": "421d190f-7227-4e10-fec6-a19a84dfe052"
      },
      "execution_count": null,
      "outputs": [
        {
          "output_type": "stream",
          "name": "stdout",
          "text": [
            "<class 'pandas.core.frame.DataFrame'>\n",
            "Int64Index: 7770 entries, 0 to 7786\n",
            "Data columns (total 14 columns):\n",
            " #   Column             Non-Null Count  Dtype \n",
            "---  ------             --------------  ----- \n",
            " 0   show_id            7770 non-null   object\n",
            " 1   type               7770 non-null   object\n",
            " 2   title              7770 non-null   object\n",
            " 3   director           5394 non-null   object\n",
            " 4   cast               7770 non-null   object\n",
            " 5   country            7770 non-null   object\n",
            " 6   date_added         7770 non-null   object\n",
            " 7   release_year       7770 non-null   int64 \n",
            " 8   rating             7770 non-null   object\n",
            " 9   listed_in          7770 non-null   object\n",
            " 10  description        7770 non-null   object\n",
            " 11  Audience_AgeGroup  7770 non-null   object\n",
            " 12  month              7770 non-null   object\n",
            " 13  duration_in_min    7770 non-null   int64 \n",
            "dtypes: int64(2), object(12)\n",
            "memory usage: 1.1+ MB\n"
          ]
        }
      ]
    },
    {
      "cell_type": "code",
      "source": [
        "\n",
        "sns.set(rc={'figure.figsize':(30,8)})\n",
        "g = sns.countplot(data = df, x='country',palette=\"Paired_r\",order=df['country'].value_counts().index[0:10],hue = 'rating', )\n",
        "sns.move_legend(g, \"upper left\", bbox_to_anchor=(.90, .95), title='Country vs Rating')"
      ],
      "metadata": {
        "colab": {
          "base_uri": "https://localhost:8080/",
          "height": 411
        },
        "id": "8BKT0sjf1cSY",
        "outputId": "9aed3655-6ea9-454c-aed3-5501a0b6a117"
      },
      "execution_count": null,
      "outputs": [
        {
          "output_type": "display_data",
          "data": {
            "text/plain": [
              "<Figure size 2160x576 with 1 Axes>"
            ],
            "image/png": "[encoded data removed]"
          },
          "metadata": {}
        }
      ]
    },
    {
      "cell_type": "markdown",
      "source": [
        "***Here we can see the distribution of content is highest in US reason being there are myriad of cultures thats why US produces variety of content on Netflix. As the total content count of a country decreases, the range of content cease to exist.***"
      ],
      "metadata": {
        "id": "RYez4hlz3fJQ"
      }
    },
    {
      "cell_type": "code",
      "source": [
        "df.director.value_counts().to_frame()"
      ],
      "metadata": {
        "colab": {
          "base_uri": "https://localhost:8080/",
          "height": 424
        },
        "id": "iX-cQGcQ1nGg",
        "outputId": "d73660d4-b9e2-4dae-c45f-4fee52ea426a"
      },
      "execution_count": null,
      "outputs": [
        {
          "output_type": "execute_result",
          "data": {
            "text/plain": [
              "                        director\n",
              "Raúl Campos, Jan Suter        18\n",
              "Marcus Raboy                  16\n",
              "Jay Karas                     14\n",
              "Cathy Garcia-Molina           13\n",
              "Jay Chapman                   12\n",
              "...                          ...\n",
              "Vibhu Virender Puri            1\n",
              "Lucien Jean-Baptiste           1\n",
              "Jason Krawczyk                 1\n",
              "Quinn Lasher                   1\n",
              "Sam Dunn                       1\n",
              "\n",
              "[4047 rows x 1 columns]"
            ],
            "text/html": [
              "\n",
              "  <div id=\"df-26daecac-a75b-41d1-bc7d-d75536412a64\">\n",
              "    <div class=\"colab-df-container\">\n",
              "      <div>\n",
              "<style scoped>\n",
              "    .dataframe tbody tr th:only-of-type {\n",
              "        vertical-align: middle;\n",
              "    }\n",
              "\n",
              "    .dataframe tbody tr th {\n",
              "        vertical-align: top;\n",
              "    }\n",
              "\n",
              "    .dataframe thead th {\n",
              "        text-align: right;\n",
              "    }\n",
              "</style>\n",
              "<table border=\"1\" class=\"dataframe\">\n",
              "  <thead>\n",
              "    <tr style=\"text-align: right;\">\n",
              "      <th></th>\n",
              "      <th>director</th>\n",
              "    </tr>\n",
              "  </thead>\n",
              "  <tbody>\n",
              "    <tr>\n",
              "      <th>Raúl Campos, Jan Suter</th>\n",
              "      <td>18</td>\n",
              "    </tr>\n",
              "    <tr>\n",
              "      <th>Marcus Raboy</th>\n",
              "      <td>16</td>\n",
              "    </tr>\n",
              "    <tr>\n",
              "      <th>Jay Karas</th>\n",
              "      <td>14</td>\n",
              "    </tr>\n",
              "    <tr>\n",
              "      <th>Cathy Garcia-Molina</th>\n",
              "      <td>13</td>\n",
              "    </tr>\n",
              "    <tr>\n",
              "      <th>Jay Chapman</th>\n",
              "      <td>12</td>\n",
              "    </tr>\n",
              "    <tr>\n",
              "      <th>...</th>\n",
              "      <td>...</td>\n",
              "    </tr>\n",
              "    <tr>\n",
              "      <th>Vibhu Virender Puri</th>\n",
              "      <td>1</td>\n",
              "    </tr>\n",
              "    <tr>\n",
              "      <th>Lucien Jean-Baptiste</th>\n",
              "      <td>1</td>\n",
              "    </tr>\n",
              "    <tr>\n",
              "      <th>Jason Krawczyk</th>\n",
              "      <td>1</td>\n",
              "    </tr>\n",
              "    <tr>\n",
              "      <th>Quinn Lasher</th>\n",
              "      <td>1</td>\n",
              "    </tr>\n",
              "    <tr>\n",
              "      <th>Sam Dunn</th>\n",
              "      <td>1</td>\n",
              "    </tr>\n",
              "  </tbody>\n",
              "</table>\n",
              "<p>4047 rows × 1 columns</p>\n",
              "</div>\n",
              "      <button class=\"colab-df-convert\" onclick=\"convertToInteractive('df-26daecac-a75b-41d1-bc7d-d75536412a64')\"\n",
              "              title=\"Convert this dataframe to an interactive table.\"\n",
              "              style=\"display:none;\">\n",
              "        \n",
              "  <svg xmlns=\"http://www.w3.org/2000/svg\" height=\"24px\"viewBox=\"0 0 24 24\"\n",
              "       width=\"24px\">\n",
              "    <path d=\"M0 0h24v24H0V0z\" fill=\"none\"/>\n",
              "    <path d=\"M18.56 5.44l.94 2.06.94-2.06 2.06-.94-2.06-.94-.94-2.06-.94 2.06-2.06.94zm-11 1L8.5 8.5l.94-2.06 2.06-.94-2.06-.94L8.5 2.5l-.94 2.06-2.06.94zm10 10l.94 2.06.94-2.06 2.06-.94-2.06-.94-.94-2.06-.94 2.06-2.06.94z\"/><path d=\"M17.41 7.96l-1.37-1.37c-.4-.4-.92-.59-1.43-.59-.52 0-1.04.2-1.43.59L10.3 9.45l-7.72 7.72c-.78.78-.78 2.05 0 2.83L4 21.41c.39.39.9.59 1.41.59.51 0 1.02-.2 1.41-.59l7.78-7.78 2.81-2.81c.8-.78.8-2.07 0-2.86zM5.41 20L4 18.59l7.72-7.72 1.47 1.35L5.41 20z\"/>\n",
              "  </svg>\n",
              "      </button>\n",
              "      \n",
              "  <style>\n",
              "    .colab-df-container {\n",
              "      display:flex;\n",
              "      flex-wrap:wrap;\n",
              "      gap: 12px;\n",
              "    }\n",
              "\n",
              "    .colab-df-convert {\n",
              "      background-color: #E8F0FE;\n",
              "      border: none;\n",
              "      border-radius: 50%;\n",
              "      cursor: pointer;\n",
              "      display: none;\n",
              "      fill: #1967D2;\n",
              "      height: 32px;\n",
              "      padding: 0 0 0 0;\n",
              "      width: 32px;\n",
              "    }\n",
              "\n",
              "    .colab-df-convert:hover {\n",
              "      background-color: #E2EBFA;\n",
              "      box-shadow: 0px 1px 2px rgba(60, 64, 67, 0.3), 0px 1px 3px 1px rgba(60, 64, 67, 0.15);\n",
              "      fill: #174EA6;\n",
              "    }\n",
              "\n",
              "    [theme=dark] .colab-df-convert {\n",
              "      background-color: #3B4455;\n",
              "      fill: #D2E3FC;\n",
              "    }\n",
              "\n",
              "    [theme=dark] .colab-df-convert:hover {\n",
              "      background-color: #434B5C;\n",
              "      box-shadow: 0px 1px 3px 1px rgba(0, 0, 0, 0.15);\n",
              "      filter: drop-shadow(0px 1px 2px rgba(0, 0, 0, 0.3));\n",
              "      fill: #FFFFFF;\n",
              "    }\n",
              "  </style>\n",
              "\n",
              "      <script>\n",
              "        const buttonEl =\n",
              "          document.querySelector('#df-26daecac-a75b-41d1-bc7d-d75536412a64 button.colab-df-convert');\n",
              "        buttonEl.style.display =\n",
              "          google.colab.kernel.accessAllowed ? 'block' : 'none';\n",
              "\n",
              "        async function convertToInteractive(key) {\n",
              "          const element = document.querySelector('#df-26daecac-a75b-41d1-bc7d-d75536412a64');\n",
              "          const dataTable =\n",
              "            await google.colab.kernel.invokeFunction('convertToInteractive',\n",
              "                                                     [key], {});\n",
              "          if (!dataTable) return;\n",
              "\n",
              "          const docLinkHtml = 'Like what you see? Visit the ' +\n",
              "            '<a target=\"_blank\" href=https://colab.research.google.com/notebooks/data_table.ipynb>data table notebook</a>'\n",
              "            + ' to learn more about interactive tables.';\n",
              "          element.innerHTML = '';\n",
              "          dataTable['output_type'] = 'display_data';\n",
              "          await google.colab.output.renderOutput(dataTable, element);\n",
              "          const docLink = document.createElement('div');\n",
              "          docLink.innerHTML = docLinkHtml;\n",
              "          element.appendChild(docLink);\n",
              "        }\n",
              "      </script>\n",
              "    </div>\n",
              "  </div>\n",
              "  "
            ]
          },
          "metadata": {},
          "execution_count": 45
        }
      ]
    },
    {
      "cell_type": "code",
      "source": [
        "df2 = df.copy()"
      ],
      "metadata": {
        "id": "Vop6qiqh8hoQ"
      },
      "execution_count": null,
      "outputs": []
    },
    {
      "cell_type": "code",
      "source": [
        "df2.dropna(subset =(['director']), inplace =  True )"
      ],
      "metadata": {
        "id": "29CUDgJd8j98"
      },
      "execution_count": null,
      "outputs": []
    },
    {
      "cell_type": "code",
      "source": [
        "sns.set(rc={'figure.figsize':(30,8)})\n",
        "ax = sns.countplot(data = df2, x='director',palette=\"Spectral\",order=df['director'].value_counts().index[0:15],hue='rating')\n",
        "plt.title('Ratings with respect to Directors',fontsize = 25  )"
      ],
      "metadata": {
        "colab": {
          "base_uri": "https://localhost:8080/",
          "height": 453
        },
        "id": "mYPg-9kd66kP",
        "outputId": "e2b5d441-1f70-455e-e426-f85e8ac813f3"
      },
      "execution_count": null,
      "outputs": [
        {
          "output_type": "execute_result",
          "data": {
            "text/plain": [
              "Text(0.5, 1.0, 'Ratings with respect to Directors')"
            ]
          },
          "metadata": {},
          "execution_count": 48
        },
        {
          "output_type": "display_data",
          "data": {
            "text/plain": [
              "<Figure size 2160x576 with 1 Axes>"
            ],
            "image/png": "[encoded data removed]"
          },
          "metadata": {}
        }
      ]
    },
    {
      "cell_type": "markdown",
      "source": [
        "***Majority of directors had their content rated as TV-MA(Mature Audience). As directors specialize in specific type of content, there aren't many directors who produce Movies or TV Shows with multiple ratings. ***"
      ],
      "metadata": {
        "id": "2pdIQeov9SHi"
      }
    },
    {
      "cell_type": "code",
      "source": [
        "df_duration = df1.groupby('type').count()['duration_in_min']"
      ],
      "metadata": {
        "id": "0Hj3_LFfCJGM"
      },
      "execution_count": null,
      "outputs": []
    },
    {
      "cell_type": "code",
      "source": [
        "df_duration"
      ],
      "metadata": {
        "colab": {
          "base_uri": "https://localhost:8080/"
        },
        "id": "9LyV1qWaHhg6",
        "outputId": "5dc5005d-e246-44d0-d1a2-b310f562b427"
      },
      "execution_count": null,
      "outputs": [
        {
          "output_type": "execute_result",
          "data": {
            "text/plain": [
              "type\n",
              "Movie      5372\n",
              "TV Show    2398\n",
              "Name: duration_in_min, dtype: int64"
            ]
          },
          "metadata": {},
          "execution_count": 50
        }
      ]
    },
    {
      "cell_type": "code",
      "source": [
        "df_duration.plot(kind='pie', figsize = (10,10))"
      ],
      "metadata": {
        "colab": {
          "base_uri": "https://localhost:8080/",
          "height": 593
        },
        "id": "iE0SX-lwHyhX",
        "outputId": "03959203-85d9-4483-e426-0a9d42b36b65"
      },
      "execution_count": null,
      "outputs": [
        {
          "output_type": "execute_result",
          "data": {
            "text/plain": [
              "<matplotlib.axes._subplots.AxesSubplot at 0x7f6d2030f190>"
            ]
          },
          "metadata": {},
          "execution_count": 51
        },
        {
          "output_type": "display_data",
          "data": {
            "text/plain": [
              "<Figure size 720x720 with 1 Axes>"
            ],
            "image/png": "[encoded data removed]"
          },
          "metadata": {}
        }
      ]
    },
    {
      "cell_type": "markdown",
      "source": [
        "***The duration of content on Movie is signficantly higher than that of TV Show.  ***"
      ],
      "metadata": {
        "id": "_BTPBzAuI0Tf"
      }
    },
    {
      "cell_type": "markdown",
      "source": [
        "***Most of the content on Netflix has a duration of 550 minutes followed by a duration of 1100 minutes.***"
      ],
      "metadata": {
        "id": "mcb00FVCGD35"
      }
    },
    {
      "cell_type": "code",
      "source": [
        "\n",
        "tv_shows = df1[df1['type'] == 'TV Show']\n",
        "movies = df1[df1['type'] == 'Movie']"
      ],
      "metadata": {
        "id": "jor5g_s9cFzS"
      },
      "execution_count": null,
      "outputs": []
    },
    {
      "cell_type": "code",
      "source": [
        "duration_tv_shows = tv_shows['duration_in_min'].reset_index()\n",
        "duration_movies = movies['duration_in_min'].reset_index()"
      ],
      "metadata": {
        "id": "zWsfnrsKcOXi"
      },
      "execution_count": null,
      "outputs": []
    },
    {
      "cell_type": "code",
      "source": [
        "\n",
        "plt.figure(figsize=(15,8))\n",
        "sns.set(style=\"darkgrid\")\n",
        "sns.histplot(data=duration_tv_shows['duration_in_min'], color= 'Cyan')\n",
        "plt.title('Duration of Tv Shows.')\n",
        "plt.show()\n",
        "     "
      ],
      "metadata": {
        "colab": {
          "base_uri": "https://localhost:8080/",
          "height": 518
        },
        "id": "_aZybhaIcSpT",
        "outputId": "d4f85c11-3417-4f86-985e-d663f173aa4a"
      },
      "execution_count": null,
      "outputs": [
        {
          "output_type": "display_data",
          "data": {
            "text/plain": [
              "<Figure size 1080x576 with 1 Axes>"
            ],
            "image/png": "[encoded data removed]"
          },
          "metadata": {}
        }
      ]
    },
    {
      "cell_type": "markdown",
      "source": [
        "***Most of the TV Show content duration is around 500 followed by 1000 minutes. 550 minutes comprise of single season and two seasons in 1000 minutes. Most of Shows may have been stopped producing halfway due to lack of finanicial resources and viewership.***"
      ],
      "metadata": {
        "id": "UOx6QMMHc0g8"
      }
    },
    {
      "cell_type": "code",
      "source": [
        "plt.figure(figsize=(20,12))\n",
        "sns.set(style=\"darkgrid\")\n",
        "sns.stripplot(data=duration_movies['duration_in_min'], color='Olive')\n",
        "plt.title('Duration of Movies.')\n",
        "plt.show()"
      ],
      "metadata": {
        "colab": {
          "base_uri": "https://localhost:8080/",
          "height": 719
        },
        "id": "mWvyknwsdqZ2",
        "outputId": "4d7e2752-7b0a-48a2-fab4-ddb0046a70b5"
      },
      "execution_count": null,
      "outputs": [
        {
          "output_type": "display_data",
          "data": {
            "text/plain": [
              "<Figure size 1440x864 with 1 Axes>"
            ],
            "image/png": "[encoded data removed]"
          },
          "metadata": {}
        }
      ]
    },
    {
      "cell_type": "markdown",
      "source": [
        "***As we can see most of movies are around 100 to 120 minute mark which accounts to around 2hrs.Directors prefer to tell the story in 2hrs because it is the ideal period of time to getting into crucial details and not dive too much into intricacies. Most of the people find it tiring if its a long movie.***"
      ],
      "metadata": {
        "id": "MlIThkJdeKru"
      }
    },
    {
      "cell_type": "code",
      "source": [
        "df1.listed_in.unique()"
      ],
      "metadata": {
        "colab": {
          "base_uri": "https://localhost:8080/"
        },
        "id": "dOSGZLJNTSAu",
        "outputId": "9295b6eb-cf27-4da2-fbdf-4937531c86b6"
      },
      "execution_count": null,
      "outputs": [
        {
          "output_type": "execute_result",
          "data": {
            "text/plain": [
              "array(['International TV Shows, TV Dramas, TV Sci-Fi & Fantasy',\n",
              "       'Dramas, International Movies',\n",
              "       'Horror Movies, International Movies',\n",
              "       'Action & Adventure, Independent Movies, Sci-Fi & Fantasy',\n",
              "       'Dramas', 'International TV Shows, TV Dramas, TV Mysteries',\n",
              "       'Horror Movies, International Movies, Thrillers',\n",
              "       'Dramas, Thrillers',\n",
              "       'Crime TV Shows, International TV Shows, TV Dramas',\n",
              "       'Crime TV Shows, Docuseries, International TV Shows',\n",
              "       'Documentaries, International Movies, Sports Movies',\n",
              "       'Independent Movies, Sci-Fi & Fantasy, Thrillers',\n",
              "       'Dramas, International Movies, Thrillers',\n",
              "       'International TV Shows, TV Dramas',\n",
              "       'Comedies, Dramas, Independent Movies', 'Sports Movies',\n",
              "       'Dramas, Independent Movies, International Movies',\n",
              "       'Action & Adventure, Dramas, International Movies',\n",
              "       'Anime Series, International TV Shows', 'Documentaries',\n",
              "       'Reality TV', 'Documentaries, International Movies', 'TV Comedies',\n",
              "       'Dramas, International Movies, Romantic Movies', 'Comedies',\n",
              "       'Comedies, Romantic Movies', 'Documentaries, Sports Movies',\n",
              "       'Comedies, Dramas, International Movies',\n",
              "       'International TV Shows, Romantic TV Shows, TV Comedies',\n",
              "       'Comedies, International Movies',\n",
              "       'Action & Adventure, Sci-Fi & Fantasy', 'Dramas, Romantic Movies',\n",
              "       'Dramas, Romantic Movies, Sports Movies',\n",
              "       'Comedies, International Movies, Romantic Movies',\n",
              "       'Action & Adventure',\n",
              "       'International TV Shows, Romantic TV Shows, TV Dramas',\n",
              "       'Docuseries, Science & Nature TV',\n",
              "       'Dramas, International Movies, Sports Movies', 'Movies',\n",
              "       'British TV Shows, International TV Shows, Reality TV',\n",
              "       'Dramas, Independent Movies, Sports Movies',\n",
              "       'International TV Shows, Korean TV Shows, Romantic TV Shows',\n",
              "       'Horror Movies, Independent Movies, Thrillers',\n",
              "       'Crime TV Shows, TV Dramas, TV Mysteries',\n",
              "       'Crime TV Shows, Docuseries', 'Horror Movies, Thrillers',\n",
              "       'Action & Adventure, International Movies',\n",
              "       'Horror Movies, Independent Movies',\n",
              "       'Documentaries, Music & Musicals',\n",
              "       'International Movies, Music & Musicals', 'Sci-Fi & Fantasy',\n",
              "       'Dramas, Independent Movies', 'British TV Shows, Reality TV',\n",
              "       'Action & Adventure, Comedies, International Movies',\n",
              "       'Comedies, Dramas', 'Dramas, LGBTQ Movies',\n",
              "       'Documentaries, Faith & Spirituality',\n",
              "       'Action & Adventure, Comedies',\n",
              "       \"Kids' TV, TV Action & Adventure, TV Sci-Fi & Fantasy\",\n",
              "       'International Movies, Thrillers', \"Kids' TV\",\n",
              "       'International TV Shows, Romantic TV Shows, Spanish-Language TV Shows',\n",
              "       'Children & Family Movies, Comedies', 'Comedies, LGBTQ Movies',\n",
              "       'Comedies, Dramas, Romantic Movies', 'Action & Adventure, Dramas',\n",
              "       'Dramas, Independent Movies, Romantic Movies',\n",
              "       'Comedies, Independent Movies, Thrillers', 'TV Shows',\n",
              "       'Docuseries', 'Comedies, International Movies, Music & Musicals',\n",
              "       'Docuseries, International TV Shows, Science & Nature TV',\n",
              "       'British TV Shows, Docuseries, Science & Nature TV',\n",
              "       'Children & Family Movies, Dramas, Sports Movies',\n",
              "       'Children & Family Movies', 'Dramas, Sci-Fi & Fantasy',\n",
              "       'International TV Shows, TV Comedies, TV Dramas',\n",
              "       'Action & Adventure, Classic Movies, Dramas',\n",
              "       'Children & Family Movies, Dramas',\n",
              "       'Action & Adventure, International Movies, Romantic Movies',\n",
              "       'Children & Family Movies, Dramas, Romantic Movies',\n",
              "       'Children & Family Movies, Comedies, Music & Musicals',\n",
              "       'Classic Movies, Cult Movies, Dramas',\n",
              "       'Action & Adventure, International Movies, Sci-Fi & Fantasy',\n",
              "       'Comedies, Independent Movies', 'Comedies, Horror Movies',\n",
              "       'Children & Family Movies, Comedies, Romantic Movies',\n",
              "       'International TV Shows, TV Dramas, TV Horror', 'Thrillers',\n",
              "       'Stand-Up Comedy & Talk Shows, TV Comedies',\n",
              "       'International TV Shows, Romantic TV Shows, Teen TV Shows',\n",
              "       'Crime TV Shows, International TV Shows, Korean TV Shows',\n",
              "       'Comedies, International Movies, Sports Movies',\n",
              "       'Dramas, LGBTQ Movies, Romantic Movies', 'Comedies, Cult Movies',\n",
              "       'Dramas, Independent Movies, LGBTQ Movies',\n",
              "       'International TV Shows, Reality TV', 'Stand-Up Comedy',\n",
              "       'Documentaries, LGBTQ Movies',\n",
              "       \"Kids' TV, TV Action & Adventure, TV Comedies\",\n",
              "       'Anime Features, International Movies',\n",
              "       'Music & Musicals, Romantic Movies', 'Comedies, Music & Musicals',\n",
              "       'International TV Shows, TV Comedies',\n",
              "       'International Movies, Romantic Movies',\n",
              "       'Anime Features, Children & Family Movies, International Movies',\n",
              "       'TV Dramas', 'Horror Movies',\n",
              "       'Action & Adventure, Children & Family Movies, Independent Movies',\n",
              "       'Dramas, International Movies, Music & Musicals',\n",
              "       'Comedies, International Movies, Sci-Fi & Fantasy',\n",
              "       'International TV Shows, Korean TV Shows, Stand-Up Comedy & Talk Shows',\n",
              "       'Docuseries, Science & Nature TV, TV Comedies',\n",
              "       'Dramas, Sports Movies',\n",
              "       'Dramas, Music & Musicals, Romantic Movies',\n",
              "       'Children & Family Movies, Comedies, International Movies',\n",
              "       'Action & Adventure, Documentaries, International Movies',\n",
              "       'Comedies, International Movies, Thrillers',\n",
              "       'Action & Adventure, Dramas, Romantic Movies',\n",
              "       'Horror Movies, Independent Movies, International Movies',\n",
              "       'Dramas, Independent Movies, Sci-Fi & Fantasy',\n",
              "       'International Movies, Sci-Fi & Fantasy',\n",
              "       'Docuseries, Reality TV, Science & Nature TV',\n",
              "       'British TV Shows, Docuseries, International TV Shows',\n",
              "       'Docuseries, International TV Shows',\n",
              "       'British TV Shows, International TV Shows, TV Comedies',\n",
              "       'Action & Adventure, Horror Movies',\n",
              "       'British TV Shows, Reality TV, Romantic TV Shows',\n",
              "       'Crime TV Shows, International TV Shows, TV Action & Adventure',\n",
              "       'International TV Shows, Reality TV, Romantic TV Shows',\n",
              "       'International Movies, Music & Musicals, Romantic Movies',\n",
              "       'TV Comedies, TV Dramas',\n",
              "       'Anime Series, Crime TV Shows, International TV Shows',\n",
              "       \"Kids' TV, TV Comedies, TV Dramas\",\n",
              "       'Action & Adventure, Comedies, Dramas',\n",
              "       'Documentaries, International Movies, Music & Musicals',\n",
              "       \"Kids' TV, TV Comedies\",\n",
              "       'Classic Movies, Dramas, International Movies',\n",
              "       'Comedies, Independent Movies, International Movies',\n",
              "       'Classic Movies, Comedies, Dramas',\n",
              "       'International TV Shows, TV Action & Adventure, TV Mysteries',\n",
              "       'Comedies, International Movies, LGBTQ Movies',\n",
              "       'Children & Family Movies, Comedies, Sci-Fi & Fantasy',\n",
              "       'TV Dramas, Teen TV Shows',\n",
              "       'Children & Family Movies, Independent Movies',\n",
              "       'International TV Shows, Spanish-Language TV Shows, TV Comedies',\n",
              "       'Crime TV Shows, TV Action & Adventure, TV Dramas',\n",
              "       'Action & Adventure, Anime Features, International Movies',\n",
              "       'Action & Adventure, Classic Movies, Comedies',\n",
              "       'Crime TV Shows, TV Dramas',\n",
              "       'TV Horror, TV Mysteries, TV Thrillers', 'TV Dramas, TV Thrillers',\n",
              "       'Comedies, Cult Movies, Dramas',\n",
              "       'Crime TV Shows, TV Comedies, Teen TV Shows',\n",
              "       'Dramas, Faith & Spirituality', 'Comedies, Dramas, LGBTQ Movies',\n",
              "       'Action & Adventure, Comedies, Cult Movies',\n",
              "       'International TV Shows, TV Action & Adventure, TV Comedies',\n",
              "       'Dramas, Independent Movies, Music & Musicals',\n",
              "       'International TV Shows, TV Horror, TV Thrillers',\n",
              "       'International TV Shows, TV Horror, TV Mysteries',\n",
              "       'International TV Shows, TV Dramas, Teen TV Shows',\n",
              "       'Anime Series, International TV Shows, Teen TV Shows',\n",
              "       'Dramas, Sci-Fi & Fantasy, Thrillers',\n",
              "       'TV Action & Adventure, TV Dramas, TV Mysteries',\n",
              "       'Crime TV Shows, International TV Shows, TV Comedies',\n",
              "       'Action & Adventure, Comedies, Sci-Fi & Fantasy',\n",
              "       \"Anime Series, Kids' TV\",\n",
              "       'Crime TV Shows, International TV Shows, Spanish-Language TV Shows',\n",
              "       'Horror Movies, Sci-Fi & Fantasy, Thrillers',\n",
              "       'International TV Shows, Korean TV Shows, TV Dramas',\n",
              "       'Stand-Up Comedy & Talk Shows',\n",
              "       'International Movies, Sci-Fi & Fantasy, Thrillers',\n",
              "       'Crime TV Shows, TV Action & Adventure',\n",
              "       'International TV Shows, Korean TV Shows, TV Action & Adventure',\n",
              "       'TV Action & Adventure, TV Comedies, TV Horror',\n",
              "       'International TV Shows, Romantic TV Shows',\n",
              "       \"Crime TV Shows, Kids' TV, TV Comedies\",\n",
              "       'TV Comedies, TV Dramas, Teen TV Shows',\n",
              "       'Docuseries, International TV Shows, Reality TV',\n",
              "       \"Classic & Cult TV, Kids' TV, TV Action & Adventure\",\n",
              "       'Horror Movies, Sci-Fi & Fantasy',\n",
              "       'Romantic TV Shows, TV Dramas, TV Sci-Fi & Fantasy',\n",
              "       'Dramas, International Movies, Sci-Fi & Fantasy',\n",
              "       'Children & Family Movies, Sports Movies',\n",
              "       'Dramas, Independent Movies, Thrillers',\n",
              "       'Independent Movies, International Movies, Thrillers',\n",
              "       'British TV Shows, TV Comedies',\n",
              "       'International TV Shows, Spanish-Language TV Shows, TV Dramas',\n",
              "       'Action & Adventure, Comedies, Independent Movies',\n",
              "       'International TV Shows, TV Action & Adventure, TV Dramas',\n",
              "       'Children & Family Movies, Music & Musicals', 'Music & Musicals',\n",
              "       'Action & Adventure, International Movies, Music & Musicals',\n",
              "       'Comedies, Sports Movies', 'Classic Movies, Thrillers',\n",
              "       'Docuseries, Reality TV', 'Crime TV Shows, TV Dramas, TV Horror',\n",
              "       'Crime TV Shows, TV Comedies, TV Dramas',\n",
              "       'British TV Shows, Docuseries, Reality TV',\n",
              "       'Reality TV, Science & Nature TV, TV Action & Adventure',\n",
              "       'Children & Family Movies, Documentaries, International Movies',\n",
              "       'Crime TV Shows, Romantic TV Shows, TV Dramas',\n",
              "       'British TV Shows, Docuseries',\n",
              "       'Documentaries, LGBTQ Movies, Music & Musicals',\n",
              "       'Romantic TV Shows, TV Dramas', 'Independent Movies, Thrillers',\n",
              "       'International TV Shows, TV Action & Adventure, TV Horror',\n",
              "       'Children & Family Movies, Documentaries, Sports Movies',\n",
              "       'Stand-Up Comedy & Talk Shows, TV Mysteries, TV Sci-Fi & Fantasy',\n",
              "       'International TV Shows, Reality TV, TV Comedies',\n",
              "       'Dramas, International Movies, LGBTQ Movies',\n",
              "       'Action & Adventure, Dramas, Independent Movies',\n",
              "       'British TV Shows, International TV Shows, TV Dramas',\n",
              "       'TV Action & Adventure, TV Dramas, TV Sci-Fi & Fantasy',\n",
              "       'TV Action & Adventure, TV Dramas, TV Horror',\n",
              "       'Action & Adventure, Anime Features, Sci-Fi & Fantasy',\n",
              "       'Anime Series', 'TV Dramas, TV Mysteries, TV Thrillers',\n",
              "       'Music & Musicals, Stand-Up Comedy',\n",
              "       'Docuseries, International TV Shows, Spanish-Language TV Shows',\n",
              "       'Crime TV Shows, International TV Shows, Reality TV',\n",
              "       \"British TV Shows, Kids' TV\",\n",
              "       'Docuseries, Spanish-Language TV Shows',\n",
              "       'Crime TV Shows, TV Dramas, TV Thrillers',\n",
              "       'Documentaries, International Movies, LGBTQ Movies',\n",
              "       'British TV Shows, Crime TV Shows, International TV Shows',\n",
              "       'Action & Adventure, Independent Movies',\n",
              "       'Classic Movies, Dramas, Romantic Movies',\n",
              "       'Crime TV Shows, Romantic TV Shows, Spanish-Language TV Shows',\n",
              "       'Children & Family Movies, Comedies, Dramas',\n",
              "       'Cult Movies, Horror Movies', \"Kids' TV, TV Thrillers\",\n",
              "       'Classic Movies, Cult Movies, Horror Movies',\n",
              "       'Anime Series, Crime TV Shows, TV Thrillers',\n",
              "       'Anime Series, TV Horror, TV Thrillers', 'Classic Movies, Dramas',\n",
              "       'British TV Shows, Crime TV Shows, Docuseries',\n",
              "       'Action & Adventure, International Movies, Thrillers',\n",
              "       'Anime Series, Teen TV Shows',\n",
              "       'Children & Family Movies, Dramas, International Movies',\n",
              "       'Dramas, Faith & Spirituality, International Movies',\n",
              "       'TV Horror, TV Mysteries, Teen TV Shows',\n",
              "       'Children & Family Movies, Classic Movies',\n",
              "       'TV Dramas, TV Sci-Fi & Fantasy', 'Reality TV, Teen TV Shows',\n",
              "       'Docuseries, Reality TV, Teen TV Shows',\n",
              "       'Classic & Cult TV, TV Comedies',\n",
              "       'International TV Shows, Korean TV Shows, Reality TV',\n",
              "       'International TV Shows, Stand-Up Comedy & Talk Shows, TV Comedies',\n",
              "       'British TV Shows, International TV Shows, Romantic TV Shows',\n",
              "       'International TV Shows, TV Dramas, TV Thrillers',\n",
              "       'Anime Features', 'TV Horror, TV Mysteries, TV Sci-Fi & Fantasy',\n",
              "       'Children & Family Movies, Classic Movies, Comedies',\n",
              "       'Comedies, Faith & Spirituality, Romantic Movies',\n",
              "       'Classic Movies, Comedies, International Movies',\n",
              "       'Action & Adventure, Horror Movies, Sci-Fi & Fantasy',\n",
              "       'Action & Adventure, Classic Movies',\n",
              "       'TV Dramas, TV Sci-Fi & Fantasy, TV Thrillers',\n",
              "       'Comedies, Sci-Fi & Fantasy',\n",
              "       'Action & Adventure, Cult Movies, Dramas',\n",
              "       'TV Action & Adventure, TV Dramas', \"Kids' TV, Korean TV Shows\",\n",
              "       'Action & Adventure, Independent Movies, International Movies',\n",
              "       'Dramas, Faith & Spirituality, Independent Movies',\n",
              "       'Docuseries, TV Comedies',\n",
              "       'Documentaries, Faith & Spirituality, Music & Musicals',\n",
              "       'Romantic TV Shows, TV Comedies',\n",
              "       \"Kids' TV, Spanish-Language TV Shows\",\n",
              "       \"British TV Shows, Kids' TV, TV Thrillers\",\n",
              "       'Action & Adventure, Romantic Movies',\n",
              "       'British TV Shows, Classic & Cult TV, TV Comedies',\n",
              "       'Action & Adventure, Horror Movies, International Movies',\n",
              "       'Children & Family Movies, Documentaries',\n",
              "       \"British TV Shows, Kids' TV, TV Comedies\",\n",
              "       'Horror Movies, Independent Movies, Sci-Fi & Fantasy',\n",
              "       'TV Sci-Fi & Fantasy, TV Thrillers',\n",
              "       'Romantic TV Shows, TV Comedies, TV Dramas',\n",
              "       'Reality TV, Romantic TV Shows',\n",
              "       'Classic Movies, Dramas, Independent Movies',\n",
              "       'Romantic TV Shows, TV Dramas, Teen TV Shows',\n",
              "       'TV Action & Adventure, TV Sci-Fi & Fantasy',\n",
              "       'British TV Shows, TV Horror, TV Thrillers',\n",
              "       'International Movies, Sports Movies', 'International Movies',\n",
              "       'Anime Series, International TV Shows, TV Horror',\n",
              "       'International TV Shows',\n",
              "       'Dramas, Music & Musicals, Sports Movies',\n",
              "       'International TV Shows, Spanish-Language TV Shows, TV Action & Adventure',\n",
              "       'Cult Movies, Dramas, International Movies',\n",
              "       'TV Action & Adventure, TV Comedies, TV Sci-Fi & Fantasy',\n",
              "       'Reality TV, Science & Nature TV',\n",
              "       'Action & Adventure, Anime Features, Children & Family Movies',\n",
              "       \"Kids' TV, TV Action & Adventure\",\n",
              "       'Children & Family Movies, Sci-Fi & Fantasy',\n",
              "       \"Crime TV Shows, Kids' TV\",\n",
              "       'International Movies, Music & Musicals, Thrillers',\n",
              "       'Crime TV Shows, Spanish-Language TV Shows, TV Action & Adventure',\n",
              "       \"Classic & Cult TV, Kids' TV, Spanish-Language TV Shows\",\n",
              "       'Romantic TV Shows, Spanish-Language TV Shows, TV Dramas',\n",
              "       'Action & Adventure, Cult Movies, International Movies',\n",
              "       'Crime TV Shows, Spanish-Language TV Shows, TV Dramas',\n",
              "       'Action & Adventure, Children & Family Movies, Dramas',\n",
              "       'Dramas, Romantic Movies, Sci-Fi & Fantasy',\n",
              "       'Action & Adventure, Dramas, Sci-Fi & Fantasy',\n",
              "       'International TV Shows, TV Mysteries, TV Thrillers',\n",
              "       'Anime Series, International TV Shows, TV Thrillers',\n",
              "       'Horror Movies, International Movies, Sci-Fi & Fantasy',\n",
              "       'Comedies, Cult Movies, International Movies',\n",
              "       'Comedies, Music & Musicals, Romantic Movies',\n",
              "       'Children & Family Movies, Comedies, Faith & Spirituality',\n",
              "       'Crime TV Shows, Docuseries, TV Mysteries',\n",
              "       'Crime TV Shows, Docuseries, Science & Nature TV',\n",
              "       'British TV Shows, Crime TV Shows, TV Dramas',\n",
              "       'Classic Movies, Comedies, Cult Movies',\n",
              "       'International Movies, Romantic Movies, Thrillers',\n",
              "       'Classic Movies, Dramas, Music & Musicals',\n",
              "       'Cult Movies, Horror Movies, Thrillers',\n",
              "       'Anime Features, Romantic Movies',\n",
              "       'Comedies, Dramas, Music & Musicals',\n",
              "       'Anime Features, International Movies, Romantic Movies',\n",
              "       'Documentaries, Faith & Spirituality, International Movies',\n",
              "       'Action & Adventure, Classic Movies, Sci-Fi & Fantasy',\n",
              "       'International TV Shows, Stand-Up Comedy & Talk Shows',\n",
              "       \"British TV Shows, Kids' TV, TV Dramas\",\n",
              "       'Classic & Cult TV, TV Action & Adventure, TV Horror',\n",
              "       'Children & Family Movies, Dramas, Faith & Spirituality',\n",
              "       'TV Action & Adventure, TV Comedies',\n",
              "       'Action & Adventure, Anime Features, Horror Movies',\n",
              "       'Crime TV Shows, International TV Shows, Romantic TV Shows',\n",
              "       'Classic Movies, Comedies, Music & Musicals',\n",
              "       'Comedies, Horror Movies, International Movies',\n",
              "       \"Kids' TV, Spanish-Language TV Shows, Teen TV Shows\",\n",
              "       'Independent Movies',\n",
              "       'Crime TV Shows, International TV Shows, TV Mysteries',\n",
              "       'Action & Adventure, Thrillers',\n",
              "       \"Kids' TV, TV Dramas, Teen TV Shows\", \"Kids' TV, TV Dramas\",\n",
              "       'Crime TV Shows, TV Action & Adventure, TV Comedies',\n",
              "       'TV Comedies, Teen TV Shows',\n",
              "       'Reality TV, TV Horror, TV Thrillers',\n",
              "       'Documentaries, Horror Movies',\n",
              "       'Classic & Cult TV, TV Horror, TV Mysteries',\n",
              "       'Action & Adventure, Cult Movies, Sci-Fi & Fantasy',\n",
              "       'Anime Series, International TV Shows, Romantic TV Shows',\n",
              "       'Action & Adventure, Comedies, Romantic Movies',\n",
              "       'Comedies, Dramas, Faith & Spirituality',\n",
              "       'Comedies, Faith & Spirituality, International Movies',\n",
              "       'Romantic Movies', 'Dramas, Horror Movies, Sci-Fi & Fantasy',\n",
              "       'International TV Shows, Korean TV Shows, TV Comedies',\n",
              "       'Comedies, Independent Movies, LGBTQ Movies',\n",
              "       'TV Comedies, TV Dramas, TV Sci-Fi & Fantasy',\n",
              "       'Dramas, Music & Musicals',\n",
              "       'Dramas, Faith & Spirituality, Romantic Movies',\n",
              "       'International TV Shows, TV Action & Adventure, TV Sci-Fi & Fantasy',\n",
              "       'Reality TV, TV Comedies',\n",
              "       \"Docuseries, Kids' TV, Science & Nature TV\",\n",
              "       'Action & Adventure, Sci-Fi & Fantasy, Thrillers',\n",
              "       'Action & Adventure, Children & Family Movies, Sci-Fi & Fantasy',\n",
              "       'Action & Adventure, Children & Family Movies, Classic Movies',\n",
              "       'Horror Movies, International Movies, Romantic Movies',\n",
              "       'TV Action & Adventure', 'TV Comedies, TV Dramas, TV Horror',\n",
              "       'British TV Shows, International TV Shows, Stand-Up Comedy & Talk Shows',\n",
              "       'Dramas, Music & Musicals, Sci-Fi & Fantasy',\n",
              "       'Spanish-Language TV Shows, TV Dramas',\n",
              "       'Documentaries, Stand-Up Comedy',\n",
              "       'Classic & Cult TV, TV Action & Adventure, TV Dramas',\n",
              "       'British TV Shows, TV Dramas, TV Sci-Fi & Fantasy',\n",
              "       'Anime Features, Music & Musicals',\n",
              "       'International TV Shows, TV Comedies, TV Sci-Fi & Fantasy',\n",
              "       'Comedies, Independent Movies, Romantic Movies',\n",
              "       'Comedies, Cult Movies, Horror Movies',\n",
              "       'Comedies, Cult Movies, Sports Movies',\n",
              "       'Classic Movies, Documentaries', 'Sci-Fi & Fantasy, Thrillers',\n",
              "       'Classic & Cult TV, Crime TV Shows, International TV Shows',\n",
              "       \"Kids' TV, Korean TV Shows, TV Comedies\",\n",
              "       'British TV Shows, Romantic TV Shows, TV Dramas',\n",
              "       'Action & Adventure, Faith & Spirituality, Sci-Fi & Fantasy',\n",
              "       'TV Dramas, TV Sci-Fi & Fantasy, Teen TV Shows',\n",
              "       'Action & Adventure, Children & Family Movies',\n",
              "       'Comedies, Horror Movies, Independent Movies',\n",
              "       'Action & Adventure, Classic Movies, Cult Movies',\n",
              "       'TV Dramas, TV Horror, TV Mysteries',\n",
              "       'International Movies, Romantic Movies, Sci-Fi & Fantasy',\n",
              "       'Anime Series, Romantic TV Shows, Teen TV Shows',\n",
              "       'TV Action & Adventure, TV Horror, TV Sci-Fi & Fantasy',\n",
              "       'Anime Features, Music & Musicals, Sci-Fi & Fantasy',\n",
              "       'Action & Adventure, Anime Features, Classic Movies',\n",
              "       'International TV Shows, Reality TV, Spanish-Language TV Shows',\n",
              "       'Anime Series, Romantic TV Shows',\n",
              "       'International TV Shows, Reality TV, TV Action & Adventure',\n",
              "       'TV Comedies, TV Dramas, TV Mysteries',\n",
              "       'Docuseries, Science & Nature TV, TV Dramas',\n",
              "       'Crime TV Shows, TV Action & Adventure, TV Thrillers',\n",
              "       'Anime Features, Children & Family Movies',\n",
              "       'Docuseries, TV Dramas',\n",
              "       'British TV Shows, International TV Shows, TV Action & Adventure',\n",
              "       'Comedies, Cult Movies, Independent Movies',\n",
              "       'Action & Adventure, Horror Movies, Independent Movies',\n",
              "       'British TV Shows, Docuseries, TV Comedies',\n",
              "       'Comedies, Documentaries',\n",
              "       'British TV Shows, Classic & Cult TV, International TV Shows',\n",
              "       'TV Comedies, TV Sci-Fi & Fantasy',\n",
              "       'TV Comedies, TV Sci-Fi & Fantasy, Teen TV Shows',\n",
              "       'Documentaries, Dramas, International Movies',\n",
              "       'Anime Series, Crime TV Shows',\n",
              "       'Action & Adventure, Classic Movies, International Movies',\n",
              "       'Cult Movies, Independent Movies, Thrillers',\n",
              "       'Comedies, Independent Movies, Music & Musicals',\n",
              "       'TV Action & Adventure, TV Dramas, Teen TV Shows',\n",
              "       'Romantic TV Shows, TV Action & Adventure, TV Dramas',\n",
              "       'Crime TV Shows, TV Comedies',\n",
              "       'Classic Movies, Cult Movies, Documentaries',\n",
              "       'Children & Family Movies, Comedies, Cult Movies',\n",
              "       \"Classic & Cult TV, Kids' TV, TV Comedies\",\n",
              "       'Classic Movies, Dramas, LGBTQ Movies',\n",
              "       'Comedies, Romantic Movies, Sports Movies',\n",
              "       \"Anime Series, Kids' TV, TV Action & Adventure\",\n",
              "       'Action & Adventure, Children & Family Movies, Comedies',\n",
              "       'Reality TV, TV Comedies, TV Horror',\n",
              "       'Classic Movies, Dramas, Sports Movies',\n",
              "       \"Kids' TV, TV Action & Adventure, TV Dramas\",\n",
              "       'Action & Adventure, Sci-Fi & Fantasy, Sports Movies',\n",
              "       'Dramas, Romantic Movies, Thrillers',\n",
              "       'Action & Adventure, Cult Movies',\n",
              "       'Children & Family Movies, Dramas, Independent Movies',\n",
              "       'Children & Family Movies, Comedies, LGBTQ Movies',\n",
              "       'Action & Adventure, Comedies, Music & Musicals',\n",
              "       'Classic Movies, Horror Movies, Thrillers',\n",
              "       'Classic & Cult TV, TV Dramas, TV Sci-Fi & Fantasy',\n",
              "       'Children & Family Movies, Comedies, Sports Movies',\n",
              "       'Docuseries, Stand-Up Comedy & Talk Shows',\n",
              "       'Action & Adventure, Dramas, Faith & Spirituality',\n",
              "       'TV Comedies, TV Horror, TV Thrillers',\n",
              "       'Classic Movies, Comedies, Independent Movies',\n",
              "       'Crime TV Shows, TV Horror, TV Mysteries',\n",
              "       'Children & Family Movies, Classic Movies, Dramas',\n",
              "       'Romantic TV Shows, Spanish-Language TV Shows, TV Comedies',\n",
              "       'Dramas, Faith & Spirituality, Sports Movies',\n",
              "       'Classic & Cult TV, TV Action & Adventure, TV Sci-Fi & Fantasy',\n",
              "       'International TV Shows, Korean TV Shows, TV Horror',\n",
              "       'Classic Movies, Comedies, Romantic Movies',\n",
              "       'Dramas, Horror Movies, Music & Musicals',\n",
              "       'Cult Movies, Horror Movies, Independent Movies',\n",
              "       'Classic Movies, Dramas, Thrillers',\n",
              "       'TV Dramas, TV Mysteries, TV Sci-Fi & Fantasy',\n",
              "       'Classic Movies, Independent Movies, Thrillers',\n",
              "       'TV Comedies, TV Mysteries',\n",
              "       'International TV Shows, Romantic TV Shows, TV Mysteries',\n",
              "       \"Kids' TV, TV Comedies, Teen TV Shows\",\n",
              "       'Crime TV Shows, TV Action & Adventure, TV Sci-Fi & Fantasy',\n",
              "       \"Kids' TV, TV Comedies, TV Sci-Fi & Fantasy\",\n",
              "       'Anime Series, International TV Shows, Spanish-Language TV Shows',\n",
              "       'Cult Movies, Dramas, Thrillers',\n",
              "       'International TV Shows, Spanish-Language TV Shows, TV Horror',\n",
              "       'Children & Family Movies, Faith & Spirituality',\n",
              "       'Comedies, Music & Musicals, Sports Movies',\n",
              "       'Classic Movies, Comedies, Sports Movies',\n",
              "       'Comedies, Dramas, Sports Movies',\n",
              "       'Action & Adventure, Dramas, Sports Movies',\n",
              "       \"Kids' TV, Reality TV, TV Dramas\",\n",
              "       'Horror Movies, LGBTQ Movies, Music & Musicals',\n",
              "       'Comedies, LGBTQ Movies, Music & Musicals',\n",
              "       'International TV Shows, Romantic TV Shows, TV Action & Adventure',\n",
              "       'Cult Movies, Documentaries, LGBTQ Movies',\n",
              "       'Action & Adventure, Romantic Movies, Sci-Fi & Fantasy',\n",
              "       'Classic & Cult TV, TV Sci-Fi & Fantasy',\n",
              "       'TV Action & Adventure, TV Mysteries, TV Sci-Fi & Fantasy',\n",
              "       'Children & Family Movies, Dramas, Music & Musicals',\n",
              "       'Docuseries, TV Sci-Fi & Fantasy',\n",
              "       \"British TV Shows, Classic & Cult TV, Kids' TV\",\n",
              "       'Action & Adventure, International Movies, Sports Movies',\n",
              "       'Docuseries, Science & Nature TV, TV Action & Adventure',\n",
              "       'Comedies, Cult Movies, LGBTQ Movies',\n",
              "       'Crime TV Shows, International TV Shows, TV Sci-Fi & Fantasy',\n",
              "       'Comedies, Horror Movies, Sci-Fi & Fantasy',\n",
              "       'Action & Adventure, Comedies, Horror Movies',\n",
              "       'Classic & Cult TV, Crime TV Shows, TV Dramas',\n",
              "       'TV Horror, Teen TV Shows',\n",
              "       'Reality TV, Spanish-Language TV Shows',\n",
              "       'Action & Adventure, Documentaries, Sports Movies',\n",
              "       'Anime Features, International Movies, Sci-Fi & Fantasy',\n",
              "       'LGBTQ Movies, Thrillers', 'Action & Adventure, Sports Movies',\n",
              "       'International Movies, LGBTQ Movies, Romantic Movies',\n",
              "       \"Kids' TV, Reality TV, Science & Nature TV\",\n",
              "       'International TV Shows, Spanish-Language TV Shows, Stand-Up Comedy & Talk Shows'],\n",
              "      dtype=object)"
            ]
          },
          "metadata": {},
          "execution_count": 56
        }
      ]
    },
    {
      "cell_type": "code",
      "source": [
        "genres = \",\".join(df1['listed_in']).split(\",\")"
      ],
      "metadata": {
        "id": "m_El87ffYIfg"
      },
      "execution_count": null,
      "outputs": []
    },
    {
      "cell_type": "code",
      "source": [
        "len(set(genres))"
      ],
      "metadata": {
        "colab": {
          "base_uri": "https://localhost:8080/"
        },
        "id": "Y5oatb7ZYRkF",
        "outputId": "0165e924-62bf-4418-96d7-89cb4258993a"
      },
      "execution_count": null,
      "outputs": [
        {
          "output_type": "execute_result",
          "data": {
            "text/plain": [
              "73"
            ]
          },
          "metadata": {},
          "execution_count": 61
        }
      ]
    },
    {
      "cell_type": "markdown",
      "source": [
        "***There are 73 unique genres on Netflix with multiple combinations for a content.***"
      ],
      "metadata": {
        "id": "XVLGL4Do5M3Q"
      }
    },
    {
      "cell_type": "code",
      "source": [
        "df1.head(20)"
      ],
      "metadata": {
        "colab": {
          "base_uri": "https://localhost:8080/",
          "height": 1000
        },
        "id": "WaQOEp8XEpSy",
        "outputId": "33ea9fd1-db97-4ee1-9892-aae539050f39"
      },
      "execution_count": null,
      "outputs": [
        {
          "output_type": "execute_result",
          "data": {
            "text/plain": [
              "   show_id     type   title              director  \\\n",
              "0       s1  TV Show      3%                   NaN   \n",
              "1       s2    Movie    7:19     Jorge Michel Grau   \n",
              "2       s3    Movie   23:59          Gilbert Chan   \n",
              "3       s4    Movie       9           Shane Acker   \n",
              "4       s5    Movie      21        Robert Luketic   \n",
              "5       s6  TV Show      46           Serdar Akar   \n",
              "6       s7    Movie     122       Yasir Al Yasiri   \n",
              "7       s8    Movie     187        Kevin Reynolds   \n",
              "8       s9    Movie     706         Shravan Kumar   \n",
              "9      s10    Movie    1920          Vikram Bhatt   \n",
              "10     s11    Movie    1922          Zak Hilditch   \n",
              "11     s12  TV Show    1983                   NaN   \n",
              "12     s13  TV Show    1994  Diego Enrique Osorno   \n",
              "13     s14    Movie   2,215   Nottapon Boonprakob   \n",
              "14     s15    Movie    3022            John Suits   \n",
              "15     s16    Movie  Oct-01        Kunle Afolayan   \n",
              "16     s17  TV Show  Feb-09                   NaN   \n",
              "17     s18    Movie  22-Jul       Paul Greengrass   \n",
              "18     s19    Movie  15-Aug    Swapnaneel Jayakar   \n",
              "19     s20    Movie     '89                   NaN   \n",
              "\n",
              "                                                 cast  \\\n",
              "0   João Miguel, Bianca Comparato, Michel Gomes, R...   \n",
              "1   Demián Bichir, Héctor Bonilla, Oscar Serrano, ...   \n",
              "2   Tedd Chan, Stella Chung, Henley Hii, Lawrence ...   \n",
              "3   Elijah Wood, John C. Reilly, Jennifer Connelly...   \n",
              "4   Jim Sturgess, Kevin Spacey, Kate Bosworth, Aar...   \n",
              "5   Erdal Beşikçioğlu, Yasemin Allen, Melis Birkan...   \n",
              "6   Amina Khalil, Ahmed Dawood, Tarek Lotfy, Ahmed...   \n",
              "7   Samuel L. Jackson, John Heard, Kelly Rowan, Cl...   \n",
              "8   Divya Dutta, Atul Kulkarni, Mohan Agashe, Anup...   \n",
              "9   Rajneesh Duggal, Adah Sharma, Indraneil Sengup...   \n",
              "10  Thomas Jane, Molly Parker, Dylan Schmid, Kaitl...   \n",
              "11  Robert Więckiewicz, Maciej Musiał, Michalina O...   \n",
              "12                                            No cast   \n",
              "13                                 Artiwara Kongmalai   \n",
              "14  Omar Epps, Kate Walsh, Miranda Cosgrove, Angus...   \n",
              "15  Sadiq Daba, David Bailie, Kayode Olaiya, Kehin...   \n",
              "16  Shahd El Yaseen, Shaila Sabt, Hala, Hanadi Al-...   \n",
              "17  Anders Danielsen Lie, Jon Øigarden, Jonas Stra...   \n",
              "18  Rahul Pethe, Mrunmayee Deshpande, Adinath Koth...   \n",
              "19                 Lee Dixon, Ian Wright, Paul Merson   \n",
              "\n",
              "                           country         date_added  release_year rating  \\\n",
              "0                           Brazil    August 14, 2020          2020  TV-MA   \n",
              "1                           Mexico  December 23, 2016          2016  TV-MA   \n",
              "2                        Singapore  December 20, 2018          2011      R   \n",
              "3                    United States  November 16, 2017          2009  PG-13   \n",
              "4                    United States    January 1, 2020          2008  PG-13   \n",
              "5                           Turkey       July 1, 2017          2016  TV-MA   \n",
              "6                            Egypt       June 1, 2020          2019  TV-MA   \n",
              "7                    United States   November 1, 2019          1997      R   \n",
              "8                            India      April 1, 2019          2019  TV-14   \n",
              "9                            India  December 15, 2017          2008  TV-MA   \n",
              "10                   United States   October 20, 2017          2017  TV-MA   \n",
              "11           Poland, United States  November 30, 2018          2018  TV-MA   \n",
              "12                          Mexico       May 17, 2019          2019  TV-MA   \n",
              "13                        Thailand      March 1, 2019          2018  TV-MA   \n",
              "14                   United States     March 19, 2020          2019      R   \n",
              "15                         Nigeria  September 1, 2019          2014  TV-14   \n",
              "16                   United States     March 20, 2019          2018  TV-14   \n",
              "17  Norway, Iceland, United States   October 10, 2018          2018      R   \n",
              "18                           India     March 29, 2019          2019  TV-14   \n",
              "19                  United Kingdom       May 16, 2018          2017  TV-PG   \n",
              "\n",
              "                                            listed_in  \\\n",
              "0   International TV Shows, TV Dramas, TV Sci-Fi &...   \n",
              "1                        Dramas, International Movies   \n",
              "2                 Horror Movies, International Movies   \n",
              "3   Action & Adventure, Independent Movies, Sci-Fi...   \n",
              "4                                              Dramas   \n",
              "5     International TV Shows, TV Dramas, TV Mysteries   \n",
              "6                 Horror Movies, International Movies   \n",
              "7                                              Dramas   \n",
              "8                 Horror Movies, International Movies   \n",
              "9      Horror Movies, International Movies, Thrillers   \n",
              "10                                  Dramas, Thrillers   \n",
              "11  Crime TV Shows, International TV Shows, TV Dramas   \n",
              "12  Crime TV Shows, Docuseries, International TV S...   \n",
              "13  Documentaries, International Movies, Sports Mo...   \n",
              "14    Independent Movies, Sci-Fi & Fantasy, Thrillers   \n",
              "15            Dramas, International Movies, Thrillers   \n",
              "16                  International TV Shows, TV Dramas   \n",
              "17                                  Dramas, Thrillers   \n",
              "18               Comedies, Dramas, Independent Movies   \n",
              "19                                      Sports Movies   \n",
              "\n",
              "                                          description Audience_AgeGroup month  \\\n",
              "0   In a future where the elite inhabit an island ...       Millennials   Aug   \n",
              "1   After a devastating earthquake hits Mexico Cit...       Millennials   Dec   \n",
              "2   When an army recruit is found dead, his fellow...       Millennials   Dec   \n",
              "3   In a postapocalyptic world, rag-doll robots hi...              Kids   Nov   \n",
              "4   A brilliant group of students become card-coun...              Kids   Jan   \n",
              "5   A genetics professor experiments with a treatm...       Millennials   Jul   \n",
              "6   After an awful accident, a couple admitted to ...       Millennials   Jun   \n",
              "7   After one of his high school students attacks ...       Millennials   Nov   \n",
              "8   When a doctor goes missing, his psychiatrist w...              GenZ   Apr   \n",
              "9   An architect and his wife move into a castle t...       Millennials   Dec   \n",
              "10  A farmer pens a confession admitting to his wi...       Millennials   Oct   \n",
              "11  In this dark alt-history thriller, a naïve law...       Millennials   Nov   \n",
              "12  Archival video and new interviews examine Mexi...       Millennials   May   \n",
              "13  This intimate documentary follows rock star Ar...       Millennials   Mar   \n",
              "14  Stranded when the Earth is suddenly destroyed ...       Millennials   Mar   \n",
              "15  Against the backdrop of Nigeria's looming inde...              GenZ   Sep   \n",
              "16  As a psychology professor faces Alzheimer's, h...              GenZ   Mar   \n",
              "17  After devastating terror attacks in Norway, a ...       Millennials   Oct   \n",
              "18  On India's Independence Day, a zany mishap in ...              GenZ   Mar   \n",
              "19  Mixing old footage with interviews, this is th...              GenZ   May   \n",
              "\n",
              "    duration_in_min  \n",
              "0              2200  \n",
              "1                93  \n",
              "2                78  \n",
              "3                80  \n",
              "4               123  \n",
              "5               550  \n",
              "6                95  \n",
              "7               119  \n",
              "8               118  \n",
              "9               143  \n",
              "10              103  \n",
              "11              550  \n",
              "12              550  \n",
              "13               89  \n",
              "14               91  \n",
              "15              149  \n",
              "16              550  \n",
              "17              144  \n",
              "18              124  \n",
              "19               87  "
            ],
            "text/html": [
              "\n",
              "  <div id=\"df-7f46389c-fbba-4bee-bc7a-99328e1b3608\">\n",
              "    <div class=\"colab-df-container\">\n",
              "      <div>\n",
              "<style scoped>\n",
              "    .dataframe tbody tr th:only-of-type {\n",
              "        vertical-align: middle;\n",
              "    }\n",
              "\n",
              "    .dataframe tbody tr th {\n",
              "        vertical-align: top;\n",
              "    }\n",
              "\n",
              "    .dataframe thead th {\n",
              "        text-align: right;\n",
              "    }\n",
              "</style>\n",
              "<table border=\"1\" class=\"dataframe\">\n",
              "  <thead>\n",
              "    <tr style=\"text-align: right;\">\n",
              "      <th></th>\n",
              "      <th>show_id</th>\n",
              "      <th>type</th>\n",
              "      <th>title</th>\n",
              "      <th>director</th>\n",
              "      <th>cast</th>\n",
              "      <th>country</th>\n",
              "      <th>date_added</th>\n",
              "      <th>release_year</th>\n",
              "      <th>rating</th>\n",
              "      <th>listed_in</th>\n",
              "      <th>description</th>\n",
              "      <th>Audience_AgeGroup</th>\n",
              "      <th>month</th>\n",
              "      <th>duration_in_min</th>\n",
              "    </tr>\n",
              "  </thead>\n",
              "  <tbody>\n",
              "    <tr>\n",
              "      <th>0</th>\n",
              "      <td>s1</td>\n",
              "      <td>TV Show</td>\n",
              "      <td>3%</td>\n",
              "      <td>NaN</td>\n",
              "      <td>João Miguel, Bianca Comparato, Michel Gomes, R...</td>\n",
              "      <td>Brazil</td>\n",
              "      <td>August 14, 2020</td>\n",
              "      <td>2020</td>\n",
              "      <td>TV-MA</td>\n",
              "      <td>International TV Shows, TV Dramas, TV Sci-Fi &amp;...</td>\n",
              "      <td>In a future where the elite inhabit an island ...</td>\n",
              "      <td>Millennials</td>\n",
              "      <td>Aug</td>\n",
              "      <td>2200</td>\n",
              "    </tr>\n",
              "    <tr>\n",
              "      <th>1</th>\n",
              "      <td>s2</td>\n",
              "      <td>Movie</td>\n",
              "      <td>7:19</td>\n",
              "      <td>Jorge Michel Grau</td>\n",
              "      <td>Demián Bichir, Héctor Bonilla, Oscar Serrano, ...</td>\n",
              "      <td>Mexico</td>\n",
              "      <td>December 23, 2016</td>\n",
              "      <td>2016</td>\n",
              "      <td>TV-MA</td>\n",
              "      <td>Dramas, International Movies</td>\n",
              "      <td>After a devastating earthquake hits Mexico Cit...</td>\n",
              "      <td>Millennials</td>\n",
              "      <td>Dec</td>\n",
              "      <td>93</td>\n",
              "    </tr>\n",
              "    <tr>\n",
              "      <th>2</th>\n",
              "      <td>s3</td>\n",
              "      <td>Movie</td>\n",
              "      <td>23:59</td>\n",
              "      <td>Gilbert Chan</td>\n",
              "      <td>Tedd Chan, Stella Chung, Henley Hii, Lawrence ...</td>\n",
              "      <td>Singapore</td>\n",
              "      <td>December 20, 2018</td>\n",
              "      <td>2011</td>\n",
              "      <td>R</td>\n",
              "      <td>Horror Movies, International Movies</td>\n",
              "      <td>When an army recruit is found dead, his fellow...</td>\n",
              "      <td>Millennials</td>\n",
              "      <td>Dec</td>\n",
              "      <td>78</td>\n",
              "    </tr>\n",
              "    <tr>\n",
              "      <th>3</th>\n",
              "      <td>s4</td>\n",
              "      <td>Movie</td>\n",
              "      <td>9</td>\n",
              "      <td>Shane Acker</td>\n",
              "      <td>Elijah Wood, John C. Reilly, Jennifer Connelly...</td>\n",
              "      <td>United States</td>\n",
              "      <td>November 16, 2017</td>\n",
              "      <td>2009</td>\n",
              "      <td>PG-13</td>\n",
              "      <td>Action &amp; Adventure, Independent Movies, Sci-Fi...</td>\n",
              "      <td>In a postapocalyptic world, rag-doll robots hi...</td>\n",
              "      <td>Kids</td>\n",
              "      <td>Nov</td>\n",
              "      <td>80</td>\n",
              "    </tr>\n",
              "    <tr>\n",
              "      <th>4</th>\n",
              "      <td>s5</td>\n",
              "      <td>Movie</td>\n",
              "      <td>21</td>\n",
              "      <td>Robert Luketic</td>\n",
              "      <td>Jim Sturgess, Kevin Spacey, Kate Bosworth, Aar...</td>\n",
              "      <td>United States</td>\n",
              "      <td>January 1, 2020</td>\n",
              "      <td>2008</td>\n",
              "      <td>PG-13</td>\n",
              "      <td>Dramas</td>\n",
              "      <td>A brilliant group of students become card-coun...</td>\n",
              "      <td>Kids</td>\n",
              "      <td>Jan</td>\n",
              "      <td>123</td>\n",
              "    </tr>\n",
              "    <tr>\n",
              "      <th>5</th>\n",
              "      <td>s6</td>\n",
              "      <td>TV Show</td>\n",
              "      <td>46</td>\n",
              "      <td>Serdar Akar</td>\n",
              "      <td>Erdal Beşikçioğlu, Yasemin Allen, Melis Birkan...</td>\n",
              "      <td>Turkey</td>\n",
              "      <td>July 1, 2017</td>\n",
              "      <td>2016</td>\n",
              "      <td>TV-MA</td>\n",
              "      <td>International TV Shows, TV Dramas, TV Mysteries</td>\n",
              "      <td>A genetics professor experiments with a treatm...</td>\n",
              "      <td>Millennials</td>\n",
              "      <td>Jul</td>\n",
              "      <td>550</td>\n",
              "    </tr>\n",
              "    <tr>\n",
              "      <th>6</th>\n",
              "      <td>s7</td>\n",
              "      <td>Movie</td>\n",
              "      <td>122</td>\n",
              "      <td>Yasir Al Yasiri</td>\n",
              "      <td>Amina Khalil, Ahmed Dawood, Tarek Lotfy, Ahmed...</td>\n",
              "      <td>Egypt</td>\n",
              "      <td>June 1, 2020</td>\n",
              "      <td>2019</td>\n",
              "      <td>TV-MA</td>\n",
              "      <td>Horror Movies, International Movies</td>\n",
              "      <td>After an awful accident, a couple admitted to ...</td>\n",
              "      <td>Millennials</td>\n",
              "      <td>Jun</td>\n",
              "      <td>95</td>\n",
              "    </tr>\n",
              "    <tr>\n",
              "      <th>7</th>\n",
              "      <td>s8</td>\n",
              "      <td>Movie</td>\n",
              "      <td>187</td>\n",
              "      <td>Kevin Reynolds</td>\n",
              "      <td>Samuel L. Jackson, John Heard, Kelly Rowan, Cl...</td>\n",
              "      <td>United States</td>\n",
              "      <td>November 1, 2019</td>\n",
              "      <td>1997</td>\n",
              "      <td>R</td>\n",
              "      <td>Dramas</td>\n",
              "      <td>After one of his high school students attacks ...</td>\n",
              "      <td>Millennials</td>\n",
              "      <td>Nov</td>\n",
              "      <td>119</td>\n",
              "    </tr>\n",
              "    <tr>\n",
              "      <th>8</th>\n",
              "      <td>s9</td>\n",
              "      <td>Movie</td>\n",
              "      <td>706</td>\n",
              "      <td>Shravan Kumar</td>\n",
              "      <td>Divya Dutta, Atul Kulkarni, Mohan Agashe, Anup...</td>\n",
              "      <td>India</td>\n",
              "      <td>April 1, 2019</td>\n",
              "      <td>2019</td>\n",
              "      <td>TV-14</td>\n",
              "      <td>Horror Movies, International Movies</td>\n",
              "      <td>When a doctor goes missing, his psychiatrist w...</td>\n",
              "      <td>GenZ</td>\n",
              "      <td>Apr</td>\n",
              "      <td>118</td>\n",
              "    </tr>\n",
              "    <tr>\n",
              "      <th>9</th>\n",
              "      <td>s10</td>\n",
              "      <td>Movie</td>\n",
              "      <td>1920</td>\n",
              "      <td>Vikram Bhatt</td>\n",
              "      <td>Rajneesh Duggal, Adah Sharma, Indraneil Sengup...</td>\n",
              "      <td>India</td>\n",
              "      <td>December 15, 2017</td>\n",
              "      <td>2008</td>\n",
              "      <td>TV-MA</td>\n",
              "      <td>Horror Movies, International Movies, Thrillers</td>\n",
              "      <td>An architect and his wife move into a castle t...</td>\n",
              "      <td>Millennials</td>\n",
              "      <td>Dec</td>\n",
              "      <td>143</td>\n",
              "    </tr>\n",
              "    <tr>\n",
              "      <th>10</th>\n",
              "      <td>s11</td>\n",
              "      <td>Movie</td>\n",
              "      <td>1922</td>\n",
              "      <td>Zak Hilditch</td>\n",
              "      <td>Thomas Jane, Molly Parker, Dylan Schmid, Kaitl...</td>\n",
              "      <td>United States</td>\n",
              "      <td>October 20, 2017</td>\n",
              "      <td>2017</td>\n",
              "      <td>TV-MA</td>\n",
              "      <td>Dramas, Thrillers</td>\n",
              "      <td>A farmer pens a confession admitting to his wi...</td>\n",
              "      <td>Millennials</td>\n",
              "      <td>Oct</td>\n",
              "      <td>103</td>\n",
              "    </tr>\n",
              "    <tr>\n",
              "      <th>11</th>\n",
              "      <td>s12</td>\n",
              "      <td>TV Show</td>\n",
              "      <td>1983</td>\n",
              "      <td>NaN</td>\n",
              "      <td>Robert Więckiewicz, Maciej Musiał, Michalina O...</td>\n",
              "      <td>Poland, United States</td>\n",
              "      <td>November 30, 2018</td>\n",
              "      <td>2018</td>\n",
              "      <td>TV-MA</td>\n",
              "      <td>Crime TV Shows, International TV Shows, TV Dramas</td>\n",
              "      <td>In this dark alt-history thriller, a naïve law...</td>\n",
              "      <td>Millennials</td>\n",
              "      <td>Nov</td>\n",
              "      <td>550</td>\n",
              "    </tr>\n",
              "    <tr>\n",
              "      <th>12</th>\n",
              "      <td>s13</td>\n",
              "      <td>TV Show</td>\n",
              "      <td>1994</td>\n",
              "      <td>Diego Enrique Osorno</td>\n",
              "      <td>No cast</td>\n",
              "      <td>Mexico</td>\n",
              "      <td>May 17, 2019</td>\n",
              "      <td>2019</td>\n",
              "      <td>TV-MA</td>\n",
              "      <td>Crime TV Shows, Docuseries, International TV S...</td>\n",
              "      <td>Archival video and new interviews examine Mexi...</td>\n",
              "      <td>Millennials</td>\n",
              "      <td>May</td>\n",
              "      <td>550</td>\n",
              "    </tr>\n",
              "    <tr>\n",
              "      <th>13</th>\n",
              "      <td>s14</td>\n",
              "      <td>Movie</td>\n",
              "      <td>2,215</td>\n",
              "      <td>Nottapon Boonprakob</td>\n",
              "      <td>Artiwara Kongmalai</td>\n",
              "      <td>Thailand</td>\n",
              "      <td>March 1, 2019</td>\n",
              "      <td>2018</td>\n",
              "      <td>TV-MA</td>\n",
              "      <td>Documentaries, International Movies, Sports Mo...</td>\n",
              "      <td>This intimate documentary follows rock star Ar...</td>\n",
              "      <td>Millennials</td>\n",
              "      <td>Mar</td>\n",
              "      <td>89</td>\n",
              "    </tr>\n",
              "    <tr>\n",
              "      <th>14</th>\n",
              "      <td>s15</td>\n",
              "      <td>Movie</td>\n",
              "      <td>3022</td>\n",
              "      <td>John Suits</td>\n",
              "      <td>Omar Epps, Kate Walsh, Miranda Cosgrove, Angus...</td>\n",
              "      <td>United States</td>\n",
              "      <td>March 19, 2020</td>\n",
              "      <td>2019</td>\n",
              "      <td>R</td>\n",
              "      <td>Independent Movies, Sci-Fi &amp; Fantasy, Thrillers</td>\n",
              "      <td>Stranded when the Earth is suddenly destroyed ...</td>\n",
              "      <td>Millennials</td>\n",
              "      <td>Mar</td>\n",
              "      <td>91</td>\n",
              "    </tr>\n",
              "    <tr>\n",
              "      <th>15</th>\n",
              "      <td>s16</td>\n",
              "      <td>Movie</td>\n",
              "      <td>Oct-01</td>\n",
              "      <td>Kunle Afolayan</td>\n",
              "      <td>Sadiq Daba, David Bailie, Kayode Olaiya, Kehin...</td>\n",
              "      <td>Nigeria</td>\n",
              "      <td>September 1, 2019</td>\n",
              "      <td>2014</td>\n",
              "      <td>TV-14</td>\n",
              "      <td>Dramas, International Movies, Thrillers</td>\n",
              "      <td>Against the backdrop of Nigeria's looming inde...</td>\n",
              "      <td>GenZ</td>\n",
              "      <td>Sep</td>\n",
              "      <td>149</td>\n",
              "    </tr>\n",
              "    <tr>\n",
              "      <th>16</th>\n",
              "      <td>s17</td>\n",
              "      <td>TV Show</td>\n",
              "      <td>Feb-09</td>\n",
              "      <td>NaN</td>\n",
              "      <td>Shahd El Yaseen, Shaila Sabt, Hala, Hanadi Al-...</td>\n",
              "      <td>United States</td>\n",
              "      <td>March 20, 2019</td>\n",
              "      <td>2018</td>\n",
              "      <td>TV-14</td>\n",
              "      <td>International TV Shows, TV Dramas</td>\n",
              "      <td>As a psychology professor faces Alzheimer's, h...</td>\n",
              "      <td>GenZ</td>\n",
              "      <td>Mar</td>\n",
              "      <td>550</td>\n",
              "    </tr>\n",
              "    <tr>\n",
              "      <th>17</th>\n",
              "      <td>s18</td>\n",
              "      <td>Movie</td>\n",
              "      <td>22-Jul</td>\n",
              "      <td>Paul Greengrass</td>\n",
              "      <td>Anders Danielsen Lie, Jon Øigarden, Jonas Stra...</td>\n",
              "      <td>Norway, Iceland, United States</td>\n",
              "      <td>October 10, 2018</td>\n",
              "      <td>2018</td>\n",
              "      <td>R</td>\n",
              "      <td>Dramas, Thrillers</td>\n",
              "      <td>After devastating terror attacks in Norway, a ...</td>\n",
              "      <td>Millennials</td>\n",
              "      <td>Oct</td>\n",
              "      <td>144</td>\n",
              "    </tr>\n",
              "    <tr>\n",
              "      <th>18</th>\n",
              "      <td>s19</td>\n",
              "      <td>Movie</td>\n",
              "      <td>15-Aug</td>\n",
              "      <td>Swapnaneel Jayakar</td>\n",
              "      <td>Rahul Pethe, Mrunmayee Deshpande, Adinath Koth...</td>\n",
              "      <td>India</td>\n",
              "      <td>March 29, 2019</td>\n",
              "      <td>2019</td>\n",
              "      <td>TV-14</td>\n",
              "      <td>Comedies, Dramas, Independent Movies</td>\n",
              "      <td>On India's Independence Day, a zany mishap in ...</td>\n",
              "      <td>GenZ</td>\n",
              "      <td>Mar</td>\n",
              "      <td>124</td>\n",
              "    </tr>\n",
              "    <tr>\n",
              "      <th>19</th>\n",
              "      <td>s20</td>\n",
              "      <td>Movie</td>\n",
              "      <td>'89</td>\n",
              "      <td>NaN</td>\n",
              "      <td>Lee Dixon, Ian Wright, Paul Merson</td>\n",
              "      <td>United Kingdom</td>\n",
              "      <td>May 16, 2018</td>\n",
              "      <td>2017</td>\n",
              "      <td>TV-PG</td>\n",
              "      <td>Sports Movies</td>\n",
              "      <td>Mixing old footage with interviews, this is th...</td>\n",
              "      <td>GenZ</td>\n",
              "      <td>May</td>\n",
              "      <td>87</td>\n",
              "    </tr>\n",
              "  </tbody>\n",
              "</table>\n",
              "</div>\n",
              "      <button class=\"colab-df-convert\" onclick=\"convertToInteractive('df-7f46389c-fbba-4bee-bc7a-99328e1b3608')\"\n",
              "              title=\"Convert this dataframe to an interactive table.\"\n",
              "              style=\"display:none;\">\n",
              "        \n",
              "  <svg xmlns=\"http://www.w3.org/2000/svg\" height=\"24px\"viewBox=\"0 0 24 24\"\n",
              "       width=\"24px\">\n",
              "    <path d=\"M0 0h24v24H0V0z\" fill=\"none\"/>\n",
              "    <path d=\"M18.56 5.44l.94 2.06.94-2.06 2.06-.94-2.06-.94-.94-2.06-.94 2.06-2.06.94zm-11 1L8.5 8.5l.94-2.06 2.06-.94-2.06-.94L8.5 2.5l-.94 2.06-2.06.94zm10 10l.94 2.06.94-2.06 2.06-.94-2.06-.94-.94-2.06-.94 2.06-2.06.94z\"/><path d=\"M17.41 7.96l-1.37-1.37c-.4-.4-.92-.59-1.43-.59-.52 0-1.04.2-1.43.59L10.3 9.45l-7.72 7.72c-.78.78-.78 2.05 0 2.83L4 21.41c.39.39.9.59 1.41.59.51 0 1.02-.2 1.41-.59l7.78-7.78 2.81-2.81c.8-.78.8-2.07 0-2.86zM5.41 20L4 18.59l7.72-7.72 1.47 1.35L5.41 20z\"/>\n",
              "  </svg>\n",
              "      </button>\n",
              "      \n",
              "  <style>\n",
              "    .colab-df-container {\n",
              "      display:flex;\n",
              "      flex-wrap:wrap;\n",
              "      gap: 12px;\n",
              "    }\n",
              "\n",
              "    .colab-df-convert {\n",
              "      background-color: #E8F0FE;\n",
              "      border: none;\n",
              "      border-radius: 50%;\n",
              "      cursor: pointer;\n",
              "      display: none;\n",
              "      fill: #1967D2;\n",
              "      height: 32px;\n",
              "      padding: 0 0 0 0;\n",
              "      width: 32px;\n",
              "    }\n",
              "\n",
              "    .colab-df-convert:hover {\n",
              "      background-color: #E2EBFA;\n",
              "      box-shadow: 0px 1px 2px rgba(60, 64, 67, 0.3), 0px 1px 3px 1px rgba(60, 64, 67, 0.15);\n",
              "      fill: #174EA6;\n",
              "    }\n",
              "\n",
              "    [theme=dark] .colab-df-convert {\n",
              "      background-color: #3B4455;\n",
              "      fill: #D2E3FC;\n",
              "    }\n",
              "\n",
              "    [theme=dark] .colab-df-convert:hover {\n",
              "      background-color: #434B5C;\n",
              "      box-shadow: 0px 1px 3px 1px rgba(0, 0, 0, 0.15);\n",
              "      filter: drop-shadow(0px 1px 2px rgba(0, 0, 0, 0.3));\n",
              "      fill: #FFFFFF;\n",
              "    }\n",
              "  </style>\n",
              "\n",
              "      <script>\n",
              "        const buttonEl =\n",
              "          document.querySelector('#df-7f46389c-fbba-4bee-bc7a-99328e1b3608 button.colab-df-convert');\n",
              "        buttonEl.style.display =\n",
              "          google.colab.kernel.accessAllowed ? 'block' : 'none';\n",
              "\n",
              "        async function convertToInteractive(key) {\n",
              "          const element = document.querySelector('#df-7f46389c-fbba-4bee-bc7a-99328e1b3608');\n",
              "          const dataTable =\n",
              "            await google.colab.kernel.invokeFunction('convertToInteractive',\n",
              "                                                     [key], {});\n",
              "          if (!dataTable) return;\n",
              "\n",
              "          const docLinkHtml = 'Like what you see? Visit the ' +\n",
              "            '<a target=\"_blank\" href=https://colab.research.google.com/notebooks/data_table.ipynb>data table notebook</a>'\n",
              "            + ' to learn more about interactive tables.';\n",
              "          element.innerHTML = '';\n",
              "          dataTable['output_type'] = 'display_data';\n",
              "          await google.colab.output.renderOutput(dataTable, element);\n",
              "          const docLink = document.createElement('div');\n",
              "          docLink.innerHTML = docLinkHtml;\n",
              "          element.appendChild(docLink);\n",
              "        }\n",
              "      </script>\n",
              "    </div>\n",
              "  </div>\n",
              "  "
            ]
          },
          "metadata": {},
          "execution_count": 86
        }
      ]
    },
    {
      "cell_type": "code",
      "source": [
        "from collections import Counter\n",
        "genre_count = Counter(genres)\n",
        "type(genre_count)"
      ],
      "metadata": {
        "colab": {
          "base_uri": "https://localhost:8080/"
        },
        "id": "VMBBKg_l6vPp",
        "outputId": "22cb9c51-a4e8-453d-c0c4-cea2c680ed44"
      },
      "execution_count": null,
      "outputs": [
        {
          "output_type": "execute_result",
          "data": {
            "text/plain": [
              "collections.Counter"
            ]
          },
          "metadata": {},
          "execution_count": 60
        }
      ]
    },
    {
      "cell_type": "code",
      "source": [
        "genre_count = sorted(dict(genre_count).items(), key=lambda x: x[1])"
      ],
      "metadata": {
        "id": "_2VzwEgi8Mib"
      },
      "execution_count": null,
      "outputs": []
    },
    {
      "cell_type": "code",
      "source": [
        "\n",
        "type(genre_count)"
      ],
      "metadata": {
        "colab": {
          "base_uri": "https://localhost:8080/"
        },
        "id": "PvEeiyvS9er_",
        "outputId": "3c6c2acb-a775-4bc1-bceb-602396957fe1"
      },
      "execution_count": null,
      "outputs": [
        {
          "output_type": "execute_result",
          "data": {
            "text/plain": [
              "list"
            ]
          },
          "metadata": {},
          "execution_count": 63
        }
      ]
    },
    {
      "cell_type": "code",
      "source": [
        "for i in genre_count:\n",
        "  y = i[0]\n",
        "  print(y)"
      ],
      "metadata": {
        "id": "JLi-A-UH-P79"
      },
      "execution_count": null,
      "outputs": []
    },
    {
      "cell_type": "code",
      "source": [
        "names = []\n",
        "values = []\n",
        "for i in genre_count:\n",
        "  names.append(i[0])\n",
        "  values.append(i[1])"
      ],
      "metadata": {
        "id": "ucWhW_PY9VXX"
      },
      "execution_count": null,
      "outputs": []
    },
    {
      "cell_type": "code",
      "source": [
        "color=['green','red', 'yellow', 'orange']\n",
        "plt.bar(names[-10:],values[-10:], color = color)\n",
        "plt.show()"
      ],
      "metadata": {
        "colab": {
          "base_uri": "https://localhost:8080/",
          "height": 401
        },
        "id": "4URamVBvAOU2",
        "outputId": "48d65b5a-1ccf-41a5-ef86-303a20e5d178"
      },
      "execution_count": null,
      "outputs": [
        {
          "output_type": "display_data",
          "data": {
            "text/plain": [
              "<Figure size 2160x576 with 1 Axes>"
            ],
            "image/png": "[encoded data removed]"
          },
          "metadata": {}
        }
      ]
    },
    {
      "cell_type": "markdown",
      "source": [
        "***International Movies is the most popular genre followed by Dramas on Netflix. The reason might be that the content was filmed outside of U.S or was filmed by third-party production studios.***"
      ],
      "metadata": {
        "id": "AMjCfy1dDFO7"
      }
    },
    {
      "cell_type": "code",
      "source": [
        "color=[ 'violet', 'green',  ,'red', 'yellow', 'orange']\n",
        "df1.listed_in.value_counts()[0:40].plot(kind = 'bar', figsize = (30,10),color=color)"
      ],
      "metadata": {
        "colab": {
          "base_uri": "https://localhost:8080/",
          "height": 825
        },
        "id": "BEImr3BJHMG6",
        "outputId": "c9fc828f-0785-4298-8759-ee62383fef1d"
      },
      "execution_count": null,
      "outputs": [
        {
          "output_type": "execute_result",
          "data": {
            "text/plain": [
              "<matplotlib.axes._subplots.AxesSubplot at 0x7f9983be8fa0>"
            ]
          },
          "metadata": {},
          "execution_count": 235
        },
        {
          "output_type": "display_data",
          "data": {
            "text/plain": [
              "<Figure size 2160x720 with 1 Axes>"
            ],
            "image/png": "[encoded data removed]"
          },
          "metadata": {}
        }
      ]
    },
    {
      "cell_type": "markdown",
      "source": [
        "***Top 40 genres of content across Netflix. Media count for  Documentaries, Stand-Up Comedy, Dramas and International Movies was the highest. People are more inclined towards documentaries because it has knowledgeable content and its a fun way to learn and on the other hand Stand-Up Comedy is a form of stress buster for the general audience***"
      ],
      "metadata": {
        "id": "XtUIqAWSR3qO"
      }
    },
    {
      "cell_type": "code",
      "source": [
        "data = df1[['title']]\n",
        "data['Filtered_data'] = (df1['description'] + ' ' + df1['listed_in']).astype(str)\n",
        "data.set_index('title', inplace = True)\n",
        "data.head()"
      ],
      "metadata": {
        "colab": {
          "base_uri": "https://localhost:8080/",
          "height": 237
        },
        "id": "yrjjOwgVRmLp",
        "outputId": "a5962e01-5ba0-492b-9695-1091714dbc4a"
      },
      "execution_count": null,
      "outputs": [
        {
          "output_type": "execute_result",
          "data": {
            "text/plain": [
              "                                           Filtered_data\n",
              "title                                                   \n",
              "3%     In a future where the elite inhabit an island ...\n",
              "7:19   After a devastating earthquake hits Mexico Cit...\n",
              "23:59  When an army recruit is found dead, his fellow...\n",
              "9      In a postapocalyptic world, rag-doll robots hi...\n",
              "21     A brilliant group of students become card-coun..."
            ],
            "text/html": [
              "\n",
              "  <div id=\"df-5ecb9d01-6f56-41fa-b272-80da0b427f15\">\n",
              "    <div class=\"colab-df-container\">\n",
              "      <div>\n",
              "<style scoped>\n",
              "    .dataframe tbody tr th:only-of-type {\n",
              "        vertical-align: middle;\n",
              "    }\n",
              "\n",
              "    .dataframe tbody tr th {\n",
              "        vertical-align: top;\n",
              "    }\n",
              "\n",
              "    .dataframe thead th {\n",
              "        text-align: right;\n",
              "    }\n",
              "</style>\n",
              "<table border=\"1\" class=\"dataframe\">\n",
              "  <thead>\n",
              "    <tr style=\"text-align: right;\">\n",
              "      <th></th>\n",
              "      <th>Filtered_data</th>\n",
              "    </tr>\n",
              "    <tr>\n",
              "      <th>title</th>\n",
              "      <th></th>\n",
              "    </tr>\n",
              "  </thead>\n",
              "  <tbody>\n",
              "    <tr>\n",
              "      <th>3%</th>\n",
              "      <td>In a future where the elite inhabit an island ...</td>\n",
              "    </tr>\n",
              "    <tr>\n",
              "      <th>7:19</th>\n",
              "      <td>After a devastating earthquake hits Mexico Cit...</td>\n",
              "    </tr>\n",
              "    <tr>\n",
              "      <th>23:59</th>\n",
              "      <td>When an army recruit is found dead, his fellow...</td>\n",
              "    </tr>\n",
              "    <tr>\n",
              "      <th>9</th>\n",
              "      <td>In a postapocalyptic world, rag-doll robots hi...</td>\n",
              "    </tr>\n",
              "    <tr>\n",
              "      <th>21</th>\n",
              "      <td>A brilliant group of students become card-coun...</td>\n",
              "    </tr>\n",
              "  </tbody>\n",
              "</table>\n",
              "</div>\n",
              "      <button class=\"colab-df-convert\" onclick=\"convertToInteractive('df-5ecb9d01-6f56-41fa-b272-80da0b427f15')\"\n",
              "              title=\"Convert this dataframe to an interactive table.\"\n",
              "              style=\"display:none;\">\n",
              "        \n",
              "  <svg xmlns=\"http://www.w3.org/2000/svg\" height=\"24px\"viewBox=\"0 0 24 24\"\n",
              "       width=\"24px\">\n",
              "    <path d=\"M0 0h24v24H0V0z\" fill=\"none\"/>\n",
              "    <path d=\"M18.56 5.44l.94 2.06.94-2.06 2.06-.94-2.06-.94-.94-2.06-.94 2.06-2.06.94zm-11 1L8.5 8.5l.94-2.06 2.06-.94-2.06-.94L8.5 2.5l-.94 2.06-2.06.94zm10 10l.94 2.06.94-2.06 2.06-.94-2.06-.94-.94-2.06-.94 2.06-2.06.94z\"/><path d=\"M17.41 7.96l-1.37-1.37c-.4-.4-.92-.59-1.43-.59-.52 0-1.04.2-1.43.59L10.3 9.45l-7.72 7.72c-.78.78-.78 2.05 0 2.83L4 21.41c.39.39.9.59 1.41.59.51 0 1.02-.2 1.41-.59l7.78-7.78 2.81-2.81c.8-.78.8-2.07 0-2.86zM5.41 20L4 18.59l7.72-7.72 1.47 1.35L5.41 20z\"/>\n",
              "  </svg>\n",
              "      </button>\n",
              "      \n",
              "  <style>\n",
              "    .colab-df-container {\n",
              "      display:flex;\n",
              "      flex-wrap:wrap;\n",
              "      gap: 12px;\n",
              "    }\n",
              "\n",
              "    .colab-df-convert {\n",
              "      background-color: #E8F0FE;\n",
              "      border: none;\n",
              "      border-radius: 50%;\n",
              "      cursor: pointer;\n",
              "      display: none;\n",
              "      fill: #1967D2;\n",
              "      height: 32px;\n",
              "      padding: 0 0 0 0;\n",
              "      width: 32px;\n",
              "    }\n",
              "\n",
              "    .colab-df-convert:hover {\n",
              "      background-color: #E2EBFA;\n",
              "      box-shadow: 0px 1px 2px rgba(60, 64, 67, 0.3), 0px 1px 3px 1px rgba(60, 64, 67, 0.15);\n",
              "      fill: #174EA6;\n",
              "    }\n",
              "\n",
              "    [theme=dark] .colab-df-convert {\n",
              "      background-color: #3B4455;\n",
              "      fill: #D2E3FC;\n",
              "    }\n",
              "\n",
              "    [theme=dark] .colab-df-convert:hover {\n",
              "      background-color: #434B5C;\n",
              "      box-shadow: 0px 1px 3px 1px rgba(0, 0, 0, 0.15);\n",
              "      filter: drop-shadow(0px 1px 2px rgba(0, 0, 0, 0.3));\n",
              "      fill: #FFFFFF;\n",
              "    }\n",
              "  </style>\n",
              "\n",
              "      <script>\n",
              "        const buttonEl =\n",
              "          document.querySelector('#df-5ecb9d01-6f56-41fa-b272-80da0b427f15 button.colab-df-convert');\n",
              "        buttonEl.style.display =\n",
              "          google.colab.kernel.accessAllowed ? 'block' : 'none';\n",
              "\n",
              "        async function convertToInteractive(key) {\n",
              "          const element = document.querySelector('#df-5ecb9d01-6f56-41fa-b272-80da0b427f15');\n",
              "          const dataTable =\n",
              "            await google.colab.kernel.invokeFunction('convertToInteractive',\n",
              "                                                     [key], {});\n",
              "          if (!dataTable) return;\n",
              "\n",
              "          const docLinkHtml = 'Like what you see? Visit the ' +\n",
              "            '<a target=\"_blank\" href=https://colab.research.google.com/notebooks/data_table.ipynb>data table notebook</a>'\n",
              "            + ' to learn more about interactive tables.';\n",
              "          element.innerHTML = '';\n",
              "          dataTable['output_type'] = 'display_data';\n",
              "          await google.colab.output.renderOutput(dataTable, element);\n",
              "          const docLink = document.createElement('div');\n",
              "          docLink.innerHTML = docLinkHtml;\n",
              "          element.appendChild(docLink);\n",
              "        }\n",
              "      </script>\n",
              "    </div>\n",
              "  </div>\n",
              "  "
            ]
          },
          "metadata": {},
          "execution_count": 89
        }
      ]
    },
    {
      "cell_type": "code",
      "source": [
        "def remove_punctuation(text):\n",
        "    '''a function for removing punctuation'''\n",
        "    import string\n",
        "    # replacing the punctuations with no space, \n",
        "    # which in effect deletes the punctuation marks \n",
        "    translator = str.maketrans('', '', string.punctuation)\n",
        "    # return the text stripped of punctuation marks\n",
        "    return text.translate(translator)"
      ],
      "metadata": {
        "id": "MM6_inDShAFW"
      },
      "execution_count": null,
      "outputs": []
    },
    {
      "cell_type": "code",
      "source": [
        "data['Filtered_data'] = data['Filtered_data'].apply(remove_punctuation)\n",
        "data.head(10)"
      ],
      "metadata": {
        "colab": {
          "base_uri": "https://localhost:8080/",
          "height": 394
        },
        "id": "cbvna_EBHA4u",
        "outputId": "20ef4843-21ca-420f-a9ee-6b45ea2756c4"
      },
      "execution_count": null,
      "outputs": [
        {
          "output_type": "execute_result",
          "data": {
            "text/plain": [
              "                                           Filtered_data\n",
              "title                                                   \n",
              "3%     In a future where the elite inhabit an island ...\n",
              "7:19   After a devastating earthquake hits Mexico Cit...\n",
              "23:59  When an army recruit is found dead his fellow ...\n",
              "9      In a postapocalyptic world ragdoll robots hide...\n",
              "21     A brilliant group of students become cardcount...\n",
              "46     A genetics professor experiments with a treatm...\n",
              "122    After an awful accident a couple admitted to a...\n",
              "187    After one of his high school students attacks ...\n",
              "706    When a doctor goes missing his psychiatrist wi...\n",
              "1920   An architect and his wife move into a castle t..."
            ],
            "text/html": [
              "\n",
              "  <div id=\"df-cfa9cbc6-48c2-461c-8c3c-1d82a81860e9\">\n",
              "    <div class=\"colab-df-container\">\n",
              "      <div>\n",
              "<style scoped>\n",
              "    .dataframe tbody tr th:only-of-type {\n",
              "        vertical-align: middle;\n",
              "    }\n",
              "\n",
              "    .dataframe tbody tr th {\n",
              "        vertical-align: top;\n",
              "    }\n",
              "\n",
              "    .dataframe thead th {\n",
              "        text-align: right;\n",
              "    }\n",
              "</style>\n",
              "<table border=\"1\" class=\"dataframe\">\n",
              "  <thead>\n",
              "    <tr style=\"text-align: right;\">\n",
              "      <th></th>\n",
              "      <th>Filtered_data</th>\n",
              "    </tr>\n",
              "    <tr>\n",
              "      <th>title</th>\n",
              "      <th></th>\n",
              "    </tr>\n",
              "  </thead>\n",
              "  <tbody>\n",
              "    <tr>\n",
              "      <th>3%</th>\n",
              "      <td>In a future where the elite inhabit an island ...</td>\n",
              "    </tr>\n",
              "    <tr>\n",
              "      <th>7:19</th>\n",
              "      <td>After a devastating earthquake hits Mexico Cit...</td>\n",
              "    </tr>\n",
              "    <tr>\n",
              "      <th>23:59</th>\n",
              "      <td>When an army recruit is found dead his fellow ...</td>\n",
              "    </tr>\n",
              "    <tr>\n",
              "      <th>9</th>\n",
              "      <td>In a postapocalyptic world ragdoll robots hide...</td>\n",
              "    </tr>\n",
              "    <tr>\n",
              "      <th>21</th>\n",
              "      <td>A brilliant group of students become cardcount...</td>\n",
              "    </tr>\n",
              "    <tr>\n",
              "      <th>46</th>\n",
              "      <td>A genetics professor experiments with a treatm...</td>\n",
              "    </tr>\n",
              "    <tr>\n",
              "      <th>122</th>\n",
              "      <td>After an awful accident a couple admitted to a...</td>\n",
              "    </tr>\n",
              "    <tr>\n",
              "      <th>187</th>\n",
              "      <td>After one of his high school students attacks ...</td>\n",
              "    </tr>\n",
              "    <tr>\n",
              "      <th>706</th>\n",
              "      <td>When a doctor goes missing his psychiatrist wi...</td>\n",
              "    </tr>\n",
              "    <tr>\n",
              "      <th>1920</th>\n",
              "      <td>An architect and his wife move into a castle t...</td>\n",
              "    </tr>\n",
              "  </tbody>\n",
              "</table>\n",
              "</div>\n",
              "      <button class=\"colab-df-convert\" onclick=\"convertToInteractive('df-cfa9cbc6-48c2-461c-8c3c-1d82a81860e9')\"\n",
              "              title=\"Convert this dataframe to an interactive table.\"\n",
              "              style=\"display:none;\">\n",
              "        \n",
              "  <svg xmlns=\"http://www.w3.org/2000/svg\" height=\"24px\"viewBox=\"0 0 24 24\"\n",
              "       width=\"24px\">\n",
              "    <path d=\"M0 0h24v24H0V0z\" fill=\"none\"/>\n",
              "    <path d=\"M18.56 5.44l.94 2.06.94-2.06 2.06-.94-2.06-.94-.94-2.06-.94 2.06-2.06.94zm-11 1L8.5 8.5l.94-2.06 2.06-.94-2.06-.94L8.5 2.5l-.94 2.06-2.06.94zm10 10l.94 2.06.94-2.06 2.06-.94-2.06-.94-.94-2.06-.94 2.06-2.06.94z\"/><path d=\"M17.41 7.96l-1.37-1.37c-.4-.4-.92-.59-1.43-.59-.52 0-1.04.2-1.43.59L10.3 9.45l-7.72 7.72c-.78.78-.78 2.05 0 2.83L4 21.41c.39.39.9.59 1.41.59.51 0 1.02-.2 1.41-.59l7.78-7.78 2.81-2.81c.8-.78.8-2.07 0-2.86zM5.41 20L4 18.59l7.72-7.72 1.47 1.35L5.41 20z\"/>\n",
              "  </svg>\n",
              "      </button>\n",
              "      \n",
              "  <style>\n",
              "    .colab-df-container {\n",
              "      display:flex;\n",
              "      flex-wrap:wrap;\n",
              "      gap: 12px;\n",
              "    }\n",
              "\n",
              "    .colab-df-convert {\n",
              "      background-color: #E8F0FE;\n",
              "      border: none;\n",
              "      border-radius: 50%;\n",
              "      cursor: pointer;\n",
              "      display: none;\n",
              "      fill: #1967D2;\n",
              "      height: 32px;\n",
              "      padding: 0 0 0 0;\n",
              "      width: 32px;\n",
              "    }\n",
              "\n",
              "    .colab-df-convert:hover {\n",
              "      background-color: #E2EBFA;\n",
              "      box-shadow: 0px 1px 2px rgba(60, 64, 67, 0.3), 0px 1px 3px 1px rgba(60, 64, 67, 0.15);\n",
              "      fill: #174EA6;\n",
              "    }\n",
              "\n",
              "    [theme=dark] .colab-df-convert {\n",
              "      background-color: #3B4455;\n",
              "      fill: #D2E3FC;\n",
              "    }\n",
              "\n",
              "    [theme=dark] .colab-df-convert:hover {\n",
              "      background-color: #434B5C;\n",
              "      box-shadow: 0px 1px 3px 1px rgba(0, 0, 0, 0.15);\n",
              "      filter: drop-shadow(0px 1px 2px rgba(0, 0, 0, 0.3));\n",
              "      fill: #FFFFFF;\n",
              "    }\n",
              "  </style>\n",
              "\n",
              "      <script>\n",
              "        const buttonEl =\n",
              "          document.querySelector('#df-cfa9cbc6-48c2-461c-8c3c-1d82a81860e9 button.colab-df-convert');\n",
              "        buttonEl.style.display =\n",
              "          google.colab.kernel.accessAllowed ? 'block' : 'none';\n",
              "\n",
              "        async function convertToInteractive(key) {\n",
              "          const element = document.querySelector('#df-cfa9cbc6-48c2-461c-8c3c-1d82a81860e9');\n",
              "          const dataTable =\n",
              "            await google.colab.kernel.invokeFunction('convertToInteractive',\n",
              "                                                     [key], {});\n",
              "          if (!dataTable) return;\n",
              "\n",
              "          const docLinkHtml = 'Like what you see? Visit the ' +\n",
              "            '<a target=\"_blank\" href=https://colab.research.google.com/notebooks/data_table.ipynb>data table notebook</a>'\n",
              "            + ' to learn more about interactive tables.';\n",
              "          element.innerHTML = '';\n",
              "          dataTable['output_type'] = 'display_data';\n",
              "          await google.colab.output.renderOutput(dataTable, element);\n",
              "          const docLink = document.createElement('div');\n",
              "          docLink.innerHTML = docLinkHtml;\n",
              "          element.appendChild(docLink);\n",
              "        }\n",
              "      </script>\n",
              "    </div>\n",
              "  </div>\n",
              "  "
            ]
          },
          "metadata": {},
          "execution_count": 90
        }
      ]
    },
    {
      "cell_type": "code",
      "source": [
        "\n",
        "import nltk\n",
        "nltk.download('stopwords')\n",
        "     \n"
      ],
      "metadata": {
        "colab": {
          "base_uri": "https://localhost:8080/"
        },
        "id": "rkkVLM9-HGZC",
        "outputId": "7d9e464c-a33d-42f3-9b85-a81402178923"
      },
      "execution_count": null,
      "outputs": [
        {
          "output_type": "stream",
          "name": "stderr",
          "text": [
            "[nltk_data] Downloading package stopwords to /root/nltk_data...\n",
            "[nltk_data]   Package stopwords is already up-to-date!\n"
          ]
        },
        {
          "output_type": "execute_result",
          "data": {
            "text/plain": [
              "True"
            ]
          },
          "metadata": {},
          "execution_count": 100
        }
      ]
    },
    {
      "cell_type": "code",
      "source": [
        "\n",
        "# extracting the stopwords from nltk library\n",
        "sw = nltk.corpus.stopwords.words('english')\n",
        "# displaying the stopwords\n",
        "np.array(sw)"
      ],
      "metadata": {
        "colab": {
          "base_uri": "https://localhost:8080/"
        },
        "id": "Phe5OWXcHMCp",
        "outputId": "010c3f74-bc6f-4a40-d3f3-3053279f5849"
      },
      "execution_count": null,
      "outputs": [
        {
          "output_type": "execute_result",
          "data": {
            "text/plain": [
              "array(['i', 'me', 'my', 'myself', 'we', 'our', 'ours', 'ourselves', 'you',\n",
              "       \"you're\", \"you've\", \"you'll\", \"you'd\", 'your', 'yours', 'yourself',\n",
              "       'yourselves', 'he', 'him', 'his', 'himself', 'she', \"she's\", 'her',\n",
              "       'hers', 'herself', 'it', \"it's\", 'its', 'itself', 'they', 'them',\n",
              "       'their', 'theirs', 'themselves', 'what', 'which', 'who', 'whom',\n",
              "       'this', 'that', \"that'll\", 'these', 'those', 'am', 'is', 'are',\n",
              "       'was', 'were', 'be', 'been', 'being', 'have', 'has', 'had',\n",
              "       'having', 'do', 'does', 'did', 'doing', 'a', 'an', 'the', 'and',\n",
              "       'but', 'if', 'or', 'because', 'as', 'until', 'while', 'of', 'at',\n",
              "       'by', 'for', 'with', 'about', 'against', 'between', 'into',\n",
              "       'through', 'during', 'before', 'after', 'above', 'below', 'to',\n",
              "       'from', 'up', 'down', 'in', 'out', 'on', 'off', 'over', 'under',\n",
              "       'again', 'further', 'then', 'once', 'here', 'there', 'when',\n",
              "       'where', 'why', 'how', 'all', 'any', 'both', 'each', 'few', 'more',\n",
              "       'most', 'other', 'some', 'such', 'no', 'nor', 'not', 'only', 'own',\n",
              "       'same', 'so', 'than', 'too', 'very', 's', 't', 'can', 'will',\n",
              "       'just', 'don', \"don't\", 'should', \"should've\", 'now', 'd', 'll',\n",
              "       'm', 'o', 're', 've', 'y', 'ain', 'aren', \"aren't\", 'couldn',\n",
              "       \"couldn't\", 'didn', \"didn't\", 'doesn', \"doesn't\", 'hadn', \"hadn't\",\n",
              "       'hasn', \"hasn't\", 'haven', \"haven't\", 'isn', \"isn't\", 'ma',\n",
              "       'mightn', \"mightn't\", 'mustn', \"mustn't\", 'needn', \"needn't\",\n",
              "       'shan', \"shan't\", 'shouldn', \"shouldn't\", 'wasn', \"wasn't\",\n",
              "       'weren', \"weren't\", 'won', \"won't\", 'wouldn', \"wouldn't\"],\n",
              "      dtype='<U10')"
            ]
          },
          "metadata": {},
          "execution_count": 102
        }
      ]
    },
    {
      "cell_type": "code",
      "source": [
        "print(\"Number of stopwords: \", len(sw))"
      ],
      "metadata": {
        "colab": {
          "base_uri": "https://localhost:8080/"
        },
        "id": "D1av-EkUHRkI",
        "outputId": "8290c048-8319-4f9f-9035-66c8faa6b432"
      },
      "execution_count": null,
      "outputs": [
        {
          "output_type": "stream",
          "name": "stdout",
          "text": [
            "Number of stopwords:  179\n"
          ]
        }
      ]
    },
    {
      "cell_type": "code",
      "source": [
        "def stopwords(text):\n",
        "    '''a function for removing the stopword'''\n",
        "    # removing the stop words and lowercasing the selected words\n",
        "    text = [word.lower() for word in text.split() if word.lower() not in sw]\n",
        "    # joining the list of words with space separator\n",
        "    return \" \".join(text)"
      ],
      "metadata": {
        "id": "tMBjJnR9IHPh"
      },
      "execution_count": null,
      "outputs": []
    },
    {
      "cell_type": "code",
      "source": [
        "data['Filtered_data'] = data['Filtered_data'].apply(stopwords)\n",
        "data.head(10)"
      ],
      "metadata": {
        "colab": {
          "base_uri": "https://localhost:8080/",
          "height": 394
        },
        "id": "t28kZLuAIJDw",
        "outputId": "deb8ed3c-b197-4975-ec46-7c8d14e8106c"
      },
      "execution_count": null,
      "outputs": [
        {
          "output_type": "execute_result",
          "data": {
            "text/plain": [
              "                                           Filtered_data\n",
              "title                                                   \n",
              "3%     future elite inhabit island paradise far crowd...\n",
              "7:19   devastating earthquake hits mexico city trappe...\n",
              "23:59  army recruit found dead fellow soldiers forced...\n",
              "9      postapocalyptic world ragdoll robots hide fear...\n",
              "21     brilliant group students become cardcounting e...\n",
              "46     genetics professor experiments treatment comat...\n",
              "122    awful accident couple admitted grisly hospital...\n",
              "187    one high school students attacks dedicated tea...\n",
              "706    doctor goes missing psychiatrist wife treats b...\n",
              "1920   architect wife move castle slated become luxur..."
            ],
            "text/html": [
              "\n",
              "  <div id=\"df-9d8c1607-caab-44fe-9a26-8c27f1395f18\">\n",
              "    <div class=\"colab-df-container\">\n",
              "      <div>\n",
              "<style scoped>\n",
              "    .dataframe tbody tr th:only-of-type {\n",
              "        vertical-align: middle;\n",
              "    }\n",
              "\n",
              "    .dataframe tbody tr th {\n",
              "        vertical-align: top;\n",
              "    }\n",
              "\n",
              "    .dataframe thead th {\n",
              "        text-align: right;\n",
              "    }\n",
              "</style>\n",
              "<table border=\"1\" class=\"dataframe\">\n",
              "  <thead>\n",
              "    <tr style=\"text-align: right;\">\n",
              "      <th></th>\n",
              "      <th>Filtered_data</th>\n",
              "    </tr>\n",
              "    <tr>\n",
              "      <th>title</th>\n",
              "      <th></th>\n",
              "    </tr>\n",
              "  </thead>\n",
              "  <tbody>\n",
              "    <tr>\n",
              "      <th>3%</th>\n",
              "      <td>future elite inhabit island paradise far crowd...</td>\n",
              "    </tr>\n",
              "    <tr>\n",
              "      <th>7:19</th>\n",
              "      <td>devastating earthquake hits mexico city trappe...</td>\n",
              "    </tr>\n",
              "    <tr>\n",
              "      <th>23:59</th>\n",
              "      <td>army recruit found dead fellow soldiers forced...</td>\n",
              "    </tr>\n",
              "    <tr>\n",
              "      <th>9</th>\n",
              "      <td>postapocalyptic world ragdoll robots hide fear...</td>\n",
              "    </tr>\n",
              "    <tr>\n",
              "      <th>21</th>\n",
              "      <td>brilliant group students become cardcounting e...</td>\n",
              "    </tr>\n",
              "    <tr>\n",
              "      <th>46</th>\n",
              "      <td>genetics professor experiments treatment comat...</td>\n",
              "    </tr>\n",
              "    <tr>\n",
              "      <th>122</th>\n",
              "      <td>awful accident couple admitted grisly hospital...</td>\n",
              "    </tr>\n",
              "    <tr>\n",
              "      <th>187</th>\n",
              "      <td>one high school students attacks dedicated tea...</td>\n",
              "    </tr>\n",
              "    <tr>\n",
              "      <th>706</th>\n",
              "      <td>doctor goes missing psychiatrist wife treats b...</td>\n",
              "    </tr>\n",
              "    <tr>\n",
              "      <th>1920</th>\n",
              "      <td>architect wife move castle slated become luxur...</td>\n",
              "    </tr>\n",
              "  </tbody>\n",
              "</table>\n",
              "</div>\n",
              "      <button class=\"colab-df-convert\" onclick=\"convertToInteractive('df-9d8c1607-caab-44fe-9a26-8c27f1395f18')\"\n",
              "              title=\"Convert this dataframe to an interactive table.\"\n",
              "              style=\"display:none;\">\n",
              "        \n",
              "  <svg xmlns=\"http://www.w3.org/2000/svg\" height=\"24px\"viewBox=\"0 0 24 24\"\n",
              "       width=\"24px\">\n",
              "    <path d=\"M0 0h24v24H0V0z\" fill=\"none\"/>\n",
              "    <path d=\"M18.56 5.44l.94 2.06.94-2.06 2.06-.94-2.06-.94-.94-2.06-.94 2.06-2.06.94zm-11 1L8.5 8.5l.94-2.06 2.06-.94-2.06-.94L8.5 2.5l-.94 2.06-2.06.94zm10 10l.94 2.06.94-2.06 2.06-.94-2.06-.94-.94-2.06-.94 2.06-2.06.94z\"/><path d=\"M17.41 7.96l-1.37-1.37c-.4-.4-.92-.59-1.43-.59-.52 0-1.04.2-1.43.59L10.3 9.45l-7.72 7.72c-.78.78-.78 2.05 0 2.83L4 21.41c.39.39.9.59 1.41.59.51 0 1.02-.2 1.41-.59l7.78-7.78 2.81-2.81c.8-.78.8-2.07 0-2.86zM5.41 20L4 18.59l7.72-7.72 1.47 1.35L5.41 20z\"/>\n",
              "  </svg>\n",
              "      </button>\n",
              "      \n",
              "  <style>\n",
              "    .colab-df-container {\n",
              "      display:flex;\n",
              "      flex-wrap:wrap;\n",
              "      gap: 12px;\n",
              "    }\n",
              "\n",
              "    .colab-df-convert {\n",
              "      background-color: #E8F0FE;\n",
              "      border: none;\n",
              "      border-radius: 50%;\n",
              "      cursor: pointer;\n",
              "      display: none;\n",
              "      fill: #1967D2;\n",
              "      height: 32px;\n",
              "      padding: 0 0 0 0;\n",
              "      width: 32px;\n",
              "    }\n",
              "\n",
              "    .colab-df-convert:hover {\n",
              "      background-color: #E2EBFA;\n",
              "      box-shadow: 0px 1px 2px rgba(60, 64, 67, 0.3), 0px 1px 3px 1px rgba(60, 64, 67, 0.15);\n",
              "      fill: #174EA6;\n",
              "    }\n",
              "\n",
              "    [theme=dark] .colab-df-convert {\n",
              "      background-color: #3B4455;\n",
              "      fill: #D2E3FC;\n",
              "    }\n",
              "\n",
              "    [theme=dark] .colab-df-convert:hover {\n",
              "      background-color: #434B5C;\n",
              "      box-shadow: 0px 1px 3px 1px rgba(0, 0, 0, 0.15);\n",
              "      filter: drop-shadow(0px 1px 2px rgba(0, 0, 0, 0.3));\n",
              "      fill: #FFFFFF;\n",
              "    }\n",
              "  </style>\n",
              "\n",
              "      <script>\n",
              "        const buttonEl =\n",
              "          document.querySelector('#df-9d8c1607-caab-44fe-9a26-8c27f1395f18 button.colab-df-convert');\n",
              "        buttonEl.style.display =\n",
              "          google.colab.kernel.accessAllowed ? 'block' : 'none';\n",
              "\n",
              "        async function convertToInteractive(key) {\n",
              "          const element = document.querySelector('#df-9d8c1607-caab-44fe-9a26-8c27f1395f18');\n",
              "          const dataTable =\n",
              "            await google.colab.kernel.invokeFunction('convertToInteractive',\n",
              "                                                     [key], {});\n",
              "          if (!dataTable) return;\n",
              "\n",
              "          const docLinkHtml = 'Like what you see? Visit the ' +\n",
              "            '<a target=\"_blank\" href=https://colab.research.google.com/notebooks/data_table.ipynb>data table notebook</a>'\n",
              "            + ' to learn more about interactive tables.';\n",
              "          element.innerHTML = '';\n",
              "          dataTable['output_type'] = 'display_data';\n",
              "          await google.colab.output.renderOutput(dataTable, element);\n",
              "          const docLink = document.createElement('div');\n",
              "          docLink.innerHTML = docLinkHtml;\n",
              "          element.appendChild(docLink);\n",
              "        }\n",
              "      </script>\n",
              "    </div>\n",
              "  </div>\n",
              "  "
            ]
          },
          "metadata": {},
          "execution_count": 105
        }
      ]
    },
    {
      "cell_type": "code",
      "source": [
        "# create a count vectorizer object\n",
        "count_vectorizer = CountVectorizer()\n",
        "# fit the count vectorizer using the text data\n",
        "count_vectorizer.fit(data['Filtered_data'])\n",
        "# collect the vocabulary items used in the vectorizer\n",
        "dictionary = count_vectorizer.vocabulary_.items()"
      ],
      "metadata": {
        "id": "4dHDzRuUIQ4f"
      },
      "execution_count": null,
      "outputs": []
    },
    {
      "cell_type": "code",
      "source": [
        "# lists to store the vocab and counts\n",
        "vocab = []\n",
        "count = []\n",
        "# iterate through each vocab and count append the value to designated lists\n",
        "for key, value in dictionary:\n",
        "    vocab.append(key)\n",
        "    count.append(value)\n",
        "# store the count in panadas dataframe with vocab as index\n",
        "vocab_bef_stem = pd.Series(count, index=vocab)\n",
        "# sort the dataframe\n",
        "vocab_before_stem = vocab_bef_stem.sort_values(ascending=False)"
      ],
      "metadata": {
        "id": "-6YPHsG1IUYc"
      },
      "execution_count": null,
      "outputs": []
    },
    {
      "cell_type": "code",
      "source": [
        "top_vacab = vocab_before_stem.head(20)\n",
        "top_vacab.plot(kind = 'barh', figsize = (15,10),xlim = (14210, 14235))"
      ],
      "metadata": {
        "colab": {
          "base_uri": "https://localhost:8080/",
          "height": 612
        },
        "id": "hBWYPZ81KBxX",
        "outputId": "89c5bbc4-1a4c-40fc-8e01-a126855352e2"
      },
      "execution_count": null,
      "outputs": [
        {
          "output_type": "execute_result",
          "data": {
            "text/plain": [
              "<matplotlib.axes._subplots.AxesSubplot at 0x7f6cfdb53970>"
            ]
          },
          "metadata": {},
          "execution_count": 157
        },
        {
          "output_type": "display_data",
          "data": {
            "text/plain": [
              "<Figure size 1080x720 with 1 Axes>"
            ],
            "image/png": "[encoded data removed]"
          },
          "metadata": {
            "needs_background": "light"
          }
        }
      ]
    },
    {
      "cell_type": "code",
      "source": [
        "top_vacab = vocab_before_stem.tail(20)\n",
        "top_vacab.plot(kind = 'barh', figsize = (15,10),)"
      ],
      "metadata": {
        "colab": {
          "base_uri": "https://localhost:8080/",
          "height": 612
        },
        "id": "I8czUdviIv-D",
        "outputId": "e01225bd-41ab-4bd2-fce4-5ec4272a78d8"
      },
      "execution_count": null,
      "outputs": [
        {
          "output_type": "execute_result",
          "data": {
            "text/plain": [
              "<matplotlib.axes._subplots.AxesSubplot at 0x7f6cfe4ad970>"
            ]
          },
          "metadata": {},
          "execution_count": 141
        },
        {
          "output_type": "display_data",
          "data": {
            "text/plain": [
              "<Figure size 1080x720 with 1 Axes>"
            ],
            "image/png": "[encoded data removed]"
          },
          "metadata": {
            "needs_background": "light"
          }
        }
      ]
    },
    {
      "cell_type": "code",
      "source": [
        "# create an object of stemming function\n",
        "stemmer = SnowballStemmer(\"english\")\n",
        "\n",
        "def stemming(text):    \n",
        "    '''a function which stems each word in the given text'''\n",
        "    text = [stemmer.stem(word) for word in text.split()]\n",
        "    return \" \".join(text) "
      ],
      "metadata": {
        "id": "7Eb5F5CTIyul"
      },
      "execution_count": null,
      "outputs": []
    },
    {
      "cell_type": "code",
      "source": [
        "data['Filtered_data'] = data['Filtered_data'].apply(stemming)\n",
        "data.head(10)"
      ],
      "metadata": {
        "colab": {
          "base_uri": "https://localhost:8080/",
          "height": 394
        },
        "id": "_tIgnLIWKsEX",
        "outputId": "c77b83a8-4230-4224-fca1-afc190c12d22"
      },
      "execution_count": null,
      "outputs": [
        {
          "output_type": "execute_result",
          "data": {
            "text/plain": [
              "                                           Filtered_data\n",
              "title                                                   \n",
              "3%     futur elit inhabit island paradis far crowd sl...\n",
              "7:19   devast earthquak hit mexico citi trap survivor...\n",
              "23:59  armi recruit found dead fellow soldier forc co...\n",
              "9      postapocalypt world ragdol robot hide fear dan...\n",
              "21     brilliant group student becom cardcount expert...\n",
              "46     genet professor experi treatment comatos siste...\n",
              "122    aw accid coupl admit grisli hospit separ must ...\n",
              "187    one high school student attack dedic teacher t...\n",
              "706    doctor goe miss psychiatrist wife treat bizarr...\n",
              "1920   architect wife move castl slate becom luxuri h..."
            ],
            "text/html": [
              "\n",
              "  <div id=\"df-13876ecd-d07d-48af-bf8c-ebec1c2e8103\">\n",
              "    <div class=\"colab-df-container\">\n",
              "      <div>\n",
              "<style scoped>\n",
              "    .dataframe tbody tr th:only-of-type {\n",
              "        vertical-align: middle;\n",
              "    }\n",
              "\n",
              "    .dataframe tbody tr th {\n",
              "        vertical-align: top;\n",
              "    }\n",
              "\n",
              "    .dataframe thead th {\n",
              "        text-align: right;\n",
              "    }\n",
              "</style>\n",
              "<table border=\"1\" class=\"dataframe\">\n",
              "  <thead>\n",
              "    <tr style=\"text-align: right;\">\n",
              "      <th></th>\n",
              "      <th>Filtered_data</th>\n",
              "    </tr>\n",
              "    <tr>\n",
              "      <th>title</th>\n",
              "      <th></th>\n",
              "    </tr>\n",
              "  </thead>\n",
              "  <tbody>\n",
              "    <tr>\n",
              "      <th>3%</th>\n",
              "      <td>futur elit inhabit island paradis far crowd sl...</td>\n",
              "    </tr>\n",
              "    <tr>\n",
              "      <th>7:19</th>\n",
              "      <td>devast earthquak hit mexico citi trap survivor...</td>\n",
              "    </tr>\n",
              "    <tr>\n",
              "      <th>23:59</th>\n",
              "      <td>armi recruit found dead fellow soldier forc co...</td>\n",
              "    </tr>\n",
              "    <tr>\n",
              "      <th>9</th>\n",
              "      <td>postapocalypt world ragdol robot hide fear dan...</td>\n",
              "    </tr>\n",
              "    <tr>\n",
              "      <th>21</th>\n",
              "      <td>brilliant group student becom cardcount expert...</td>\n",
              "    </tr>\n",
              "    <tr>\n",
              "      <th>46</th>\n",
              "      <td>genet professor experi treatment comatos siste...</td>\n",
              "    </tr>\n",
              "    <tr>\n",
              "      <th>122</th>\n",
              "      <td>aw accid coupl admit grisli hospit separ must ...</td>\n",
              "    </tr>\n",
              "    <tr>\n",
              "      <th>187</th>\n",
              "      <td>one high school student attack dedic teacher t...</td>\n",
              "    </tr>\n",
              "    <tr>\n",
              "      <th>706</th>\n",
              "      <td>doctor goe miss psychiatrist wife treat bizarr...</td>\n",
              "    </tr>\n",
              "    <tr>\n",
              "      <th>1920</th>\n",
              "      <td>architect wife move castl slate becom luxuri h...</td>\n",
              "    </tr>\n",
              "  </tbody>\n",
              "</table>\n",
              "</div>\n",
              "      <button class=\"colab-df-convert\" onclick=\"convertToInteractive('df-13876ecd-d07d-48af-bf8c-ebec1c2e8103')\"\n",
              "              title=\"Convert this dataframe to an interactive table.\"\n",
              "              style=\"display:none;\">\n",
              "        \n",
              "  <svg xmlns=\"http://www.w3.org/2000/svg\" height=\"24px\"viewBox=\"0 0 24 24\"\n",
              "       width=\"24px\">\n",
              "    <path d=\"M0 0h24v24H0V0z\" fill=\"none\"/>\n",
              "    <path d=\"M18.56 5.44l.94 2.06.94-2.06 2.06-.94-2.06-.94-.94-2.06-.94 2.06-2.06.94zm-11 1L8.5 8.5l.94-2.06 2.06-.94-2.06-.94L8.5 2.5l-.94 2.06-2.06.94zm10 10l.94 2.06.94-2.06 2.06-.94-2.06-.94-.94-2.06-.94 2.06-2.06.94z\"/><path d=\"M17.41 7.96l-1.37-1.37c-.4-.4-.92-.59-1.43-.59-.52 0-1.04.2-1.43.59L10.3 9.45l-7.72 7.72c-.78.78-.78 2.05 0 2.83L4 21.41c.39.39.9.59 1.41.59.51 0 1.02-.2 1.41-.59l7.78-7.78 2.81-2.81c.8-.78.8-2.07 0-2.86zM5.41 20L4 18.59l7.72-7.72 1.47 1.35L5.41 20z\"/>\n",
              "  </svg>\n",
              "      </button>\n",
              "      \n",
              "  <style>\n",
              "    .colab-df-container {\n",
              "      display:flex;\n",
              "      flex-wrap:wrap;\n",
              "      gap: 12px;\n",
              "    }\n",
              "\n",
              "    .colab-df-convert {\n",
              "      background-color: #E8F0FE;\n",
              "      border: none;\n",
              "      border-radius: 50%;\n",
              "      cursor: pointer;\n",
              "      display: none;\n",
              "      fill: #1967D2;\n",
              "      height: 32px;\n",
              "      padding: 0 0 0 0;\n",
              "      width: 32px;\n",
              "    }\n",
              "\n",
              "    .colab-df-convert:hover {\n",
              "      background-color: #E2EBFA;\n",
              "      box-shadow: 0px 1px 2px rgba(60, 64, 67, 0.3), 0px 1px 3px 1px rgba(60, 64, 67, 0.15);\n",
              "      fill: #174EA6;\n",
              "    }\n",
              "\n",
              "    [theme=dark] .colab-df-convert {\n",
              "      background-color: #3B4455;\n",
              "      fill: #D2E3FC;\n",
              "    }\n",
              "\n",
              "    [theme=dark] .colab-df-convert:hover {\n",
              "      background-color: #434B5C;\n",
              "      box-shadow: 0px 1px 3px 1px rgba(0, 0, 0, 0.15);\n",
              "      filter: drop-shadow(0px 1px 2px rgba(0, 0, 0, 0.3));\n",
              "      fill: #FFFFFF;\n",
              "    }\n",
              "  </style>\n",
              "\n",
              "      <script>\n",
              "        const buttonEl =\n",
              "          document.querySelector('#df-13876ecd-d07d-48af-bf8c-ebec1c2e8103 button.colab-df-convert');\n",
              "        buttonEl.style.display =\n",
              "          google.colab.kernel.accessAllowed ? 'block' : 'none';\n",
              "\n",
              "        async function convertToInteractive(key) {\n",
              "          const element = document.querySelector('#df-13876ecd-d07d-48af-bf8c-ebec1c2e8103');\n",
              "          const dataTable =\n",
              "            await google.colab.kernel.invokeFunction('convertToInteractive',\n",
              "                                                     [key], {});\n",
              "          if (!dataTable) return;\n",
              "\n",
              "          const docLinkHtml = 'Like what you see? Visit the ' +\n",
              "            '<a target=\"_blank\" href=https://colab.research.google.com/notebooks/data_table.ipynb>data table notebook</a>'\n",
              "            + ' to learn more about interactive tables.';\n",
              "          element.innerHTML = '';\n",
              "          dataTable['output_type'] = 'display_data';\n",
              "          await google.colab.output.renderOutput(dataTable, element);\n",
              "          const docLink = document.createElement('div');\n",
              "          docLink.innerHTML = docLinkHtml;\n",
              "          element.appendChild(docLink);\n",
              "        }\n",
              "      </script>\n",
              "    </div>\n",
              "  </div>\n",
              "  "
            ]
          },
          "metadata": {},
          "execution_count": 124
        }
      ]
    },
    {
      "cell_type": "code",
      "source": [
        "# create the object of tfid vectorizer\n",
        "tfid_vectorizer = TfidfVectorizer()\n",
        "\n",
        "# fit the vectorizer using the text data\n",
        "tfid_vectorizer.fit(data['Filtered_data'])\n",
        "\n",
        "# collect the vocabulary items used in the vectorizer\n",
        "dictionary = tfid_vectorizer.vocabulary_.items()"
      ],
      "metadata": {
        "id": "Rw-i9jJZK0R_"
      },
      "execution_count": null,
      "outputs": []
    },
    {
      "cell_type": "code",
      "source": [
        "# lists to store the vocab and counts\n",
        "vocab = []\n",
        "count = []\n",
        "# iterate through each vocab and count append the value to designated lists\n",
        "for key, value in dictionary:\n",
        "    vocab.append(key)\n",
        "    count.append(value)\n",
        "# store the count in panadas dataframe with vocab as index\n",
        "vocab_after_stem = pd.Series(count, index=vocab)\n",
        "# sort the dataframe\n",
        "vocab_after_stem = vocab_after_stem.sort_values(ascending=False)\n",
        "# plot of the top vocab\n",
        "top_vacab = vocab_after_stem.head(20)\n",
        "top_vacab.plot(kind = 'barh', figsize=(15,10),xlim = (14213, 14235))\n"
      ],
      "metadata": {
        "colab": {
          "base_uri": "https://localhost:8080/",
          "height": 612
        },
        "id": "F4Zhn3NWLHYH",
        "outputId": "aaf1c45b-09aa-49a9-85db-5599ff6243c1"
      },
      "execution_count": null,
      "outputs": [
        {
          "output_type": "execute_result",
          "data": {
            "text/plain": [
              "<matplotlib.axes._subplots.AxesSubplot at 0x7f6cfdcfd6a0>"
            ]
          },
          "metadata": {},
          "execution_count": 154
        },
        {
          "output_type": "display_data",
          "data": {
            "text/plain": [
              "<Figure size 1080x720 with 1 Axes>"
            ],
            "image/png": "[encoded data removed]"
          },
          "metadata": {
            "needs_background": "light"
          }
        }
      ]
    },
    {
      "cell_type": "code",
      "source": [
        "def length(text):    \n",
        "    '''a function which returns the length of text'''\n",
        "    return len(text)"
      ],
      "metadata": {
        "id": "jb-U7RUcLV-t"
      },
      "execution_count": null,
      "outputs": []
    },
    {
      "cell_type": "code",
      "source": [
        "data['length_of_description_and_listed_IN'] = data['Filtered_data'].apply(length)\n",
        "data.head(10)"
      ],
      "metadata": {
        "colab": {
          "base_uri": "https://localhost:8080/",
          "height": 394
        },
        "id": "kmImTgitLhKc",
        "outputId": "8dcd8211-48eb-4e1b-d3af-dfa401a542f6"
      },
      "execution_count": 158,
      "outputs": [
        {
          "output_type": "execute_result",
          "data": {
            "text/plain": [
              "                                           Filtered_data  length  \\\n",
              "title                                                              \n",
              "3%     futur elit inhabit island paradis far crowd sl...     123   \n",
              "7:19   devast earthquak hit mexico citi trap survivor...     106   \n",
              "23:59  armi recruit found dead fellow soldier forc co...     126   \n",
              "9      postapocalypt world ragdol robot hide fear dan...     133   \n",
              "21     brilliant group student becom cardcount expert...     105   \n",
              "46     genet professor experi treatment comatos siste...     131   \n",
              "122    aw accid coupl admit grisli hospit separ must ...      93   \n",
              "187    one high school student attack dedic teacher t...     170   \n",
              "706    doctor goe miss psychiatrist wife treat bizarr...     118   \n",
              "1920   architect wife move castl slate becom luxuri h...     116   \n",
              "\n",
              "       length_of_description_and_listed_IN  \n",
              "title                                       \n",
              "3%                                     123  \n",
              "7:19                                   106  \n",
              "23:59                                  126  \n",
              "9                                      133  \n",
              "21                                     105  \n",
              "46                                     131  \n",
              "122                                     93  \n",
              "187                                    170  \n",
              "706                                    118  \n",
              "1920                                   116  "
            ],
            "text/html": [
              "\n",
              "  <div id=\"df-bafd85e1-5e12-4b58-8f75-ce0c49501af3\">\n",
              "    <div class=\"colab-df-container\">\n",
              "      <div>\n",
              "<style scoped>\n",
              "    .dataframe tbody tr th:only-of-type {\n",
              "        vertical-align: middle;\n",
              "    }\n",
              "\n",
              "    .dataframe tbody tr th {\n",
              "        vertical-align: top;\n",
              "    }\n",
              "\n",
              "    .dataframe thead th {\n",
              "        text-align: right;\n",
              "    }\n",
              "</style>\n",
              "<table border=\"1\" class=\"dataframe\">\n",
              "  <thead>\n",
              "    <tr style=\"text-align: right;\">\n",
              "      <th></th>\n",
              "      <th>Filtered_data</th>\n",
              "      <th>length</th>\n",
              "      <th>length_of_description_and_listed_IN</th>\n",
              "    </tr>\n",
              "    <tr>\n",
              "      <th>title</th>\n",
              "      <th></th>\n",
              "      <th></th>\n",
              "      <th></th>\n",
              "    </tr>\n",
              "  </thead>\n",
              "  <tbody>\n",
              "    <tr>\n",
              "      <th>3%</th>\n",
              "      <td>futur elit inhabit island paradis far crowd sl...</td>\n",
              "      <td>123</td>\n",
              "      <td>123</td>\n",
              "    </tr>\n",
              "    <tr>\n",
              "      <th>7:19</th>\n",
              "      <td>devast earthquak hit mexico citi trap survivor...</td>\n",
              "      <td>106</td>\n",
              "      <td>106</td>\n",
              "    </tr>\n",
              "    <tr>\n",
              "      <th>23:59</th>\n",
              "      <td>armi recruit found dead fellow soldier forc co...</td>\n",
              "      <td>126</td>\n",
              "      <td>126</td>\n",
              "    </tr>\n",
              "    <tr>\n",
              "      <th>9</th>\n",
              "      <td>postapocalypt world ragdol robot hide fear dan...</td>\n",
              "      <td>133</td>\n",
              "      <td>133</td>\n",
              "    </tr>\n",
              "    <tr>\n",
              "      <th>21</th>\n",
              "      <td>brilliant group student becom cardcount expert...</td>\n",
              "      <td>105</td>\n",
              "      <td>105</td>\n",
              "    </tr>\n",
              "    <tr>\n",
              "      <th>46</th>\n",
              "      <td>genet professor experi treatment comatos siste...</td>\n",
              "      <td>131</td>\n",
              "      <td>131</td>\n",
              "    </tr>\n",
              "    <tr>\n",
              "      <th>122</th>\n",
              "      <td>aw accid coupl admit grisli hospit separ must ...</td>\n",
              "      <td>93</td>\n",
              "      <td>93</td>\n",
              "    </tr>\n",
              "    <tr>\n",
              "      <th>187</th>\n",
              "      <td>one high school student attack dedic teacher t...</td>\n",
              "      <td>170</td>\n",
              "      <td>170</td>\n",
              "    </tr>\n",
              "    <tr>\n",
              "      <th>706</th>\n",
              "      <td>doctor goe miss psychiatrist wife treat bizarr...</td>\n",
              "      <td>118</td>\n",
              "      <td>118</td>\n",
              "    </tr>\n",
              "    <tr>\n",
              "      <th>1920</th>\n",
              "      <td>architect wife move castl slate becom luxuri h...</td>\n",
              "      <td>116</td>\n",
              "      <td>116</td>\n",
              "    </tr>\n",
              "  </tbody>\n",
              "</table>\n",
              "</div>\n",
              "      <button class=\"colab-df-convert\" onclick=\"convertToInteractive('df-bafd85e1-5e12-4b58-8f75-ce0c49501af3')\"\n",
              "              title=\"Convert this dataframe to an interactive table.\"\n",
              "              style=\"display:none;\">\n",
              "        \n",
              "  <svg xmlns=\"http://www.w3.org/2000/svg\" height=\"24px\"viewBox=\"0 0 24 24\"\n",
              "       width=\"24px\">\n",
              "    <path d=\"M0 0h24v24H0V0z\" fill=\"none\"/>\n",
              "    <path d=\"M18.56 5.44l.94 2.06.94-2.06 2.06-.94-2.06-.94-.94-2.06-.94 2.06-2.06.94zm-11 1L8.5 8.5l.94-2.06 2.06-.94-2.06-.94L8.5 2.5l-.94 2.06-2.06.94zm10 10l.94 2.06.94-2.06 2.06-.94-2.06-.94-.94-2.06-.94 2.06-2.06.94z\"/><path d=\"M17.41 7.96l-1.37-1.37c-.4-.4-.92-.59-1.43-.59-.52 0-1.04.2-1.43.59L10.3 9.45l-7.72 7.72c-.78.78-.78 2.05 0 2.83L4 21.41c.39.39.9.59 1.41.59.51 0 1.02-.2 1.41-.59l7.78-7.78 2.81-2.81c.8-.78.8-2.07 0-2.86zM5.41 20L4 18.59l7.72-7.72 1.47 1.35L5.41 20z\"/>\n",
              "  </svg>\n",
              "      </button>\n",
              "      \n",
              "  <style>\n",
              "    .colab-df-container {\n",
              "      display:flex;\n",
              "      flex-wrap:wrap;\n",
              "      gap: 12px;\n",
              "    }\n",
              "\n",
              "    .colab-df-convert {\n",
              "      background-color: #E8F0FE;\n",
              "      border: none;\n",
              "      border-radius: 50%;\n",
              "      cursor: pointer;\n",
              "      display: none;\n",
              "      fill: #1967D2;\n",
              "      height: 32px;\n",
              "      padding: 0 0 0 0;\n",
              "      width: 32px;\n",
              "    }\n",
              "\n",
              "    .colab-df-convert:hover {\n",
              "      background-color: #E2EBFA;\n",
              "      box-shadow: 0px 1px 2px rgba(60, 64, 67, 0.3), 0px 1px 3px 1px rgba(60, 64, 67, 0.15);\n",
              "      fill: #174EA6;\n",
              "    }\n",
              "\n",
              "    [theme=dark] .colab-df-convert {\n",
              "      background-color: #3B4455;\n",
              "      fill: #D2E3FC;\n",
              "    }\n",
              "\n",
              "    [theme=dark] .colab-df-convert:hover {\n",
              "      background-color: #434B5C;\n",
              "      box-shadow: 0px 1px 3px 1px rgba(0, 0, 0, 0.15);\n",
              "      filter: drop-shadow(0px 1px 2px rgba(0, 0, 0, 0.3));\n",
              "      fill: #FFFFFF;\n",
              "    }\n",
              "  </style>\n",
              "\n",
              "      <script>\n",
              "        const buttonEl =\n",
              "          document.querySelector('#df-bafd85e1-5e12-4b58-8f75-ce0c49501af3 button.colab-df-convert');\n",
              "        buttonEl.style.display =\n",
              "          google.colab.kernel.accessAllowed ? 'block' : 'none';\n",
              "\n",
              "        async function convertToInteractive(key) {\n",
              "          const element = document.querySelector('#df-bafd85e1-5e12-4b58-8f75-ce0c49501af3');\n",
              "          const dataTable =\n",
              "            await google.colab.kernel.invokeFunction('convertToInteractive',\n",
              "                                                     [key], {});\n",
              "          if (!dataTable) return;\n",
              "\n",
              "          const docLinkHtml = 'Like what you see? Visit the ' +\n",
              "            '<a target=\"_blank\" href=https://colab.research.google.com/notebooks/data_table.ipynb>data table notebook</a>'\n",
              "            + ' to learn more about interactive tables.';\n",
              "          element.innerHTML = '';\n",
              "          dataTable['output_type'] = 'display_data';\n",
              "          await google.colab.output.renderOutput(dataTable, element);\n",
              "          const docLink = document.createElement('div');\n",
              "          docLink.innerHTML = docLinkHtml;\n",
              "          element.appendChild(docLink);\n",
              "        }\n",
              "      </script>\n",
              "    </div>\n",
              "  </div>\n",
              "  "
            ]
          },
          "metadata": {},
          "execution_count": 158
        }
      ]
    },
    {
      "cell_type": "code",
      "source": [],
      "metadata": {
        "id": "RmAIApcXLitt"
      },
      "execution_count": null,
      "outputs": []
    }
  ]
}